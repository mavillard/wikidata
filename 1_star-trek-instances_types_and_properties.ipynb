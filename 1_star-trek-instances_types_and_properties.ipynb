{
 "cells": [
  {
   "cell_type": "code",
   "execution_count": 1,
   "metadata": {
    "collapsed": false
   },
   "outputs": [],
   "source": [
    "import json\n",
    "import pickle\n",
    "from collections import defaultdict\n",
    "\n",
    "import networkx as nx\n",
    "import requests"
   ]
  },
  {
   "cell_type": "code",
   "execution_count": 2,
   "metadata": {
    "collapsed": false
   },
   "outputs": [],
   "source": [
    "visited = set()\n",
    "\n",
    "def add_to_hierarchy(c):\n",
    "    if c not in visited:\n",
    "        hierarchy.add_node(c)\n",
    "        base_url = 'https://www.wikidata.org/w/api.php'\n",
    "        payload = {'action': 'wbgetentities', 'ids': c, 'languages': 'en', 'format': 'json'}\n",
    "        r = requests.get(base_url, params=payload)\n",
    "        response = r.json()\n",
    "        d = response['entities'][c]\n",
    "        if 'claims' in d and 'P279' in d['claims']:\n",
    "            for rel_inst in d['claims']['P279']:\n",
    "                if 'datavalue' in rel_inst['mainsnak']:\n",
    "                    super_c = 'Q' + str(rel_inst['mainsnak']['datavalue']['value']['numeric-id'])\n",
    "                    hierarchy.add_node(super_c)\n",
    "                    hierarchy.add_edge(c, super_c, {'type': 'is_subclass_of'})\n",
    "                    hierarchy.add_edge(super_c, c, {'type': 'is_superclass_of'})\n",
    "                    add_to_hierarchy(super_c)\n",
    "        visited.add(c)"
   ]
  },
  {
   "cell_type": "code",
   "execution_count": 3,
   "metadata": {
    "collapsed": false
   },
   "outputs": [],
   "source": [
    "all_properties_set = set() # all properties: relationships and attributes\n",
    "all_types_set = set() # all types of instances\n",
    "all_instances_set = set() # all instances\n",
    "all_instances_and_types_dict = defaultdict(set) # all instances and their types\n",
    "hierarchy = nx.DiGraph() # full type hierarchy"
   ]
  },
  {
   "cell_type": "code",
   "execution_count": 4,
   "metadata": {
    "collapsed": false
   },
   "outputs": [
    {
     "name": "stdout",
     "output_type": "stream",
     "text": [
      "Total: 1630\n",
      "Count: 1628\n",
      "Error: 2\n",
      "CPU times: user 7.77 s, sys: 319 ms, total: 8.09 s\n",
      "Wall time: 1min 1s\n"
     ]
    }
   ],
   "source": [
    "%%time\n",
    "\n",
    "total = 0\n",
    "count = 0\n",
    "error = 0\n",
    "with open('data/wikidata-20150907-star_trek.json') as f:\n",
    "    for line in f:\n",
    "        try:\n",
    "            total += 1\n",
    "            cleaned = line.strip()[:-1]\n",
    "            d = json.loads(cleaned)\n",
    "            ide = d['id']\n",
    "            all_instances_set.add(ide)\n",
    "            for prop in d['claims']:\n",
    "                all_properties_set.add(prop)\n",
    "                if prop == 'P31':\n",
    "                    for prop_inst in d['claims']['P31']:\n",
    "                        value = 'Q' + str(prop_inst['mainsnak']['datavalue']['value']['numeric-id'])\n",
    "                        all_types_set.add(value)\n",
    "                        all_instances_and_types_dict[ide].add(value)\n",
    "                        add_to_hierarchy(value)\n",
    "            count += 1\n",
    "        except Exception as e:\n",
    "            error += 1\n",
    "print('Total:', total)\n",
    "print('Count:', count)\n",
    "print('Error:', error)"
   ]
  },
  {
   "cell_type": "code",
   "execution_count": 5,
   "metadata": {
    "collapsed": false
   },
   "outputs": [
    {
     "data": {
      "text/plain": [
       "177"
      ]
     },
     "execution_count": 5,
     "metadata": {},
     "output_type": "execute_result"
    }
   ],
   "source": [
    "len(all_properties_set)"
   ]
  },
  {
   "cell_type": "code",
   "execution_count": 6,
   "metadata": {
    "collapsed": false
   },
   "outputs": [
    {
     "data": {
      "text/plain": [
       "67"
      ]
     },
     "execution_count": 6,
     "metadata": {},
     "output_type": "execute_result"
    }
   ],
   "source": [
    "len(all_types_set)"
   ]
  },
  {
   "cell_type": "code",
   "execution_count": 7,
   "metadata": {
    "collapsed": false
   },
   "outputs": [
    {
     "data": {
      "text/plain": [
       "1628"
      ]
     },
     "execution_count": 7,
     "metadata": {},
     "output_type": "execute_result"
    }
   ],
   "source": [
    "len(all_instances_set)"
   ]
  },
  {
   "cell_type": "code",
   "execution_count": 8,
   "metadata": {
    "collapsed": false
   },
   "outputs": [
    {
     "data": {
      "text/plain": [
       "234"
      ]
     },
     "execution_count": 8,
     "metadata": {},
     "output_type": "execute_result"
    }
   ],
   "source": [
    "len(hierarchy.nodes(data=False))"
   ]
  },
  {
   "cell_type": "code",
   "execution_count": 9,
   "metadata": {
    "collapsed": false
   },
   "outputs": [
    {
     "data": {
      "text/plain": [
       "640"
      ]
     },
     "execution_count": 9,
     "metadata": {},
     "output_type": "execute_result"
    }
   ],
   "source": [
    "len(hierarchy.edges(data=True))"
   ]
  },
  {
   "cell_type": "code",
   "execution_count": 10,
   "metadata": {
    "collapsed": false
   },
   "outputs": [
    {
     "data": {
      "text/plain": [
       "True"
      ]
     },
     "execution_count": 10,
     "metadata": {},
     "output_type": "execute_result"
    }
   ],
   "source": [
    "set(hierarchy.nodes(data=False)) == visited"
   ]
  },
  {
   "cell_type": "code",
   "execution_count": 11,
   "metadata": {
    "collapsed": true
   },
   "outputs": [],
   "source": [
    "all_properties_list = list(all_properties_set)\n",
    "all_types_list = list(all_types_set)\n",
    "all_instances_list = list(all_instances_set)"
   ]
  },
  {
   "cell_type": "code",
   "execution_count": 12,
   "metadata": {
    "collapsed": true
   },
   "outputs": [],
   "source": [
    "all_properties_dict = {}\n",
    "all_types_dict = {}\n",
    "all_instances_dict = {}"
   ]
  },
  {
   "cell_type": "code",
   "execution_count": 13,
   "metadata": {
    "collapsed": false
   },
   "outputs": [
    {
     "name": "stdout",
     "output_type": "stream",
     "text": [
      "CPU times: user 1.8 s, sys: 79.1 ms, total: 1.88 s\n",
      "Wall time: 27 s\n"
     ]
    }
   ],
   "source": [
    "%%time\n",
    "\n",
    "base_url = 'https://www.wikidata.org/w/api.php'\n",
    "limit = 50\n",
    "\n",
    "chunks = [all_properties_list[x:x+limit] for x in range(0, len(all_properties_list), limit)]\n",
    "for chunk in chunks:\n",
    "    property_ids = '|'.join(chunk)\n",
    "    payload = {'action': 'wbgetentities', 'ids': property_ids, 'languages': 'en', 'format': 'json'}\n",
    "    r = requests.get(base_url, params=payload)\n",
    "    response = r.json()\n",
    "    entities = response['entities']\n",
    "    for ide in entities:\n",
    "        try:\n",
    "            all_properties_dict[ide] = entities[ide]['labels']['en']['value']\n",
    "        except Exception as e:\n",
    "            all_properties_dict[ide] = ''\n",
    "\n",
    "chunks = [all_types_list[x:x+limit] for x in range(0, len(all_types_list), limit)]\n",
    "for chunk in chunks:\n",
    "    type_ids = '|'.join(chunk)\n",
    "    payload = {'action': 'wbgetentities', 'ids': type_ids, 'languages': 'en', 'format': 'json'}\n",
    "    r = requests.get(base_url, params=payload)\n",
    "    response = r.json()\n",
    "    entities = response['entities']\n",
    "    for ide in entities:\n",
    "        try:\n",
    "            all_types_dict[ide] = entities[ide]['labels']['en']['value']\n",
    "        except Exception as e:\n",
    "            all_types_dict[ide] = ''\n",
    "\n",
    "chunks = [all_instances_list[x:x+limit] for x in range(0, len(all_instances_list), limit)]\n",
    "for chunk in chunks:\n",
    "    type_ids = '|'.join(chunk)\n",
    "    payload = {'action': 'wbgetentities', 'ids': type_ids, 'languages': 'en', 'format': 'json'}\n",
    "    r = requests.get(base_url, params=payload)\n",
    "    response = r.json()\n",
    "    entities = response['entities']\n",
    "    for ide in entities:\n",
    "        try:\n",
    "            all_instances_dict[ide] = entities[ide]['labels']['en']['value']\n",
    "        except Exception as e:\n",
    "            all_instances_dict[ide] = ''"
   ]
  },
  {
   "cell_type": "code",
   "execution_count": 14,
   "metadata": {
    "collapsed": false
   },
   "outputs": [
    {
     "data": {
      "text/plain": [
       "177"
      ]
     },
     "execution_count": 14,
     "metadata": {},
     "output_type": "execute_result"
    }
   ],
   "source": [
    "len(all_properties_dict)"
   ]
  },
  {
   "cell_type": "code",
   "execution_count": 15,
   "metadata": {
    "collapsed": false
   },
   "outputs": [
    {
     "data": {
      "text/plain": [
       "67"
      ]
     },
     "execution_count": 15,
     "metadata": {},
     "output_type": "execute_result"
    }
   ],
   "source": [
    "len(all_types_dict)"
   ]
  },
  {
   "cell_type": "code",
   "execution_count": 16,
   "metadata": {
    "collapsed": false
   },
   "outputs": [
    {
     "data": {
      "text/plain": [
       "1628"
      ]
     },
     "execution_count": 16,
     "metadata": {},
     "output_type": "execute_result"
    }
   ],
   "source": [
    "len(all_instances_dict)"
   ]
  },
  {
   "cell_type": "code",
   "execution_count": 17,
   "metadata": {
    "collapsed": false
   },
   "outputs": [
    {
     "data": {
      "text/plain": [
       "1394"
      ]
     },
     "execution_count": 17,
     "metadata": {},
     "output_type": "execute_result"
    }
   ],
   "source": [
    "len(all_instances_and_types_dict)"
   ]
  },
  {
   "cell_type": "code",
   "execution_count": 18,
   "metadata": {
    "collapsed": true
   },
   "outputs": [],
   "source": [
    "with open('pickle/star-trek_all_properties_dict.pickle', 'wb') as f:\n",
    "    pickle.dump(all_properties_dict, f)\n",
    "\n",
    "with open('pickle/star-trek_all_types_dict.pickle', 'wb') as f:\n",
    "    pickle.dump(all_types_dict, f)\n",
    "\n",
    "with open('pickle/star-trek_all_instances_dict.pickle', 'wb') as f:\n",
    "    pickle.dump(all_instances_dict, f)\n",
    "\n",
    "with open('pickle/star-trek_all_instances_and_types_dict.pickle', 'wb') as f:\n",
    "    pickle.dump(dict(all_instances_and_types_dict), f)\n",
    "\n",
    "with open('pickle/star-trek_hierarchy_graph.pickle', 'wb') as f:\n",
    "    pickle.dump(hierarchy, f)"
   ]
  },
  {
   "cell_type": "code",
   "execution_count": null,
   "metadata": {
    "collapsed": true
   },
   "outputs": [],
   "source": []
  }
 ],
 "metadata": {
  "kernelspec": {
   "display_name": "Python 3",
   "language": "python",
   "name": "python3"
  },
  "language_info": {
   "codemirror_mode": {
    "name": "ipython",
    "version": 3
   },
   "file_extension": ".py",
   "mimetype": "text/x-python",
   "name": "python",
   "nbconvert_exporter": "python",
   "pygments_lexer": "ipython3",
   "version": "3.4.3"
  }
 },
 "nbformat": 4,
 "nbformat_minor": 0
}
