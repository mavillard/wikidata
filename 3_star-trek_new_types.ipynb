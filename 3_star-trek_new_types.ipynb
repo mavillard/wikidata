{
 "cells": [
  {
   "cell_type": "code",
   "execution_count": 1,
   "metadata": {
    "collapsed": true
   },
   "outputs": [],
   "source": [
    "import json\n",
    "import pickle\n",
    "from collections import defaultdict\n",
    "\n",
    "import networkx as nx\n",
    "import requests"
   ]
  },
  {
   "cell_type": "code",
   "execution_count": 3,
   "metadata": {
    "collapsed": false
   },
   "outputs": [],
   "source": [
    "with open('pickle/star-trek_all_instances_and_types_dict.pickle', 'rb') as f:\n",
    "    all_instances_and_types_dict = pickle.load(f)\n",
    "\n",
    "with open('pickle/star-trek_only_relevant_relationships_dict.pickle', 'rb') as f:\n",
    "    only_relevant_relationships_dict = pickle.load(f)\n",
    "\n",
    "with open('pickle/star-trek_only_relevant_types_dict.pickle', 'rb') as f:\n",
    "    only_relevant_types_dict = pickle.load(f)\n",
    "\n",
    "with open('pickle/star-trek_hierarchy_graph.pickle', 'rb') as f:\n",
    "    hierarchy = pickle.load(f)"
   ]
  },
  {
   "cell_type": "code",
   "execution_count": 4,
   "metadata": {
    "collapsed": true
   },
   "outputs": [],
   "source": [
    "new_types_set = set() # new types for relevant relationships\n",
    "new_instances_set = set() # new instances for relevant relationships\n",
    "new_instances_and_types_dict = defaultdict(set) # new instances for relevant relationships and their types"
   ]
  },
  {
   "cell_type": "code",
   "execution_count": 5,
   "metadata": {
    "collapsed": true
   },
   "outputs": [],
   "source": [
    "def get_types(ide):\n",
    "    types = []\n",
    "    base_url = 'https://www.wikidata.org/w/api.php'\n",
    "    payload = {'action': 'wbgetentities', 'ids': ide, 'languages': 'en', 'format': 'json'}\n",
    "    r = requests.get(base_url, params=payload)\n",
    "    response = r.json()\n",
    "    d = response['entities'][ide]\n",
    "    for rel in d['claims']:\n",
    "        if rel == 'P31':\n",
    "            for rel_inst in d['claims']['P31']:\n",
    "                value = 'Q' + str(rel_inst['mainsnak']['datavalue']['value']['numeric-id'])\n",
    "                types.append(value)\n",
    "    return types"
   ]
  },
  {
   "cell_type": "code",
   "execution_count": 6,
   "metadata": {
    "collapsed": true
   },
   "outputs": [],
   "source": [
    "visited = set(hierarchy.nodes(data=False))"
   ]
  },
  {
   "cell_type": "code",
   "execution_count": 7,
   "metadata": {
    "collapsed": true
   },
   "outputs": [],
   "source": [
    "def add_to_hierarchy(c):\n",
    "    if c not in visited:\n",
    "        hierarchy.add_node(c)\n",
    "        base_url = 'https://www.wikidata.org/w/api.php'\n",
    "        payload = {'action': 'wbgetentities', 'ids': c, 'languages': 'en', 'format': 'json'}\n",
    "        r = requests.get(base_url, params=payload)\n",
    "        response = r.json()\n",
    "        d = response['entities'][c]\n",
    "        if 'claims' in d and 'P279' in d['claims']:\n",
    "            for rel_inst in d['claims']['P279']:\n",
    "                if 'datavalue' in rel_inst['mainsnak']:\n",
    "                    super_c = 'Q' + str(rel_inst['mainsnak']['datavalue']['value']['numeric-id'])\n",
    "                    hierarchy.add_node(super_c)\n",
    "                    hierarchy.add_edge(c, super_c, {'type': 'is_subclass_of'})\n",
    "                    hierarchy.add_edge(super_c, c, {'type': 'is_superclass_of'})\n",
    "                    add_to_hierarchy(super_c)\n",
    "        visited.add(c)"
   ]
  },
  {
   "cell_type": "code",
   "execution_count": 8,
   "metadata": {
    "collapsed": false
   },
   "outputs": [
    {
     "name": "stdout",
     "output_type": "stream",
     "text": [
      "Total: 1630\n",
      "Count: 1628\n",
      "Error: 2\n",
      "CPU times: user 5.65 s, sys: 178 ms, total: 5.82 s\n",
      "Wall time: 1min 2s\n"
     ]
    }
   ],
   "source": [
    "%%time\n",
    "total = 0\n",
    "count = 0\n",
    "error = 0\n",
    "with open('data/wikidata-20150907-star_trek.json') as f:\n",
    "    for line in f:\n",
    "        try:\n",
    "            total += 1\n",
    "            cleaned = line.strip()[:-1]\n",
    "            d = json.loads(cleaned)\n",
    "            for rel in d['claims']:\n",
    "                if rel in only_relevant_relationships_dict:\n",
    "                    for rel_inst in d['claims'][rel]:\n",
    "                        type_rel = rel_inst['mainsnak']['datavalue']['type']\n",
    "                        if type_rel == 'wikibase-entityid':\n",
    "                            value = 'Q' + str(rel_inst['mainsnak']['datavalue']['value']['numeric-id'])\n",
    "                            if value not in all_instances_and_types_dict and value not in new_instances_set:\n",
    "                                new_instances_set.add(value)\n",
    "                                for t in get_types(value):\n",
    "                                    if t not in only_relevant_types_dict and t not in new_types_set:\n",
    "                                        new_types_set.add(t)\n",
    "            count += 1\n",
    "        except Exception as e:\n",
    "            error += 1\n",
    "print('Total:', total)\n",
    "print('Count:', count)\n",
    "print('Error:', error)"
   ]
  },
  {
   "cell_type": "code",
   "execution_count": 9,
   "metadata": {
    "collapsed": false
   },
   "outputs": [
    {
     "data": {
      "text/plain": [
       "72"
      ]
     },
     "execution_count": 9,
     "metadata": {},
     "output_type": "execute_result"
    }
   ],
   "source": [
    "len(new_types_set)"
   ]
  },
  {
   "cell_type": "code",
   "execution_count": 10,
   "metadata": {
    "collapsed": false
   },
   "outputs": [
    {
     "data": {
      "text/plain": [
       "233"
      ]
     },
     "execution_count": 10,
     "metadata": {},
     "output_type": "execute_result"
    }
   ],
   "source": [
    "len(new_instances_set)"
   ]
  },
  {
   "cell_type": "code",
   "execution_count": 11,
   "metadata": {
    "collapsed": true
   },
   "outputs": [],
   "source": [
    "new_types_list = list(new_types_set)\n",
    "new_instances_set = list(new_instances_set)"
   ]
  },
  {
   "cell_type": "code",
   "execution_count": 12,
   "metadata": {
    "collapsed": true
   },
   "outputs": [],
   "source": [
    "new_types_dict = {}\n",
    "new_instances_dict = {}"
   ]
  },
  {
   "cell_type": "code",
   "execution_count": 13,
   "metadata": {
    "collapsed": false
   },
   "outputs": [],
   "source": [
    "base_url = 'https://www.wikidata.org/w/api.php'\n",
    "limit = 50\n",
    "\n",
    "chunks = [new_types_list[x:x+limit] for x in range(0, len(new_types_list), limit)]\n",
    "for chunk in chunks:\n",
    "    type_ids = '|'.join(chunk)\n",
    "    payload = {'action': 'wbgetentities', 'ids': type_ids, 'languages': 'en', 'format': 'json'}\n",
    "    r = requests.get(base_url, params=payload)\n",
    "    response = r.json()\n",
    "    entities = response['entities']\n",
    "    for ide in entities:\n",
    "        try:\n",
    "            new_types_dict[ide] = entities[ide]['labels']['en']['value']\n",
    "        except Exception as e:\n",
    "            new_types_dict[ide] = ''\n",
    "\n",
    "chunks = [new_instances_set[x:x+limit] for x in range(0, len(new_instances_set), limit)]\n",
    "for chunk in chunks:\n",
    "    type_ids = '|'.join(chunk)\n",
    "    payload = {'action': 'wbgetentities', 'ids': type_ids, 'languages': 'en', 'format': 'json'}\n",
    "    r = requests.get(base_url, params=payload)\n",
    "    response = r.json()\n",
    "    entities = response['entities']\n",
    "    for ide in entities:\n",
    "        try:\n",
    "            new_instances_dict[ide] = entities[ide]['labels']['en']['value']\n",
    "        except Exception as e:\n",
    "            new_instances_dict[ide] = ''"
   ]
  },
  {
   "cell_type": "code",
   "execution_count": 14,
   "metadata": {
    "collapsed": false
   },
   "outputs": [
    {
     "data": {
      "text/plain": [
       "72"
      ]
     },
     "execution_count": 14,
     "metadata": {},
     "output_type": "execute_result"
    }
   ],
   "source": [
    "len(new_types_dict)"
   ]
  },
  {
   "cell_type": "code",
   "execution_count": 15,
   "metadata": {
    "collapsed": false
   },
   "outputs": [
    {
     "data": {
      "text/plain": [
       "233"
      ]
     },
     "execution_count": 15,
     "metadata": {},
     "output_type": "execute_result"
    }
   ],
   "source": [
    "len(new_instances_dict)"
   ]
  },
  {
   "cell_type": "code",
   "execution_count": 20,
   "metadata": {
    "collapsed": false
   },
   "outputs": [
    {
     "data": {
      "text/plain": [
       "{'Q1044478': \"shoot 'em up\",\n",
       " 'Q1055307': 'fictional technology',\n",
       " 'Q10676': 'Sega Mega Drive',\n",
       " 'Q10677': 'PlayStation',\n",
       " 'Q10680': 'PlayStation 2',\n",
       " 'Q10683': 'PlayStation 3',\n",
       " 'Q1093941': 'Toronto City Hall',\n",
       " 'Q110154': 'George Takei',\n",
       " 'Q1114502': 'American comic book',\n",
       " 'Q11266439': 'Wikimedia template',\n",
       " 'Q1140363': 'educational game',\n",
       " 'Q11424': 'film',\n",
       " 'Q1143118': 'interactive fiction',\n",
       " 'Q1150710': 'strategy game',\n",
       " 'Q116553': 'Jean Piccard',\n",
       " 'Q1190578': 'space warfare',\n",
       " 'Q120877': 'cloning',\n",
       " 'Q1226311': 'Emergency Medical Hologram',\n",
       " 'Q1257934': 'clip show',\n",
       " 'Q132020': 'Xbox',\n",
       " 'Q13406463': 'Wikimedia list article',\n",
       " 'Q134556': 'single',\n",
       " 'Q13915': 'xkcd',\n",
       " 'Q13974': 'NBC',\n",
       " 'Q1406': 'Microsoft Windows',\n",
       " 'Q14116': 'OS X',\n",
       " 'Q1436734': 'adventure',\n",
       " 'Q145': 'United Kingdom',\n",
       " 'Q14623646': 'fictional organization',\n",
       " 'Q14637321': 'fictional spacecraft',\n",
       " 'Q1475303': 'Microvision',\n",
       " 'Q14864330': 'Teen',\n",
       " 'Q14915515': 'PEGI 12',\n",
       " 'Q14920387': 'USK 0',\n",
       " 'Q14920392': 'USK 12',\n",
       " 'Q150': 'French',\n",
       " 'Q15053464': 'fictional material',\n",
       " 'Q15238535': 'fictional government or government body',\n",
       " 'Q15416': 'television program',\n",
       " 'Q15632617': 'fictional human',\n",
       " 'Q15633582': 'MediaWiki site',\n",
       " 'Q15707583': 'fictional taxon',\n",
       " 'Q15720870': 'fictional weapon',\n",
       " 'Q15773317': 'television character',\n",
       " 'Q15773347': 'film character',\n",
       " 'Q15831596': 'fictional class',\n",
       " 'Q1610017': 'simulation video game',\n",
       " 'Q16267176': '',\n",
       " 'Q1635956': 'interactive film',\n",
       " 'Q16375': 'character from Star Trek',\n",
       " 'Q1659605': 'asteroids in fiction',\n",
       " 'Q16739': 'Long Beach',\n",
       " 'Q170323': 'Nintendo DS',\n",
       " 'Q170434': 'DOS',\n",
       " 'Q1712140': 'revenge',\n",
       " 'Q172742': 'Nintendo Entertainment System',\n",
       " 'Q17633526': 'Wikinews article',\n",
       " 'Q177234': 'mainframe computer',\n",
       " 'Q18039177': 'fictional spacecraft class',\n",
       " 'Q18148973': 'Star Trek Continues',\n",
       " 'Q181508': 'extraterrestrial life',\n",
       " 'Q181787': 'android',\n",
       " 'Q182015': 'thriller',\n",
       " 'Q182154': 'time travel',\n",
       " 'Q183259': 'Super Nintendo Entertainment System',\n",
       " 'Q185029': 'first-person shooter',\n",
       " 'Q18533645': 'spacecraft in Star Trek',\n",
       " 'Q18551245': 'Category:Teleportation',\n",
       " 'Q18572946': 'fictional space station',\n",
       " 'Q1860': 'English',\n",
       " 'Q186117': 'timeline',\n",
       " 'Q18615118': 'Argument',\n",
       " 'Q18615120': 'tar',\n",
       " 'Q186437': 'Game Boy',\n",
       " 'Q18645971': 'Cueball',\n",
       " 'Q18646076': 'Megan',\n",
       " 'Q18698646': 'Category:Leonard Nimoy',\n",
       " 'Q188': 'German',\n",
       " 'Q188473': 'action film',\n",
       " 'Q188808': 'PlayStation Vita',\n",
       " 'Q189': 'Iceland',\n",
       " 'Q1892535': 'space flight simulator game',\n",
       " 'Q189643': 'Delusion',\n",
       " 'Q192851': 'arcade game machine',\n",
       " 'Q19595246': 'fictional empire',\n",
       " 'Q196600': 'media franchise',\n",
       " 'Q1983062': 'episode',\n",
       " 'Q19887878': 'Wikimedia template infobox',\n",
       " 'Q2': 'Earth',\n",
       " 'Q2051667': 'Parallel universe',\n",
       " 'Q206261': 'Atari 2600',\n",
       " 'Q206272': 'UPN',\n",
       " 'Q208189': 'real-time strategy',\n",
       " 'Q210719': 'Auguste Piccard',\n",
       " 'Q213636': 'Vulcan',\n",
       " 'Q215380': 'band',\n",
       " 'Q215627': 'person',\n",
       " 'Q2176159': 'turn-based strategy',\n",
       " 'Q224989': 'alternate history',\n",
       " 'Q229429': '3DO Interactive Multiplayer',\n",
       " 'Q2313710': 'real-time tactics',\n",
       " 'Q2361967': 'Borgia',\n",
       " 'Q23916': 'adventure game',\n",
       " 'Q239920': '7306 Panizon',\n",
       " 'Q24856': 'film series',\n",
       " 'Q24862': 'short film',\n",
       " 'Q24925': 'science fiction',\n",
       " 'Q2540524': 'religious violence',\n",
       " 'Q256': 'Turkish',\n",
       " 'Q260531': 'Web syndication',\n",
       " 'Q2623733': 'fictional language',\n",
       " 'Q270948': 'action game',\n",
       " 'Q2775969': 'fictional planet',\n",
       " 'Q278379': 'a priori language',\n",
       " 'Q299191': 'chess variant',\n",
       " 'Q30': 'United States of America',\n",
       " 'Q3007223': 'Culture of Star Trek',\n",
       " 'Q319221': 'adventure film',\n",
       " 'Q3252662': 'series finale',\n",
       " 'Q3297186': 'limited series',\n",
       " 'Q33215': 'constructed language',\n",
       " 'Q33487': 'Homophobia',\n",
       " 'Q336059': 'science fiction on television',\n",
       " 'Q343568': 'action-adventure game',\n",
       " 'Q34467': 'compact disc',\n",
       " 'Q3464665': 'television season',\n",
       " 'Q3500963': 'Star Trek canon',\n",
       " 'Q35127': 'website',\n",
       " 'Q3554948': 'Vasquez Rocks',\n",
       " 'Q35760': 'essay',\n",
       " 'Q362': 'World War II',\n",
       " 'Q380266': 'third-person shooter',\n",
       " 'Q3863': 'asteroid',\n",
       " 'Q386724': 'work',\n",
       " 'Q388': 'Linux',\n",
       " 'Q3965952': 'light gun shooter',\n",
       " 'Q41298': 'magazine',\n",
       " 'Q4167410': 'Wikimedia disambiguation page',\n",
       " 'Q4167836': 'Wikimedia category',\n",
       " 'Q4176708': 'soundtrack album',\n",
       " 'Q4234303': 'WikiProject',\n",
       " 'Q4282636': 'shooter game',\n",
       " 'Q43': 'Turkey',\n",
       " 'Q43229': 'organization',\n",
       " 'Q43627': 'Mac OS',\n",
       " 'Q44204': 'Kronos',\n",
       " 'Q4663903': 'Wikimedia portal',\n",
       " 'Q471839': 'science fiction film',\n",
       " 'Q472055': 'strategy video game',\n",
       " 'Q47604': 'MS-DOS',\n",
       " 'Q48263': 'Xbox 360',\n",
       " 'Q482994': 'album',\n",
       " 'Q4873254': 'Battlestations!',\n",
       " 'Q4920769': 'Black Fire',\n",
       " 'Q5': 'human',\n",
       " 'Q5003851': 'By the Book',\n",
       " 'Q5014725': 'PlayStation 4',\n",
       " 'Q5068942': 'Challenger',\n",
       " 'Q5146': 'Portuguese',\n",
       " 'Q5208158': \"Daedalus's Children\",\n",
       " 'Q5250158': 'Deep Domain',\n",
       " 'Q5282081': 'discrimination based on skin color',\n",
       " 'Q5293': 'floppy disk',\n",
       " 'Q5294': 'DVD',\n",
       " 'Q5306225': 'Dreadnought!',\n",
       " 'Q5318075': 'Dwellers in the Crucible',\n",
       " 'Q5318727': 'Dylan Hunt',\n",
       " 'Q5357271': 'ElectriColor',\n",
       " 'Q5398426': 'television series',\n",
       " 'Q559618': 'fictional universe',\n",
       " 'Q571': 'book',\n",
       " 'Q581714': 'animated series',\n",
       " 'Q606777': 'maze',\n",
       " 'Q618779': 'award',\n",
       " 'Q62': 'San Francisco',\n",
       " 'Q6290007': 'space simulator',\n",
       " 'Q633454': 'ROM cartridge',\n",
       " 'Q65': 'Los Angeles',\n",
       " 'Q653928': 'pinball',\n",
       " 'Q6540441': 'Category:Fictional locations',\n",
       " 'Q6619679': 'fictional humanoid',\n",
       " 'Q6619802': 'fictional means of transport',\n",
       " 'Q6623809': 'fictional humanoid extraterrestrial',\n",
       " 'Q6712056': 'M-Flo Inside: Works Best II',\n",
       " 'Q6936496': 'CC BY-NC',\n",
       " 'Q6968108': 'Category:Fictional technology',\n",
       " 'Q7066': 'atheism',\n",
       " 'Q7099650': 'Orange Is the New Black',\n",
       " 'Q7126717': 'download',\n",
       " 'Q7135354': 'Paramount Television Service',\n",
       " 'Q718644': 'Starfleet',\n",
       " 'Q7283': 'terrorism',\n",
       " 'Q7370868': 'Rough Trails',\n",
       " 'Q743222': 'Atari 5200',\n",
       " 'Q744059': '7308 Hattori',\n",
       " 'Q7466485': 'Category:Fictional organizations',\n",
       " 'Q7600992': 'Star Trek: Section 31',\n",
       " 'Q761469': 'comic science fiction',\n",
       " 'Q7623802': 'Strike Zone',\n",
       " 'Q7637917': 'Summon the Thunder',\n",
       " 'Q7642038': 'SuperPin',\n",
       " 'Q7728306': 'The Cry of the Onlies',\n",
       " 'Q7732318': 'The Entropy Effect',\n",
       " 'Q7732812': 'The Expanse',\n",
       " 'Q7734353': 'The Flaming Arrow',\n",
       " 'Q7755986': 'The Pandora Principle',\n",
       " 'Q7889': 'video game',\n",
       " 'Q7943453': \"Vulcan's Glory\",\n",
       " 'Q7959651': 'Wagon Train to the Stars',\n",
       " 'Q7978609': 'Web of the Romulans',\n",
       " 'Q7982': 'CD-ROM',\n",
       " 'Q7991352': 'What Price Honor?',\n",
       " 'Q8036508': 'World Without End',\n",
       " 'Q8079': 'Wii',\n",
       " 'Q809': 'Polish',\n",
       " 'Q8261': 'novel',\n",
       " 'Q828322': 'platform game',\n",
       " 'Q8286529': 'Category:Bajorans',\n",
       " 'Q8343835': 'Category:Cardassians',\n",
       " 'Q838795': 'comic strip',\n",
       " 'Q8574920': 'Category:Klingon language',\n",
       " 'Q8574923': 'Category:Klingons',\n",
       " 'Q8641': 'Yiddish',\n",
       " 'Q866': 'YouTube',\n",
       " 'Q8682139': 'Category:Romulans',\n",
       " 'Q869955': 'fictional crossover',\n",
       " 'Q9149': 'fundamentalism',\n",
       " 'Q918232': 'Commodore VIC-20',\n",
       " 'Q93200': 'sexism',\n",
       " 'Q936604': 'Japanese American internment',\n",
       " 'Q94': 'Android',\n",
       " 'Q95074': 'fictional character',\n",
       " 'Q99': 'California'}"
      ]
     },
     "execution_count": 20,
     "metadata": {},
     "output_type": "execute_result"
    }
   ],
   "source": [
    "new_instances_dict"
   ]
  },
  {
   "cell_type": "code",
   "execution_count": 16,
   "metadata": {
    "collapsed": false
   },
   "outputs": [
    {
     "data": {
      "text/plain": [
       "1394"
      ]
     },
     "execution_count": 16,
     "metadata": {},
     "output_type": "execute_result"
    }
   ],
   "source": [
    "len(all_instances_and_types_dict)"
   ]
  },
  {
   "cell_type": "code",
   "execution_count": 17,
   "metadata": {
    "collapsed": true
   },
   "outputs": [],
   "source": [
    "all_instances_and_types_dict.update(new_instances_dict)"
   ]
  },
  {
   "cell_type": "code",
   "execution_count": 18,
   "metadata": {
    "collapsed": false
   },
   "outputs": [
    {
     "data": {
      "text/plain": [
       "1627"
      ]
     },
     "execution_count": 18,
     "metadata": {},
     "output_type": "execute_result"
    }
   ],
   "source": [
    "len(all_instances_and_types_dict)"
   ]
  },
  {
   "cell_type": "code",
   "execution_count": 19,
   "metadata": {
    "collapsed": true
   },
   "outputs": [],
   "source": [
    "with open('pickle/star-trek_new_types_dict.pickle', 'wb') as f:\n",
    "    pickle.dump(new_types_dict, f)\n",
    "    \n",
    "with open('pickle/star-trek_all_instances_and_types_dict.pickle', 'wb') as f:\n",
    "    pickle.dump(all_instances_and_types_dict, f)"
   ]
  },
  {
   "cell_type": "code",
   "execution_count": null,
   "metadata": {
    "collapsed": true
   },
   "outputs": [],
   "source": []
  }
 ],
 "metadata": {
  "kernelspec": {
   "display_name": "Python 3",
   "language": "python",
   "name": "python3"
  },
  "language_info": {
   "codemirror_mode": {
    "name": "ipython",
    "version": 3
   },
   "file_extension": ".py",
   "mimetype": "text/x-python",
   "name": "python",
   "nbconvert_exporter": "python",
   "pygments_lexer": "ipython3",
   "version": "3.4.3"
  }
 },
 "nbformat": 4,
 "nbformat_minor": 0
}
