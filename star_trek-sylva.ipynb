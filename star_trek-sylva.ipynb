{
 "cells": [
  {
   "cell_type": "code",
   "execution_count": 67,
   "metadata": {
    "collapsed": false
   },
   "outputs": [],
   "source": [
    "import json\n",
    "from collections import defaultdict"
   ]
  },
  {
   "cell_type": "code",
   "execution_count": 68,
   "metadata": {
    "collapsed": false
   },
   "outputs": [],
   "source": [
    "final_relationship_dict = {\n",
    "    'P1080': 'from fictional universe',\n",
    "    'P1235': 'ISFDB series ID',\n",
    "    'P1237': 'Box Office Mojo film ID',\n",
    "    'P1258': 'Rotten Tomatoes identifier',\n",
    "    'P1265': 'AlloCiné movie ID',\n",
    "    'P136': 'genre',\n",
    "    'P1407': 'MusicBrainz series ID',\n",
    "    'P1434': 'describes the fictional universe',\n",
    "    'P144': 'based on',\n",
    "    'P1445': 'fictional universe described in',\n",
    "    'P1476': 'title',\n",
    "    'P155': 'follows',\n",
    "    'P156': 'followed by',\n",
    "    'P1562': 'AllMovie movie ID',\n",
    "    'P1651': 'YouTube video identifier',\n",
    "    'P17': 'country',\n",
    "    'P1712': 'Metacritic ID',\n",
    "    'P179': 'series',\n",
    "    'P180': 'depicts',\n",
    "    'P1804': 'Danish National Filmography ID',\n",
    "    'P1811': 'list of episodes',\n",
    "    'P1970': 'MovieMeter movie ID',\n",
    "    'P2002': 'Twitter username',\n",
    "    'P2003': 'Instagram username',\n",
    "    'P2013': 'Facebook ID',\n",
    "    'P212': 'ISBN-13',\n",
    "    'P243': 'OCLC control number',\n",
    "    'P244': 'LCAuth identifier',\n",
    "    'P275': 'license',\n",
    "    'P279': 'subclass of',\n",
    "    'P31': 'instance of',\n",
    "    'P345': 'IMDb identifier',\n",
    "    'P348': 'software version',\n",
    "    'P357': '(OBSOLETE) title (use P1476, \"title\")',\n",
    "    'P361': 'part of',\n",
    "    'P364': 'original language of work',\n",
    "    'P373': 'Commons category',\n",
    "    'P400': 'platform',\n",
    "    'P433': 'issue',\n",
    "    'P437': 'distribution',\n",
    "    'P449': 'original network',\n",
    "    'P480': 'FilmAffinity identifier',\n",
    "    'P495': 'country of origin',\n",
    "    'P508': 'PIJAS',\n",
    "    'P553': 'website account on',\n",
    "    'P577': 'publication date',\n",
    "    'P580': 'start time',\n",
    "    'P582': 'end time',\n",
    "    'P646': 'Freebase identifier',\n",
    "    'P852': 'ESRB rating',\n",
    "    'P854': 'reference URL',\n",
    "    'P856': 'official website',\n",
    "    'P905': 'PORT film ID',\n",
    "    'P908': 'PEGI rating',\n",
    "    'P910': \"topic's main category\",\n",
    "    'P914': 'USK rating',\n",
    "    'P915': 'filming location',\n",
    "    'P921': 'main subject',\n",
    "    'P941': 'inspired by',\n",
    "    'P957': 'ISBN-10'\n",
    "}"
   ]
  },
  {
   "cell_type": "code",
   "execution_count": 69,
   "metadata": {
    "collapsed": false
   },
   "outputs": [],
   "source": [
    "wikidata_to_sylva_types_relationships = {\n",
    "    'P1080': 'from fictional universe',\n",
    "    'P1235': 'ISFDB series ID',\n",
    "    'P1237': 'Box Office Mojo film ID',\n",
    "    'P1258': 'Rotten Tomatoes identifier',\n",
    "    'P1265': 'AlloCiné movie ID',\n",
    "    'P136': 'genre',\n",
    "    'P1407': 'MusicBrainz series ID',\n",
    "    'P1434': 'describes the fictional universe',\n",
    "    'P144': 'based on',\n",
    "    'P1445': 'fictional universe described in',\n",
    "    'P1476': 'title',\n",
    "    'P155': 'follows',\n",
    "    'P156': 'followed by',\n",
    "    'P1562': 'AllMovie movie ID',\n",
    "    'P1651': 'YouTube video identifier',\n",
    "    'P17': 'country',\n",
    "    'P1712': 'Metacritic ID',\n",
    "    'P179': 'series',\n",
    "    'P180': 'depicts',\n",
    "    'P1804': 'Danish National Filmography ID',\n",
    "    'P1811': 'list of episodes',\n",
    "    'P1970': 'MovieMeter movie ID',\n",
    "    'P2002': 'Twitter username',\n",
    "    'P2003': 'Instagram username',\n",
    "    'P2013': 'Facebook ID',\n",
    "    'P212': 'ISBN-13',\n",
    "    'P243': 'OCLC control number',\n",
    "    'P244': 'LCAuth identifier',\n",
    "    'P275': 'license',\n",
    "    'P279': 'subclass of',\n",
    "    'P31': 'instance of',\n",
    "    'P345': 'IMDb identifier',\n",
    "    'P348': 'software version',\n",
    "    'P357': '(OBSOLETE) title (use P1476, \"title\")',\n",
    "    'P361': 'part of',\n",
    "    'P364': 'original language of work',\n",
    "    'P373': 'Commons category',\n",
    "    'P400': 'platform',\n",
    "    'P433': 'issue',\n",
    "    'P437': 'distribution',\n",
    "    'P449': 'original network',\n",
    "    'P480': 'FilmAffinity identifier',\n",
    "    'P495': 'country of origin',\n",
    "    'P508': 'PIJAS',\n",
    "    'P553': 'website account on',\n",
    "    'P577': 'publication date',\n",
    "    'P580': 'start time',\n",
    "    'P582': 'end time',\n",
    "    'P646': 'Freebase identifier',\n",
    "    'P852': 'ESRB rating',\n",
    "    'P854': 'reference URL',\n",
    "    'P856': 'official website',\n",
    "    'P905': 'PORT film ID',\n",
    "    'P908': 'PEGI rating',\n",
    "    'P910': \"topic's main category\",\n",
    "    'P914': 'USK rating',\n",
    "    'P915': 'filming location',\n",
    "    'P921': 'main subject',\n",
    "    'P941': 'inspired by',\n",
    "    'P957': 'ISBN-10'\n",
    "}"
   ]
  },
  {
   "cell_type": "code",
   "execution_count": 70,
   "metadata": {
    "collapsed": false
   },
   "outputs": [],
   "source": [
    "final_type_dict = {\n",
    "    'Q1114502': 'American comic book',\n",
    "    'Q1137046': 'Star Trek: The Next Generation episode',\n",
    "    'Q11424': 'film',\n",
    "    'Q1257934': 'clip show',\n",
    "    'Q134556': 'single',\n",
    "    'Q15416': 'television program',\n",
    "    'Q186117': 'timeline',\n",
    "    'Q196600': 'media franchise',\n",
    "    'Q1983062': 'episode',\n",
    "    'Q24856': 'film series',\n",
    "    'Q24862': 'short film',\n",
    "    'Q278379': 'a priori language',\n",
    "    'Q3252662': 'series finale',\n",
    "    'Q3297186': 'limited series',\n",
    "    'Q33215': 'constructed language',\n",
    "    'Q3464665': 'television season',\n",
    "    'Q35127': 'website',\n",
    "    'Q386724': 'work',\n",
    "    'Q41298': 'magazine',\n",
    "    'Q4176708': 'soundtrack album',\n",
    "    'Q4234303': 'WikiProject',\n",
    "    'Q482994': 'album',\n",
    "    'Q5398426': 'television series',\n",
    "    'Q559618': 'fictional universe',\n",
    "    'Q571': 'book',\n",
    "    'Q581714': 'animated series',\n",
    "    'Q7889': 'video game',\n",
    "    'Q838795': 'comic strip'\n",
    "}"
   ]
  },
  {
   "cell_type": "code",
   "execution_count": 71,
   "metadata": {
    "collapsed": false
   },
   "outputs": [],
   "source": [
    "wikidata_to_sylva_types = {\n",
    "    'Q1114502': ('American comic book', 'Comic'),\n",
    "    'Q1137046': ('Star Trek: The Next Generation episode', 'Episode'),\n",
    "    'Q11424': ('film', 'Film'),\n",
    "    'Q1257934': ('clip show', 'Episode'),\n",
    "    'Q134556': ('single', 'Single'),\n",
    "    'Q15416': ('television program', 'TV_program'),\n",
    "    'Q186117': ('timeline', 'Timeline'),\n",
    "    'Q196600': ('media franchise', 'Series'),\n",
    "    'Q1983062': ('episode', 'Episode'),\n",
    "    'Q24856': ('film series', 'Film_series'),\n",
    "    'Q24862': ('short film', 'Film'),\n",
    "    'Q278379': ('a priori language', 'Language'),\n",
    "    'Q3252662': ('series finale', 'Episode'),\n",
    "    'Q3297186': ('limited series', 'Comic_series'),\n",
    "    'Q33215': ('constructed language', 'Language'),\n",
    "    'Q3464665': ('television season', 'TV_season'),\n",
    "    'Q35127': ('website', 'Website'),\n",
    "    'Q386724': ('work', 'Word'),\n",
    "    'Q41298': ('magazine', 'Magazine'),\n",
    "    'Q4176708': ('soundtrack album', 'Soundtrack_album'),\n",
    "    'Q4234303': ('WikiProject', 'Website'),\n",
    "    'Q482994': ('album', 'Album'),\n",
    "    'Q5398426': ('television series', 'TV_series'),\n",
    "    'Q559618': ('fictional universe', 'Fictional_universe'),\n",
    "    'Q571': ('book', 'Book'),\n",
    "    'Q581714': ('animated series', 'Animated_series'),\n",
    "    'Q7889': ('video game', 'Video_game'),\n",
    "    'Q838795': ('comic strip', 'Comic'),\n",
    "}"
   ]
  },
  {
   "cell_type": "code",
   "execution_count": 60,
   "metadata": {
    "collapsed": false
   },
   "outputs": [
    {
     "data": {
      "text/plain": [
       "{'Album',\n",
       " 'Animated_series',\n",
       " 'Book',\n",
       " 'Comic',\n",
       " 'Comic_series',\n",
       " 'Episode',\n",
       " 'Fictional_universe',\n",
       " 'Film',\n",
       " 'Film_series',\n",
       " 'Language',\n",
       " 'Magazine',\n",
       " 'Series',\n",
       " 'Single',\n",
       " 'Soundtrack_album',\n",
       " 'TV_program',\n",
       " 'TV_season',\n",
       " 'TV_series',\n",
       " 'Timeline',\n",
       " 'Video_game',\n",
       " 'Website',\n",
       " 'Word'}"
      ]
     },
     "execution_count": 60,
     "metadata": {},
     "output_type": "execute_result"
    }
   ],
   "source": [
    "ts = set()\n",
    "for k, v in wikidata_to_sylva_types.items():\n",
    "    ts.add(v[1])\n",
    "ts"
   ]
  },
  {
   "cell_type": "code",
   "execution_count": 115,
   "metadata": {
    "collapsed": false
   },
   "outputs": [
    {
     "name": "stdout",
     "output_type": "stream",
     "text": [
      "Expecting value: line 1 column 1 (char 0)\n",
      "Expecting value: line 1 column 1 (char 0)\n",
      "Total: 918\n",
      "Count: 6612\n",
      "Error: 2\n",
      "CPU times: user 96.6 ms, sys: 4 ms, total: 101 ms\n",
      "Wall time: 95.8 ms\n"
     ]
    }
   ],
   "source": [
    "%%time\n",
    "total = 0\n",
    "count = 0\n",
    "error = 0\n",
    "properties = defaultdict(list)\n",
    "with open('wikidata-20150907-star_trek-relevant-rels-and-types.json') as f:\n",
    "    for line in f:\n",
    "        try:\n",
    "            total += 1\n",
    "            cleaned = line.strip()[:-1]\n",
    "            d = json.loads(cleaned)\n",
    "            id1 = d['id']\n",
    "            for rel in d['claims']:\n",
    "                for rel_inst in d['claims'][rel]:\n",
    "                    type_rel = rel_inst['mainsnak']['datavalue']['type']\n",
    "                    id2 = None\n",
    "                    if type_rel == 'wikibase-entityid':\n",
    "                        value = rel_inst['mainsnak']['datavalue']['value']['numeric-id']\n",
    "                        id2 = 'Q' + str(value)\n",
    "                    properties[rel].append((id1, id2))\n",
    "                    count += 1\n",
    "        except Exception as e:\n",
    "            print(e)\n",
    "            error += 1\n",
    "print('Total:', total)\n",
    "print('Count:', count)\n",
    "print('Error:', error)"
   ]
  },
  {
   "cell_type": "code",
   "execution_count": 116,
   "metadata": {
    "collapsed": false
   },
   "outputs": [
    {
     "data": {
      "text/plain": [
       "60"
      ]
     },
     "execution_count": 116,
     "metadata": {},
     "output_type": "execute_result"
    }
   ],
   "source": [
    "len(properties)"
   ]
  },
  {
   "cell_type": "code",
   "execution_count": 110,
   "metadata": {
    "collapsed": false
   },
   "outputs": [],
   "source": [
    "def get_types(ide):\n",
    "    types = []\n",
    "    with open('wikidata-20150907-star_trek-relevant-rels-and-types.json') as f:\n",
    "        for line in f:\n",
    "            try:\n",
    "                cleaned = line.strip()[:-1]\n",
    "                d = json.loads(cleaned)\n",
    "                if ide == d['id']:\n",
    "                    for rel_inst in d['claims']['P31']:\n",
    "                        typ = 'Q' + str(rel_inst['mainsnak']['datavalue']['value']['numeric-id'])\n",
    "                        types.append(typ)\n",
    "                    break\n",
    "            except Exception as e:\n",
    "                pass\n",
    "    return types"
   ]
  },
  {
   "cell_type": "code",
   "execution_count": 113,
   "metadata": {
    "collapsed": false
   },
   "outputs": [
    {
     "name": "stdout",
     "output_type": "stream",
     "text": [
      "1 relationships processed\n",
      "2 relationships processed\n",
      "3 relationships processed\n",
      "4 relationships processed\n",
      "5 relationships processed\n",
      "6 relationships processed\n",
      "7 relationships processed\n",
      "8 relationships processed\n",
      "9 relationships processed\n",
      "10 relationships processed\n",
      "11 relationships processed\n",
      "12 relationships processed\n",
      "13 relationships processed\n",
      "14 relationships processed\n",
      "15 relationships processed\n",
      "16 relationships processed\n",
      "17 relationships processed\n",
      "18 relationships processed\n",
      "19 relationships processed\n",
      "20 relationships processed\n",
      "21 relationships processed\n",
      "22 relationships processed\n",
      "23 relationships processed\n",
      "24 relationships processed\n",
      "25 relationships processed\n",
      "26 relationships processed\n",
      "27 relationships processed\n",
      "28 relationships processed\n",
      "29 relationships processed\n",
      "30 relationships processed\n",
      "31 relationships processed\n",
      "32 relationships processed\n",
      "33 relationships processed\n",
      "34 relationships processed\n",
      "35 relationships processed\n",
      "36 relationships processed\n",
      "37 relationships processed\n",
      "38 relationships processed\n",
      "39 relationships processed\n",
      "40 relationships processed\n",
      "41 relationships processed\n",
      "42 relationships processed\n",
      "43 relationships processed\n",
      "44 relationships processed\n",
      "45 relationships processed\n",
      "46 relationships processed\n",
      "47 relationships processed\n",
      "48 relationships processed\n",
      "49 relationships processed\n",
      "50 relationships processed\n",
      "51 relationships processed\n",
      "52 relationships processed\n",
      "53 relationships processed\n",
      "54 relationships processed\n",
      "55 relationships processed\n",
      "56 relationships processed\n",
      "57 relationships processed\n",
      "58 relationships processed\n",
      "59 relationships processed\n",
      "60 relationships processed\n"
     ]
    }
   ],
   "source": [
    "%%time\n",
    "domains_and_ranges = {}\n",
    "count = 0\n",
    "for k in properties:\n",
    "    ids1 = set([x for (x, y) in properties[k]])\n",
    "    types1 = set([item for sublist in map(get_types, ids1) for item in sublist])\n",
    "    ids2 = set([y for (x, y) in properties[k]])\n",
    "    types2 = set([item for sublist in map(get_types, ids2) for item in sublist])\n",
    "    domains_and_ranges[k] = (types1, types2)\n",
    "    count += 1\n",
    "    if count % 10 == 0:\n",
    "        print(count, 'relationships processed')"
   ]
  },
  {
   "cell_type": "code",
   "execution_count": 123,
   "metadata": {
    "collapsed": false
   },
   "outputs": [],
   "source": [
    "yes = []\n",
    "no = []\n",
    "for k in domains_and_ranges:\n",
    "    if not domains_and_ranges[k][1]:\n",
    "        no.append((k, final_relationship_dict[k]))\n",
    "    else:\n",
    "        yes.append((k, final_relationship_dict[k]))"
   ]
  },
  {
   "cell_type": "code",
   "execution_count": 127,
   "metadata": {
    "collapsed": false
   },
   "outputs": [
    {
     "data": {
      "text/plain": [
       "[('P921', 'main subject'),\n",
       " ('P1434', 'describes the fictional universe'),\n",
       " ('P361', 'part of'),\n",
       " ('P1445', 'fictional universe described in'),\n",
       " ('P144', 'based on'),\n",
       " ('P156', 'followed by'),\n",
       " ('P941', 'inspired by'),\n",
       " ('P1080', 'from fictional universe'),\n",
       " ('P136', 'genre'),\n",
       " ('P155', 'follows'),\n",
       " ('P179', 'series')]"
      ]
     },
     "execution_count": 127,
     "metadata": {},
     "output_type": "execute_result"
    }
   ],
   "source": [
    "yes"
   ]
  },
  {
   "cell_type": "code",
   "execution_count": 125,
   "metadata": {
    "collapsed": false
   },
   "outputs": [
    {
     "data": {
      "text/plain": [
       "[('P2002', 'Twitter username'),\n",
       " ('P1712', 'Metacritic ID'),\n",
       " ('P580', 'start time'),\n",
       " ('P243', 'OCLC control number'),\n",
       " ('P433', 'issue'),\n",
       " ('P1970', 'MovieMeter movie ID'),\n",
       " ('P852', 'ESRB rating'),\n",
       " ('P582', 'end time'),\n",
       " ('P1235', 'ISFDB series ID'),\n",
       " ('P495', 'country of origin'),\n",
       " ('P180', 'depicts'),\n",
       " ('P1804', 'Danish National Filmography ID'),\n",
       " ('P1811', 'list of episodes'),\n",
       " ('P957', 'ISBN-10'),\n",
       " ('P1258', 'Rotten Tomatoes identifier'),\n",
       " ('P2003', 'Instagram username'),\n",
       " ('P279', 'subclass of'),\n",
       " ('P1651', 'YouTube video identifier'),\n",
       " ('P1476', 'title'),\n",
       " ('P357', '(OBSOLETE) title (use P1476, \"title\")'),\n",
       " ('P212', 'ISBN-13'),\n",
       " ('P449', 'original network'),\n",
       " ('P856', 'official website'),\n",
       " ('P400', 'platform'),\n",
       " ('P17', 'country'),\n",
       " ('P914', 'USK rating'),\n",
       " ('P480', 'FilmAffinity identifier'),\n",
       " ('P1237', 'Box Office Mojo film ID'),\n",
       " ('P373', 'Commons category'),\n",
       " ('P646', 'Freebase identifier'),\n",
       " ('P854', 'reference URL'),\n",
       " ('P905', 'PORT film ID'),\n",
       " ('P2013', 'Facebook ID'),\n",
       " ('P577', 'publication date'),\n",
       " ('P553', 'website account on'),\n",
       " ('P437', 'distribution'),\n",
       " ('P31', 'instance of'),\n",
       " ('P910', \"topic's main category\"),\n",
       " ('P244', 'LCAuth identifier'),\n",
       " ('P908', 'PEGI rating'),\n",
       " ('P508', 'PIJAS'),\n",
       " ('P364', 'original language of work'),\n",
       " ('P1265', 'AlloCiné movie ID'),\n",
       " ('P915', 'filming location'),\n",
       " ('P348', 'software version'),\n",
       " ('P1407', 'MusicBrainz series ID'),\n",
       " ('P345', 'IMDb identifier'),\n",
       " ('P1562', 'AllMovie movie ID'),\n",
       " ('P275', 'license')]"
      ]
     },
     "execution_count": 125,
     "metadata": {},
     "output_type": "execute_result"
    }
   ],
   "source": [
    "no"
   ]
  },
  {
   "cell_type": "code",
   "execution_count": 128,
   "metadata": {
    "collapsed": false
   },
   "outputs": [],
   "source": []
  },
  {
   "cell_type": "code",
   "execution_count": 129,
   "metadata": {
    "collapsed": false
   },
   "outputs": [
    {
     "data": {
      "text/plain": [
       "{'P1080': 'from fictional universe',\n",
       " 'P136': 'genre',\n",
       " 'P1434': 'describes the fictional universe',\n",
       " 'P144': 'based on',\n",
       " 'P1445': 'fictional universe described in',\n",
       " 'P155': 'follows',\n",
       " 'P156': 'followed by',\n",
       " 'P179': 'series',\n",
       " 'P361': 'part of',\n",
       " 'P921': 'main subject',\n",
       " 'P941': 'inspired by'}"
      ]
     },
     "execution_count": 129,
     "metadata": {},
     "output_type": "execute_result"
    }
   ],
   "source": [
    "relationships"
   ]
  },
  {
   "cell_type": "code",
   "execution_count": 130,
   "metadata": {
    "collapsed": false
   },
   "outputs": [
    {
     "data": {
      "text/plain": [
       "{'P1080': ({'Q1983062', 'Q2623733', 'Q278379', 'Q33215'}, {'Q559618'}),\n",
       " 'P1235': ({'Q196600'}, set()),\n",
       " 'P1237': ({'Q11424'}, set()),\n",
       " 'P1258': ({'Q11424'}, set()),\n",
       " 'P1265': ({'Q11424'}, set()),\n",
       " 'P136': ({'Q11424',\n",
       "   'Q196600',\n",
       "   'Q1983062',\n",
       "   'Q3297186',\n",
       "   'Q5398426',\n",
       "   'Q571',\n",
       "   'Q581714',\n",
       "   'Q7889'},\n",
       "  {'Q5398426'}),\n",
       " 'P1407': ({'Q5398426'}, set()),\n",
       " 'P1434': ({'Q1114502', 'Q196600', 'Q386724', 'Q571'}, {'Q559618'}),\n",
       " 'P144': ({'Q11424', 'Q386724', 'Q571', 'Q653928', 'Q7889'},\n",
       "  {'Q11424', 'Q196600', 'Q1983062', 'Q5398426'}),\n",
       " 'P1445': ({'Q559618'},\n",
       "  {'Q1114502', 'Q11424', 'Q196600', 'Q386724', 'Q5398426', 'Q571'}),\n",
       " 'P1476': ({'Q1983062'}, set()),\n",
       " 'P155': ({'Q1137046',\n",
       "   'Q11424',\n",
       "   'Q1257934',\n",
       "   'Q1983062',\n",
       "   'Q3252662',\n",
       "   'Q3464665',\n",
       "   'Q482994',\n",
       "   'Q5398426',\n",
       "   'Q571',\n",
       "   'Q581714',\n",
       "   'Q838795'},\n",
       "  {'Q1137046',\n",
       "   'Q11424',\n",
       "   'Q1257934',\n",
       "   'Q1983062',\n",
       "   'Q3464665',\n",
       "   'Q5398426',\n",
       "   'Q571',\n",
       "   'Q581714'}),\n",
       " 'P156': ({'Q1137046',\n",
       "   'Q11424',\n",
       "   'Q1257934',\n",
       "   'Q1983062',\n",
       "   'Q3464665',\n",
       "   'Q482994',\n",
       "   'Q5398426',\n",
       "   'Q571',\n",
       "   'Q581714',\n",
       "   'Q838795'},\n",
       "  {'Q1137046',\n",
       "   'Q11424',\n",
       "   'Q1257934',\n",
       "   'Q1983062',\n",
       "   'Q3252662',\n",
       "   'Q3464665',\n",
       "   'Q5398426',\n",
       "   'Q571',\n",
       "   'Q581714'}),\n",
       " 'P1562': ({'Q11424'}, set()),\n",
       " 'P1651': ({'Q1983062', 'Q24862'}, set()),\n",
       " 'P17': ({'Q15416'}, set()),\n",
       " 'P1712': ({'Q7889'}, set()),\n",
       " 'P179': ({'Q1137046',\n",
       "   'Q1257934',\n",
       "   'Q1983062',\n",
       "   'Q24862',\n",
       "   'Q3252662',\n",
       "   'Q3464665',\n",
       "   'Q5398426',\n",
       "   'Q571',\n",
       "   'Q653928',\n",
       "   'Q7889'},\n",
       "  {'Q196600', 'Q3464665', 'Q5398426', 'Q581714', 'Q7889'}),\n",
       " 'P180': ({'Q838795'}, set()),\n",
       " 'P1804': ({'Q11424'}, set()),\n",
       " 'P1811': ({'Q5398426', 'Q581714'}, set()),\n",
       " 'P1970': ({'Q11424'}, set()),\n",
       " 'P2002': ({'Q196600'}, set()),\n",
       " 'P2003': ({'Q196600'}, set()),\n",
       " 'P2013': ({'Q196600'}, set()),\n",
       " 'P212': ({'Q571'}, set()),\n",
       " 'P243': ({'Q571'}, set()),\n",
       " 'P244': ({'Q5398426'}, set()),\n",
       " 'P275': ({'Q838795'}, set()),\n",
       " 'P279': ({'Q15416'}, set()),\n",
       " 'P31': ({'Q1114502',\n",
       "   'Q1137046',\n",
       "   'Q11424',\n",
       "   'Q1257934',\n",
       "   'Q134556',\n",
       "   'Q15416',\n",
       "   'Q15633582',\n",
       "   'Q186117',\n",
       "   'Q196600',\n",
       "   'Q1983062',\n",
       "   'Q24856',\n",
       "   'Q24862',\n",
       "   'Q2623733',\n",
       "   'Q278379',\n",
       "   'Q3252662',\n",
       "   'Q3297186',\n",
       "   'Q33215',\n",
       "   'Q3464665',\n",
       "   'Q35127',\n",
       "   'Q386724',\n",
       "   'Q41298',\n",
       "   'Q4176708',\n",
       "   'Q4234303',\n",
       "   'Q482994',\n",
       "   'Q5398426',\n",
       "   'Q559618',\n",
       "   'Q571',\n",
       "   'Q581714',\n",
       "   'Q653928',\n",
       "   'Q7889',\n",
       "   'Q838795'},\n",
       "  set()),\n",
       " 'P345': ({'Q11424', 'Q1983062', 'Q24862', 'Q5398426', 'Q581714', 'Q7889'},\n",
       "  set()),\n",
       " 'P348': ({'Q7889'}, set()),\n",
       " 'P357': ({'Q11424', 'Q41298'}, set()),\n",
       " 'P361': ({'Q1114502',\n",
       "   'Q1137046',\n",
       "   'Q1257934',\n",
       "   'Q15416',\n",
       "   'Q196600',\n",
       "   'Q1983062',\n",
       "   'Q24856',\n",
       "   'Q3252662',\n",
       "   'Q3464665',\n",
       "   'Q386724',\n",
       "   'Q5398426',\n",
       "   'Q571',\n",
       "   'Q581714',\n",
       "   'Q838795'},\n",
       "  {'Q196600', 'Q24856', 'Q3464665', 'Q5398426', 'Q581714'}),\n",
       " 'P364': ({'Q1137046',\n",
       "   'Q11424',\n",
       "   'Q1257934',\n",
       "   'Q15416',\n",
       "   'Q1983062',\n",
       "   'Q3252662',\n",
       "   'Q3464665',\n",
       "   'Q5398426',\n",
       "   'Q571',\n",
       "   'Q581714',\n",
       "   'Q838795'},\n",
       "  set()),\n",
       " 'P373': ({'Q11424',\n",
       "   'Q15416',\n",
       "   'Q196600',\n",
       "   'Q24856',\n",
       "   'Q2623733',\n",
       "   'Q278379',\n",
       "   'Q33215',\n",
       "   'Q5398426',\n",
       "   'Q581714'},\n",
       "  set()),\n",
       " 'P400': ({'Q653928', 'Q7889'}, set()),\n",
       " 'P433': ({'Q838795'}, set()),\n",
       " 'P437': ({'Q7889'}, set()),\n",
       " 'P449': ({'Q15416', 'Q5398426'}, set()),\n",
       " 'P480': ({'Q11424'}, set()),\n",
       " 'P495': ({'Q1137046',\n",
       "   'Q11424',\n",
       "   'Q1257934',\n",
       "   'Q196600',\n",
       "   'Q1983062',\n",
       "   'Q3252662',\n",
       "   'Q3464665',\n",
       "   'Q5398426',\n",
       "   'Q581714'},\n",
       "  set()),\n",
       " 'P508': ({'Q15416'}, set()),\n",
       " 'P553': ({'Q196600'}, set()),\n",
       " 'P577': ({'Q1137046',\n",
       "   'Q11424',\n",
       "   'Q15416',\n",
       "   'Q1983062',\n",
       "   'Q3252662',\n",
       "   'Q4176708',\n",
       "   'Q5398426',\n",
       "   'Q571',\n",
       "   'Q581714',\n",
       "   'Q7889',\n",
       "   'Q838795'},\n",
       "  set()),\n",
       " 'P580': ({'Q5398426'}, set()),\n",
       " 'P582': ({'Q5398426'}, set()),\n",
       " 'P646': ({'Q1137046',\n",
       "   'Q11424',\n",
       "   'Q15416',\n",
       "   'Q15633582',\n",
       "   'Q196600',\n",
       "   'Q1983062',\n",
       "   'Q2623733',\n",
       "   'Q278379',\n",
       "   'Q3252662',\n",
       "   'Q33215',\n",
       "   'Q3464665',\n",
       "   'Q35127',\n",
       "   'Q482994',\n",
       "   'Q5398426',\n",
       "   'Q571',\n",
       "   'Q581714',\n",
       "   'Q7889'},\n",
       "  set()),\n",
       " 'P852': ({'Q7889'}, set()),\n",
       " 'P854': ({'Q838795'}, set()),\n",
       " 'P856': ({'Q11424', 'Q196600', 'Q7889'}, set()),\n",
       " 'P905': ({'Q11424'}, set()),\n",
       " 'P908': ({'Q7889'}, set()),\n",
       " 'P910': ({'Q15416',\n",
       "   'Q196600',\n",
       "   'Q24856',\n",
       "   'Q2623733',\n",
       "   'Q278379',\n",
       "   'Q33215',\n",
       "   'Q4234303',\n",
       "   'Q5398426',\n",
       "   'Q581714'},\n",
       "  set()),\n",
       " 'P914': ({'Q7889'}, set()),\n",
       " 'P915': ({'Q11424', 'Q1983062', 'Q5398426'}, set()),\n",
       " 'P921': ({'Q11424', 'Q1983062', 'Q571'}, {'Q5398426'}),\n",
       " 'P941': ({'Q11424'}, {'Q11424'}),\n",
       " 'P957': ({'Q571'}, set())}"
      ]
     },
     "execution_count": 130,
     "metadata": {},
     "output_type": "execute_result"
    }
   ],
   "source": [
    "domains_and_ranges"
   ]
  },
  {
   "cell_type": "code",
   "execution_count": 108,
   "metadata": {
    "collapsed": false
   },
   "outputs": [
    {
     "data": {
      "text/plain": [
       "<map at 0x7f408014e588>"
      ]
     },
     "execution_count": 108,
     "metadata": {},
     "output_type": "execute_result"
    }
   ],
   "source": [
    "map(get_types, ids1)"
   ]
  },
  {
   "cell_type": "code",
   "execution_count": 105,
   "metadata": {
    "collapsed": false
   },
   "outputs": [
    {
     "data": {
      "text/plain": [
       "{1, 2, 3}"
      ]
     },
     "execution_count": 105,
     "metadata": {},
     "output_type": "execute_result"
    }
   ],
   "source": [
    "set([1,2,3])"
   ]
  },
  {
   "cell_type": "code",
   "execution_count": 95,
   "metadata": {
    "collapsed": false
   },
   "outputs": [
    {
     "name": "stdout",
     "output_type": "stream",
     "text": [
      "Expecting value: line 1 column 1 (char 0)\n"
     ]
    },
    {
     "data": {
      "text/plain": [
       "['Q15416']"
      ]
     },
     "execution_count": 95,
     "metadata": {},
     "output_type": "execute_result"
    }
   ],
   "source": [
    "get_types('Q2413772')"
   ]
  },
  {
   "cell_type": "code",
   "execution_count": null,
   "metadata": {
    "collapsed": true
   },
   "outputs": [],
   "source": []
  },
  {
   "cell_type": "code",
   "execution_count": 93,
   "metadata": {
    "collapsed": false
   },
   "outputs": [
    {
     "data": {
      "text/plain": [
       "set()"
      ]
     },
     "execution_count": 93,
     "metadata": {},
     "output_type": "execute_result"
    }
   ],
   "source": [
    "set(list(types1))"
   ]
  },
  {
   "cell_type": "code",
   "execution_count": 86,
   "metadata": {
    "collapsed": false
   },
   "outputs": [
    {
     "data": {
      "text/plain": [
       "{2, 3, 4}"
      ]
     },
     "execution_count": 86,
     "metadata": {},
     "output_type": "execute_result"
    }
   ],
   "source": [
    "set(map(lambda x: x+1, set([1,2,3])))"
   ]
  },
  {
   "cell_type": "code",
   "execution_count": 53,
   "metadata": {
    "collapsed": true
   },
   "outputs": [],
   "source": [
    "objects = set(objects)"
   ]
  },
  {
   "cell_type": "code",
   "execution_count": 50,
   "metadata": {
    "collapsed": false
   },
   "outputs": [
    {
     "data": {
      "text/plain": [
       "916"
      ]
     },
     "execution_count": 50,
     "metadata": {},
     "output_type": "execute_result"
    }
   ],
   "source": [
    "len(subjects)"
   ]
  },
  {
   "cell_type": "code",
   "execution_count": 51,
   "metadata": {
    "collapsed": false
   },
   "outputs": [
    {
     "data": {
      "text/plain": [
       "943"
      ]
     },
     "execution_count": 51,
     "metadata": {},
     "output_type": "execute_result"
    }
   ],
   "source": [
    "len(objects)"
   ]
  },
  {
   "cell_type": "code",
   "execution_count": 54,
   "metadata": {
    "collapsed": true
   },
   "outputs": [],
   "source": [
    "diff = subjects.difference(objects)"
   ]
  },
  {
   "cell_type": "code",
   "execution_count": 56,
   "metadata": {
    "collapsed": false
   },
   "outputs": [
    {
     "data": {
      "text/plain": [
       "159"
      ]
     },
     "execution_count": 56,
     "metadata": {},
     "output_type": "execute_result"
    }
   ],
   "source": [
    "len(diff)"
   ]
  },
  {
   "cell_type": "code",
   "execution_count": 57,
   "metadata": {
    "collapsed": false
   },
   "outputs": [
    {
     "data": {
      "text/plain": [
       "{'Q10134',\n",
       " 'Q10546277',\n",
       " 'Q1070917',\n",
       " 'Q1087392',\n",
       " 'Q1115005',\n",
       " 'Q1143426',\n",
       " 'Q1165846',\n",
       " 'Q11756023',\n",
       " 'Q1262613',\n",
       " 'Q1412961',\n",
       " 'Q14414302',\n",
       " 'Q1461062',\n",
       " 'Q1474668',\n",
       " 'Q15040824',\n",
       " 'Q15131926',\n",
       " 'Q15850703',\n",
       " 'Q15882750',\n",
       " 'Q16248700',\n",
       " 'Q16385914',\n",
       " 'Q1653324',\n",
       " 'Q16951220',\n",
       " 'Q16951227',\n",
       " 'Q16951231',\n",
       " 'Q16968662',\n",
       " 'Q17063005',\n",
       " 'Q17063010',\n",
       " 'Q17063025',\n",
       " 'Q17063041',\n",
       " 'Q1766193',\n",
       " 'Q18010743',\n",
       " 'Q18152780',\n",
       " 'Q18154557',\n",
       " 'Q186143',\n",
       " 'Q18615119',\n",
       " 'Q18754958',\n",
       " 'Q1911424',\n",
       " 'Q2048512',\n",
       " 'Q2332518',\n",
       " 'Q2413772',\n",
       " 'Q2517411',\n",
       " 'Q254463',\n",
       " 'Q3492749',\n",
       " 'Q3496990',\n",
       " 'Q3496991',\n",
       " 'Q3496992',\n",
       " 'Q3496996',\n",
       " 'Q3575367',\n",
       " 'Q3772804',\n",
       " 'Q3822426',\n",
       " 'Q3824662',\n",
       " 'Q3825149',\n",
       " 'Q383332',\n",
       " 'Q3966372',\n",
       " 'Q3968313',\n",
       " 'Q3968314',\n",
       " 'Q3968317',\n",
       " 'Q3968318',\n",
       " 'Q3968319',\n",
       " 'Q3968320',\n",
       " 'Q3968321',\n",
       " 'Q3968322',\n",
       " 'Q4659809',\n",
       " 'Q4676506',\n",
       " 'Q4849966',\n",
       " 'Q4880799',\n",
       " 'Q4883696',\n",
       " 'Q4898202',\n",
       " 'Q498824',\n",
       " 'Q502062',\n",
       " 'Q5208164',\n",
       " 'Q5223330',\n",
       " 'Q5256286',\n",
       " 'Q5299565',\n",
       " 'Q5306756',\n",
       " 'Q5380278',\n",
       " 'Q5385821',\n",
       " 'Q5419161',\n",
       " 'Q584232',\n",
       " 'Q646696',\n",
       " 'Q652985',\n",
       " 'Q662253',\n",
       " 'Q674612',\n",
       " 'Q678656',\n",
       " 'Q6952563',\n",
       " 'Q7201186',\n",
       " 'Q721520',\n",
       " 'Q7243252',\n",
       " 'Q727596',\n",
       " 'Q7301411',\n",
       " 'Q7315597',\n",
       " 'Q7423844',\n",
       " 'Q7499937',\n",
       " 'Q7600953',\n",
       " 'Q7600955',\n",
       " 'Q7600956',\n",
       " 'Q7600959',\n",
       " 'Q7600961',\n",
       " 'Q7600962',\n",
       " 'Q7600963',\n",
       " 'Q7600965',\n",
       " 'Q7600966',\n",
       " 'Q7600967',\n",
       " 'Q7600968',\n",
       " 'Q7600973',\n",
       " 'Q7600975',\n",
       " 'Q7600978',\n",
       " 'Q7600979',\n",
       " 'Q7600984',\n",
       " 'Q7600987',\n",
       " 'Q7600989',\n",
       " 'Q7600990',\n",
       " 'Q7600991',\n",
       " 'Q7600994',\n",
       " 'Q7600995',\n",
       " 'Q7600998',\n",
       " 'Q7601000',\n",
       " 'Q7601004',\n",
       " 'Q7601006',\n",
       " 'Q7601008',\n",
       " 'Q7601009',\n",
       " 'Q7601010',\n",
       " 'Q7601013',\n",
       " 'Q7601014',\n",
       " 'Q7601015',\n",
       " 'Q7601016',\n",
       " 'Q7601020',\n",
       " 'Q7601021',\n",
       " 'Q7601022',\n",
       " 'Q7601023',\n",
       " 'Q7601024',\n",
       " 'Q7601025',\n",
       " 'Q7601027',\n",
       " 'Q7601028',\n",
       " 'Q7601031',\n",
       " 'Q7601037',\n",
       " 'Q7601038',\n",
       " 'Q7601040',\n",
       " 'Q7601043',\n",
       " 'Q7601044',\n",
       " 'Q7601045',\n",
       " 'Q7601047',\n",
       " 'Q7601048',\n",
       " 'Q7623965',\n",
       " 'Q7647331',\n",
       " 'Q7733475',\n",
       " 'Q7760733',\n",
       " 'Q7766287',\n",
       " 'Q7784253',\n",
       " 'Q7837949',\n",
       " 'Q7840052',\n",
       " 'Q7919602',\n",
       " 'Q7943448',\n",
       " 'Q8078964',\n",
       " 'Q827164',\n",
       " 'Q831478',\n",
       " 'Q891149',\n",
       " 'Q932633',\n",
       " 'Q95156',\n",
       " 'Q95157'}"
      ]
     },
     "execution_count": 57,
     "metadata": {},
     "output_type": "execute_result"
    }
   ],
   "source": [
    "diff"
   ]
  },
  {
   "cell_type": "code",
   "execution_count": null,
   "metadata": {
    "collapsed": true
   },
   "outputs": [],
   "source": []
  }
 ],
 "metadata": {
  "kernelspec": {
   "display_name": "Python 3",
   "language": "python",
   "name": "python3"
  },
  "language_info": {
   "codemirror_mode": {
    "name": "ipython",
    "version": 3
   },
   "file_extension": ".py",
   "mimetype": "text/x-python",
   "name": "python",
   "nbconvert_exporter": "python",
   "pygments_lexer": "ipython3",
   "version": "3.4.3"
  }
 },
 "nbformat": 4,
 "nbformat_minor": 0
}
