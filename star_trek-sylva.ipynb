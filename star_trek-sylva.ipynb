{
 "cells": [
  {
   "cell_type": "code",
   "execution_count": 67,
   "metadata": {
    "collapsed": false
   },
   "outputs": [],
   "source": [
    "import json\n",
    "from collections import defaultdict"
   ]
  },
  {
   "cell_type": "code",
   "execution_count": 68,
   "metadata": {
    "collapsed": false
   },
   "outputs": [],
   "source": [
    "final_relationship_dict = {\n",
    "    'P1080': 'from fictional universe',\n",
    "    'P1235': 'ISFDB series ID',\n",
    "    'P1237': 'Box Office Mojo film ID',\n",
    "    'P1258': 'Rotten Tomatoes identifier',\n",
    "    'P1265': 'AlloCiné movie ID',\n",
    "    'P136': 'genre',\n",
    "    'P1407': 'MusicBrainz series ID',\n",
    "    'P1434': 'describes the fictional universe',\n",
    "    'P144': 'based on',\n",
    "    'P1445': 'fictional universe described in',\n",
    "    'P1476': 'title',\n",
    "    'P155': 'follows',\n",
    "    'P156': 'followed by',\n",
    "    'P1562': 'AllMovie movie ID',\n",
    "    'P1651': 'YouTube video identifier',\n",
    "    'P17': 'country',\n",
    "    'P1712': 'Metacritic ID',\n",
    "    'P179': 'series',\n",
    "    'P180': 'depicts',\n",
    "    'P1804': 'Danish National Filmography ID',\n",
    "    'P1811': 'list of episodes',\n",
    "    'P1970': 'MovieMeter movie ID',\n",
    "    'P2002': 'Twitter username',\n",
    "    'P2003': 'Instagram username',\n",
    "    'P2013': 'Facebook ID',\n",
    "    'P212': 'ISBN-13',\n",
    "    'P243': 'OCLC control number',\n",
    "    'P244': 'LCAuth identifier',\n",
    "    'P275': 'license',\n",
    "    'P279': 'subclass of',\n",
    "    'P31': 'instance of',\n",
    "    'P345': 'IMDb identifier',\n",
    "    'P348': 'software version',\n",
    "    'P357': '(OBSOLETE) title (use P1476, \"title\")',\n",
    "    'P361': 'part of',\n",
    "    'P364': 'original language of work',\n",
    "    'P373': 'Commons category',\n",
    "    'P400': 'platform',\n",
    "    'P433': 'issue',\n",
    "    'P437': 'distribution',\n",
    "    'P449': 'original network',\n",
    "    'P480': 'FilmAffinity identifier',\n",
    "    'P495': 'country of origin',\n",
    "    'P508': 'PIJAS',\n",
    "    'P553': 'website account on',\n",
    "    'P577': 'publication date',\n",
    "    'P580': 'start time',\n",
    "    'P582': 'end time',\n",
    "    'P646': 'Freebase identifier',\n",
    "    'P852': 'ESRB rating',\n",
    "    'P854': 'reference URL',\n",
    "    'P856': 'official website',\n",
    "    'P905': 'PORT film ID',\n",
    "    'P908': 'PEGI rating',\n",
    "    'P910': \"topic's main category\",\n",
    "    'P914': 'USK rating',\n",
    "    'P915': 'filming location',\n",
    "    'P921': 'main subject',\n",
    "    'P941': 'inspired by',\n",
    "    'P957': 'ISBN-10'\n",
    "}"
   ]
  },
  {
   "cell_type": "code",
   "execution_count": 173,
   "metadata": {
    "collapsed": false
   },
   "outputs": [],
   "source": [
    "final_type_dict = {\n",
    "    'Q1114502': 'American comic book',\n",
    "    'Q1137046': 'Star Trek: The Next Generation episode',\n",
    "    'Q11424': 'film',\n",
    "    'Q1257934': 'clip show',\n",
    "    'Q134556': 'single',\n",
    "    'Q15416': 'television program',\n",
    "    'Q186117': 'timeline',\n",
    "    'Q196600': 'media franchise',\n",
    "    'Q1983062': 'episode',\n",
    "    'Q24856': 'film series',\n",
    "    'Q24862': 'short film',\n",
    "    'Q278379': 'a priori language',\n",
    "    'Q3252662': 'series finale',\n",
    "    'Q3297186': 'limited series',\n",
    "    'Q33215': 'constructed language',\n",
    "    'Q3464665': 'television season',\n",
    "    'Q35127': 'website',\n",
    "    'Q386724': 'work',\n",
    "    'Q41298': 'magazine',\n",
    "    'Q4176708': 'soundtrack album',\n",
    "    'Q4234303': 'WikiProject',\n",
    "    'Q482994': 'album',\n",
    "    'Q5398426': 'television series',\n",
    "    'Q559618': 'fictional universe',\n",
    "    'Q571': 'book',\n",
    "    'Q581714': 'animated series',\n",
    "    'Q7889': 'video game',\n",
    "    'Q838795': 'comic strip',\n",
    "    # new types\n",
    "    'Q15633582': 'MediaWiki site',\n",
    "    'Q2623733': 'fictional language',\n",
    "    'Q653928': 'pinball',\n",
    "}"
   ]
  },
  {
   "cell_type": "code",
   "execution_count": 174,
   "metadata": {
    "collapsed": false
   },
   "outputs": [],
   "source": [
    "wikidata_to_sylva_types = {\n",
    "    'Q1114502': ('American comic book', 'Comic'),\n",
    "    'Q1137046': ('Star Trek: The Next Generation episode', 'Episode'),\n",
    "    'Q11424': ('film', 'Film'),\n",
    "    'Q1257934': ('clip show', 'Episode'),\n",
    "    'Q134556': ('single', 'Single'),\n",
    "    'Q15416': ('television program', 'TV_program'),\n",
    "    'Q186117': ('timeline', 'Timeline'),\n",
    "    'Q196600': ('media franchise', 'Series'),\n",
    "    'Q1983062': ('episode', 'Episode'),\n",
    "    'Q24856': ('film series', 'Film_series'),\n",
    "    'Q24862': ('short film', 'Film'),\n",
    "    'Q278379': ('a priori language', 'Language'),\n",
    "    'Q3252662': ('series finale', 'Episode'),\n",
    "    'Q3297186': ('limited series', 'Comic_series'),\n",
    "    'Q33215': ('constructed language', 'Language'),\n",
    "    'Q3464665': ('television season', 'TV_season'),\n",
    "    'Q35127': ('website', 'Website'),\n",
    "    'Q386724': ('work', 'Word'),\n",
    "    'Q41298': ('magazine', 'Magazine'),\n",
    "    'Q4176708': ('soundtrack album', 'Soundtrack_album'),\n",
    "    'Q4234303': ('WikiProject', 'Website'),\n",
    "    'Q482994': ('album', 'Album'),\n",
    "    'Q5398426': ('television series', 'TV_series'),\n",
    "    'Q559618': ('fictional universe', 'Fictional_universe'),\n",
    "    'Q571': ('book', 'Book'),\n",
    "    'Q581714': ('animated series', 'Animated_series'),\n",
    "    'Q7889': ('video game', 'Video_game'),\n",
    "    'Q838795': ('comic strip', 'Comic'),\n",
    "    'Q15633582': ('MediaWiki site', 'Website'),\n",
    "    'Q2623733': ('fictional language', 'Language'),\n",
    "    'Q653928': ('pinball', 'Video_game'),\n",
    "}"
   ]
  },
  {
   "cell_type": "code",
   "execution_count": 175,
   "metadata": {
    "collapsed": false
   },
   "outputs": [
    {
     "data": {
      "text/plain": [
       "{'Album',\n",
       " 'Animated_series',\n",
       " 'Book',\n",
       " 'Comic',\n",
       " 'Comic_series',\n",
       " 'Episode',\n",
       " 'Fictional_universe',\n",
       " 'Film',\n",
       " 'Film_series',\n",
       " 'Language',\n",
       " 'Magazine',\n",
       " 'Series',\n",
       " 'Single',\n",
       " 'Soundtrack_album',\n",
       " 'TV_program',\n",
       " 'TV_season',\n",
       " 'TV_series',\n",
       " 'Timeline',\n",
       " 'Video_game',\n",
       " 'Website',\n",
       " 'Word'}"
      ]
     },
     "execution_count": 175,
     "metadata": {},
     "output_type": "execute_result"
    }
   ],
   "source": [
    "# Classes on Sylva\n",
    "ts = set()\n",
    "for k, v in wikidata_to_sylva_types.items():\n",
    "    ts.add(v[1])\n",
    "ts"
   ]
  },
  {
   "cell_type": "code",
   "execution_count": 133,
   "metadata": {
    "collapsed": false
   },
   "outputs": [
    {
     "name": "stdout",
     "output_type": "stream",
     "text": [
      "Total: 918\n",
      "Count: 6612\n",
      "Error: 2\n",
      "CPU times: user 87.5 ms, sys: 0 ns, total: 87.5 ms\n",
      "Wall time: 86.8 ms\n"
     ]
    }
   ],
   "source": [
    "%%time\n",
    "total = 0\n",
    "count = 0\n",
    "error = 0\n",
    "graph = defaultdict(list)\n",
    "with open('wikidata-20150907-star_trek-relevant-rels-and-types.json') as f:\n",
    "    for line in f:\n",
    "        try:\n",
    "            total += 1\n",
    "            cleaned = line.strip()[:-1]\n",
    "            d = json.loads(cleaned)\n",
    "            id1 = d['id']\n",
    "            for rel in d['claims']:\n",
    "                for rel_inst in d['claims'][rel]:\n",
    "                    type_rel = rel_inst['mainsnak']['datavalue']['type']\n",
    "                    id2 = None\n",
    "                    if type_rel == 'wikibase-entityid':\n",
    "                        value = rel_inst['mainsnak']['datavalue']['value']['numeric-id']\n",
    "                        id2 = 'Q' + str(value)\n",
    "                    graph[rel].append((id1, id2))\n",
    "                    count += 1\n",
    "        except Exception as e:\n",
    "            error += 1\n",
    "print('Total:', total)\n",
    "print('Count:', count)\n",
    "print('Error:', error)"
   ]
  },
  {
   "cell_type": "code",
   "execution_count": 134,
   "metadata": {
    "collapsed": false
   },
   "outputs": [
    {
     "data": {
      "text/plain": [
       "60"
      ]
     },
     "execution_count": 134,
     "metadata": {},
     "output_type": "execute_result"
    }
   ],
   "source": [
    "len(graph)"
   ]
  },
  {
   "cell_type": "code",
   "execution_count": 110,
   "metadata": {
    "collapsed": false
   },
   "outputs": [],
   "source": [
    "def get_types(ide):\n",
    "    types = []\n",
    "    with open('wikidata-20150907-star_trek-relevant-rels-and-types.json') as f:\n",
    "        for line in f:\n",
    "            try:\n",
    "                cleaned = line.strip()[:-1]\n",
    "                d = json.loads(cleaned)\n",
    "                if ide == d['id']:\n",
    "                    for rel_inst in d['claims']['P31']:\n",
    "                        typ = 'Q' + str(rel_inst['mainsnak']['datavalue']['value']['numeric-id'])\n",
    "                        types.append(typ)\n",
    "                    break\n",
    "            except Exception as e:\n",
    "                pass\n",
    "    return types"
   ]
  },
  {
   "cell_type": "code",
   "execution_count": 168,
   "metadata": {
    "collapsed": false
   },
   "outputs": [
    {
     "name": "stdout",
     "output_type": "stream",
     "text": [
      "10 relationships processed\n",
      "20 relationships processed\n",
      "30 relationships processed\n",
      "40 relationships processed\n",
      "50 relationships processed\n",
      "60 relationships processed\n",
      "CPU times: user 4min 51s, sys: 4.69 s, total: 4min 56s\n",
      "Wall time: 4min 55s\n"
     ]
    }
   ],
   "source": [
    "%%time\n",
    "domains_and_ranges_sets = {}\n",
    "count = 0\n",
    "for k in graph:\n",
    "    ids1 = set([x for (x, y) in graph[k]])\n",
    "    types1 = set([item for sublist in map(get_types, ids1) for item in sublist])\n",
    "    ids2 = set([y for (x, y) in graph[k]])\n",
    "    types2 = set([item for sublist in map(get_types, ids2) for item in sublist])\n",
    "    domains_and_ranges_sets[k] = (types1, types2)\n",
    "    count += 1\n",
    "    if count % 10 == 0:\n",
    "        print(count, 'relationships processed')"
   ]
  },
  {
   "cell_type": "code",
   "execution_count": 176,
   "metadata": {
    "collapsed": false
   },
   "outputs": [],
   "source": [
    "ok = set()\n",
    "err = set()\n",
    "for k in domains_and_ranges_sets:\n",
    "    ds, rs = domains_and_ranges_sets[k]\n",
    "    for d in ds:\n",
    "        if d not in final_type_dict:\n",
    "            err.add(d)\n",
    "        else:\n",
    "            ok.add(d)\n",
    "    for r in rs:\n",
    "        if r not in final_type_dict:\n",
    "            err.add(r)\n",
    "        else:\n",
    "            ok.add(r)"
   ]
  },
  {
   "cell_type": "code",
   "execution_count": 177,
   "metadata": {
    "collapsed": false
   },
   "outputs": [
    {
     "data": {
      "text/plain": [
       "set()"
      ]
     },
     "execution_count": 177,
     "metadata": {},
     "output_type": "execute_result"
    }
   ],
   "source": [
    "err"
   ]
  },
  {
   "cell_type": "code",
   "execution_count": 178,
   "metadata": {
    "collapsed": false
   },
   "outputs": [],
   "source": [
    "yes = []\n",
    "no = []\n",
    "for k in domains_and_ranges_sets:\n",
    "    if k == 'P17'  or k == 'P577':\n",
    "        yes.append((k, (final_relationship_dict[k], 'attribute')))\n",
    "    elif domains_and_ranges_sets[k][1]:\n",
    "        yes.append((k, (final_relationship_dict[k], 'relationship')))\n",
    "    else:\n",
    "        no.append((k, (final_relationship_dict[k], 'attribute')))"
   ]
  },
  {
   "cell_type": "code",
   "execution_count": 179,
   "metadata": {
    "collapsed": false
   },
   "outputs": [
    {
     "data": {
      "text/plain": [
       "[('P921', ('main subject', 'relationship')),\n",
       " ('P1434', ('describes the fictional universe', 'relationship')),\n",
       " ('P361', ('part of', 'relationship')),\n",
       " ('P1445', ('fictional universe described in', 'relationship')),\n",
       " ('P144', ('based on', 'relationship')),\n",
       " ('P156', ('followed by', 'relationship')),\n",
       " ('P17', ('country', 'attribute')),\n",
       " ('P941', ('inspired by', 'relationship')),\n",
       " ('P1080', ('from fictional universe', 'relationship')),\n",
       " ('P136', ('genre', 'relationship')),\n",
       " ('P577', ('publication date', 'attribute')),\n",
       " ('P155', ('follows', 'relationship')),\n",
       " ('P179', ('series', 'relationship'))]"
      ]
     },
     "execution_count": 179,
     "metadata": {},
     "output_type": "execute_result"
    }
   ],
   "source": [
    "yes"
   ]
  },
  {
   "cell_type": "code",
   "execution_count": 180,
   "metadata": {
    "collapsed": false
   },
   "outputs": [
    {
     "data": {
      "text/plain": [
       "{'P1080': ('from fictional universe', 'relationship'),\n",
       " 'P136': ('genre', 'relationship'),\n",
       " 'P1434': ('describes the fictional universe', 'relationship'),\n",
       " 'P144': ('based on', 'relationship'),\n",
       " 'P1445': ('fictional universe described in', 'relationship'),\n",
       " 'P155': ('follows', 'relationship'),\n",
       " 'P156': ('followed by', 'relationship'),\n",
       " 'P17': ('country', 'attribute'),\n",
       " 'P179': ('series', 'relationship'),\n",
       " 'P361': ('part of', 'relationship'),\n",
       " 'P577': ('publication date', 'attribute'),\n",
       " 'P921': ('main subject', 'relationship'),\n",
       " 'P941': ('inspired by', 'relationship')}"
      ]
     },
     "execution_count": 180,
     "metadata": {},
     "output_type": "execute_result"
    }
   ],
   "source": [
    "properties = dict(yes)\n",
    "properties"
   ]
  },
  {
   "cell_type": "code",
   "execution_count": 160,
   "metadata": {
    "collapsed": true
   },
   "outputs": [],
   "source": [
    "# properties = {\n",
    "#     'P1080': ('from fictional universe', 'relationship'),\n",
    "#     'P136': ('genre', 'relationship'),\n",
    "#     'P1434': ('describes the fictional universe', 'relationship'),\n",
    "#     'P144': ('based on', 'relationship'),\n",
    "#     'P1445': ('fictional universe described in', 'relationship'),\n",
    "#     'P155': ('follows', 'relationship'),\n",
    "#     'P156': ('followed by', 'relationship'),\n",
    "#     'P17': ('country', 'attribute'),\n",
    "#     'P179': ('series', 'relationship'),\n",
    "#     'P361': ('part of', 'relationship'),\n",
    "#     'P577': ('publication date', 'attribute'),\n",
    "#     'P921': ('main subject', 'relationship'),\n",
    "#     'P941': ('inspired by', 'relationship')\n",
    "# }"
   ]
  },
  {
   "cell_type": "code",
   "execution_count": 161,
   "metadata": {
    "collapsed": false
   },
   "outputs": [
    {
     "name": "stdout",
     "output_type": "stream",
     "text": [
      "10 relationships processed\n",
      "20 relationships processed\n",
      "30 relationships processed\n",
      "40 relationships processed\n",
      "50 relationships processed\n",
      "60 relationships processed\n",
      "CPU times: user 3min 26s, sys: 3.61 s, total: 3min 29s\n",
      "Wall time: 3min 29s\n"
     ]
    }
   ],
   "source": [
    "%%time\n",
    "domains_and_ranges = {}\n",
    "count = 0\n",
    "for k in graph:\n",
    "    if k in properties:\n",
    "        domains_and_ranges[k] = [(get_types(id1), get_types(id2)) for (id1, id2) in graph[k]]\n",
    "    count += 1\n",
    "    if count % 10 == 0:\n",
    "        print(count, 'relationships processed')"
   ]
  },
  {
   "cell_type": "code",
   "execution_count": 157,
   "metadata": {
    "collapsed": true
   },
   "outputs": [],
   "source": [
    "filtered_graph = {}\n",
    "for k in graph:\n",
    "    if k in properties:\n",
    "        filtered_graph[k] = graph[k]"
   ]
  },
  {
   "cell_type": "code",
   "execution_count": 159,
   "metadata": {
    "collapsed": false
   },
   "outputs": [],
   "source": [
    "# filtered_graph"
   ]
  },
  {
   "cell_type": "code",
   "execution_count": 182,
   "metadata": {
    "collapsed": false
   },
   "outputs": [],
   "source": [
    "properties_tuple3 = set()\n",
    "for k in filtered_graph:\n",
    "    drs = domains_and_ranges[k]\n",
    "    for dr in drs:\n",
    "        ds = dr[0]\n",
    "        rs = dr[1]\n",
    "        for d in ds:\n",
    "            for r in rs:\n",
    "                dom = wikidata_to_sylva_types[d][1]\n",
    "                if properties[k][1] == 'relationship':\n",
    "                    ran = wikidata_to_sylva_types[r][1]\n",
    "                else:\n",
    "                    ran = 'string'\n",
    "                rel = dom.lower() + '_' + properties[k][0].replace(' ', '_')\n",
    "                properties_tuple3.add((dom, rel, ran))"
   ]
  },
  {
   "cell_type": "code",
   "execution_count": 184,
   "metadata": {
    "collapsed": false
   },
   "outputs": [
    {
     "data": {
      "text/plain": [
       "{('Animated_series', 'animated_series_followed_by', 'TV_series'),\n",
       " ('Animated_series', 'animated_series_follows', 'TV_series'),\n",
       " ('Animated_series', 'animated_series_part_of', 'Series'),\n",
       " ('Book', 'book_based_on', 'Film'),\n",
       " ('Book', 'book_based_on', 'TV_series'),\n",
       " ('Book', 'book_describes_the_fictional_universe', 'Fictional_universe'),\n",
       " ('Book', 'book_followed_by', 'Book'),\n",
       " ('Book', 'book_follows', 'Book'),\n",
       " ('Book', 'book_genre', 'TV_series'),\n",
       " ('Book', 'book_main_subject', 'TV_series'),\n",
       " ('Book', 'book_part_of', 'Series'),\n",
       " ('Book', 'book_series', 'TV_series'),\n",
       " ('Comic', 'comic_describes_the_fictional_universe', 'Fictional_universe'),\n",
       " ('Comic', 'comic_part_of', 'Series'),\n",
       " ('Episode', 'episode_followed_by', 'Episode'),\n",
       " ('Episode', 'episode_follows', 'Episode'),\n",
       " ('Episode', 'episode_from_fictional_universe', 'Fictional_universe'),\n",
       " ('Episode', 'episode_part_of', 'TV_season'),\n",
       " ('Episode', 'episode_part_of', 'TV_series'),\n",
       " ('Episode', 'episode_series', 'Animated_series'),\n",
       " ('Episode', 'episode_series', 'TV_season'),\n",
       " ('Episode', 'episode_series', 'TV_series'),\n",
       " ('Fictional_universe',\n",
       "  'fictional_universe_fictional_universe_described_in',\n",
       "  'Book'),\n",
       " ('Fictional_universe',\n",
       "  'fictional_universe_fictional_universe_described_in',\n",
       "  'Comic'),\n",
       " ('Fictional_universe',\n",
       "  'fictional_universe_fictional_universe_described_in',\n",
       "  'Film'),\n",
       " ('Fictional_universe',\n",
       "  'fictional_universe_fictional_universe_described_in',\n",
       "  'Series'),\n",
       " ('Fictional_universe',\n",
       "  'fictional_universe_fictional_universe_described_in',\n",
       "  'TV_series'),\n",
       " ('Fictional_universe',\n",
       "  'fictional_universe_fictional_universe_described_in',\n",
       "  'Word'),\n",
       " ('Film', 'film_based_on', 'Episode'),\n",
       " ('Film', 'film_based_on', 'Series'),\n",
       " ('Film', 'film_followed_by', 'Film'),\n",
       " ('Film', 'film_follows', 'Film'),\n",
       " ('Film', 'film_inspired_by', 'Film'),\n",
       " ('Film_series', 'film_series_part_of', 'Series'),\n",
       " ('Language', 'language_from_fictional_universe', 'Fictional_universe'),\n",
       " ('Series', 'series_describes_the_fictional_universe', 'Fictional_universe'),\n",
       " ('Series', 'series_part_of', 'Series'),\n",
       " ('TV_program', 'tv_program_part_of', 'Series'),\n",
       " ('TV_season', 'tv_season_followed_by', 'TV_season'),\n",
       " ('TV_season', 'tv_season_follows', 'TV_season'),\n",
       " ('TV_season', 'tv_season_part_of', 'Animated_series'),\n",
       " ('TV_season', 'tv_season_part_of', 'TV_series'),\n",
       " ('TV_season', 'tv_season_series', 'Animated_series'),\n",
       " ('TV_season', 'tv_season_series', 'TV_series'),\n",
       " ('TV_series', 'tv_series_followed_by', 'Animated_series'),\n",
       " ('TV_series', 'tv_series_followed_by', 'TV_series'),\n",
       " ('TV_series', 'tv_series_follows', 'Animated_series'),\n",
       " ('TV_series', 'tv_series_follows', 'TV_series'),\n",
       " ('TV_series', 'tv_series_part_of', 'Film_series'),\n",
       " ('TV_series', 'tv_series_part_of', 'Series'),\n",
       " ('TV_series', 'tv_series_series', 'Series'),\n",
       " ('Video_game', 'video_game_based_on', 'TV_series'),\n",
       " ('Video_game', 'video_game_series', 'Series'),\n",
       " ('Video_game', 'video_game_series', 'TV_series'),\n",
       " ('Video_game', 'video_game_series', 'Video_game'),\n",
       " ('Word', 'word_based_on', 'TV_series'),\n",
       " ('Word', 'word_describes_the_fictional_universe', 'Fictional_universe'),\n",
       " ('Word', 'word_part_of', 'Series')}"
      ]
     },
     "execution_count": 184,
     "metadata": {},
     "output_type": "execute_result"
    }
   ],
   "source": [
    "properties_tuple3"
   ]
  },
  {
   "cell_type": "code",
   "execution_count": null,
   "metadata": {
    "collapsed": true
   },
   "outputs": [],
   "source": []
  },
  {
   "cell_type": "code",
   "execution_count": 188,
   "metadata": {
    "collapsed": true
   },
   "outputs": [],
   "source": [
    "import os\n",
    "import shutil"
   ]
  },
  {
   "cell_type": "code",
   "execution_count": 193,
   "metadata": {
    "collapsed": false
   },
   "outputs": [],
   "source": [
    "shutil.rmtree('nodes')\n",
    "shutil.rmtree('relationships')\n",
    "os.makedirs('nodes')\n",
    "os.makedirs('relationships')"
   ]
  },
  {
   "cell_type": "code",
   "execution_count": null,
   "metadata": {
    "collapsed": true
   },
   "outputs": [],
   "source": []
  }
 ],
 "metadata": {
  "kernelspec": {
   "display_name": "Python 3",
   "language": "python",
   "name": "python3"
  },
  "language_info": {
   "codemirror_mode": {
    "name": "ipython",
    "version": 3
   },
   "file_extension": ".py",
   "mimetype": "text/x-python",
   "name": "python",
   "nbconvert_exporter": "python",
   "pygments_lexer": "ipython3",
   "version": "3.4.3"
  }
 },
 "nbformat": 4,
 "nbformat_minor": 0
}
