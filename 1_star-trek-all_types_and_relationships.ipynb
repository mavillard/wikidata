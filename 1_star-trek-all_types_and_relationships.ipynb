{
 "cells": [
  {
   "cell_type": "code",
   "execution_count": 1,
   "metadata": {
    "collapsed": false
   },
   "outputs": [],
   "source": [
    "import json\n",
    "import pickle\n",
    "import re\n",
    "\n",
    "import requests"
   ]
  },
  {
   "cell_type": "code",
   "execution_count": 2,
   "metadata": {
    "collapsed": true
   },
   "outputs": [],
   "source": [
    "all_relationships_list = [] # all relationships\n",
    "all_types_list = [] # all types of instances"
   ]
  },
  {
   "cell_type": "code",
   "execution_count": 3,
   "metadata": {
    "collapsed": false
   },
   "outputs": [
    {
     "name": "stdout",
     "output_type": "stream",
     "text": [
      "Total: 1630\n",
      "Count: 1628\n",
      "Error: 2\n",
      "CPU times: user 224 ms, sys: 682 µs, total: 225 ms\n",
      "Wall time: 200 ms\n"
     ]
    }
   ],
   "source": [
    "%%time\n",
    "total = 0\n",
    "count = 0\n",
    "error = 0\n",
    "with open('data/wikidata-20150907-star_trek.json') as f:\n",
    "    for line in f:\n",
    "        try:\n",
    "            total += 1\n",
    "            cleaned = line.strip()[:-1]\n",
    "            d = json.loads(cleaned)\n",
    "            for rel in d['claims']:\n",
    "                all_relationships_list.append(rel)\n",
    "                if rel == 'P31':\n",
    "                    types = d['claims']['P31']\n",
    "                    for t in types:\n",
    "                        typ = 'Q' + str(t['mainsnak']['datavalue']['value']['numeric-id'])\n",
    "                        all_types_list.append(typ)\n",
    "            count += 1\n",
    "        except Exception as e:\n",
    "            error += 1\n",
    "print('Total:', total)\n",
    "print('Count:', count)\n",
    "print('Error:', error)"
   ]
  },
  {
   "cell_type": "code",
   "execution_count": 4,
   "metadata": {
    "collapsed": false
   },
   "outputs": [
    {
     "data": {
      "text/plain": [
       "9647"
      ]
     },
     "execution_count": 4,
     "metadata": {},
     "output_type": "execute_result"
    }
   ],
   "source": [
    "len(all_relationships_list)"
   ]
  },
  {
   "cell_type": "code",
   "execution_count": 5,
   "metadata": {
    "collapsed": false
   },
   "outputs": [
    {
     "data": {
      "text/plain": [
       "1408"
      ]
     },
     "execution_count": 5,
     "metadata": {},
     "output_type": "execute_result"
    }
   ],
   "source": [
    "len(all_types_list)"
   ]
  },
  {
   "cell_type": "code",
   "execution_count": 6,
   "metadata": {
    "collapsed": false
   },
   "outputs": [],
   "source": [
    "all_relationships_list = list(set(all_relationships_list))\n",
    "all_types_list = list(set(all_types_list))"
   ]
  },
  {
   "cell_type": "code",
   "execution_count": 7,
   "metadata": {
    "collapsed": false
   },
   "outputs": [
    {
     "data": {
      "text/plain": [
       "177"
      ]
     },
     "execution_count": 7,
     "metadata": {},
     "output_type": "execute_result"
    }
   ],
   "source": [
    "len(all_relationships_list)"
   ]
  },
  {
   "cell_type": "code",
   "execution_count": 8,
   "metadata": {
    "collapsed": false
   },
   "outputs": [
    {
     "data": {
      "text/plain": [
       "67"
      ]
     },
     "execution_count": 8,
     "metadata": {},
     "output_type": "execute_result"
    }
   ],
   "source": [
    "len(all_types_list)"
   ]
  },
  {
   "cell_type": "code",
   "execution_count": 9,
   "metadata": {
    "collapsed": true
   },
   "outputs": [],
   "source": [
    "all_relationships_dict = {}\n",
    "all_types_dict = {}"
   ]
  },
  {
   "cell_type": "code",
   "execution_count": 10,
   "metadata": {
    "collapsed": false
   },
   "outputs": [
    {
     "name": "stdout",
     "output_type": "stream",
     "text": [
      "CPU times: user 211 ms, sys: 4.24 ms, total: 215 ms\n",
      "Wall time: 3.3 s\n"
     ]
    }
   ],
   "source": [
    "%%time\n",
    "base_url = 'https://www.wikidata.org/w/api.php'\n",
    "limit = 50\n",
    "\n",
    "chunks = [all_relationships_list[x:x+limit] for x in range(0, len(all_relationships_list), limit)]\n",
    "for chunk in chunks:\n",
    "    relationship_ids = '|'.join(chunk)\n",
    "    payload = {'action': 'wbgetentities', 'ids': relationship_ids, 'languages': 'en', 'format': 'json'}\n",
    "    r = requests.get(base_url, params=payload)\n",
    "    response = r.json()\n",
    "    entities = response['entities']\n",
    "    for ide in entities:\n",
    "        all_relationships_dict[ide] = entities[ide]['labels']['en']['value']\n",
    "\n",
    "chunks = [all_types_list[x:x+limit] for x in range(0, len(all_types_list), limit)]\n",
    "for chunk in chunks:\n",
    "    type_ids = '|'.join(chunk)\n",
    "    payload = {'action': 'wbgetentities', 'ids': type_ids, 'languages': 'en', 'format': 'json'}\n",
    "    r = requests.get(base_url, params=payload)\n",
    "    response = r.json()\n",
    "    entities = response['entities']\n",
    "    for ide in entities:\n",
    "        all_types_dict[ide] = entities[ide]['labels']['en']['value']"
   ]
  },
  {
   "cell_type": "code",
   "execution_count": 11,
   "metadata": {
    "collapsed": false
   },
   "outputs": [
    {
     "data": {
      "text/plain": [
       "177"
      ]
     },
     "execution_count": 11,
     "metadata": {},
     "output_type": "execute_result"
    }
   ],
   "source": [
    "len(all_relationships_dict)"
   ]
  },
  {
   "cell_type": "code",
   "execution_count": 12,
   "metadata": {
    "collapsed": false
   },
   "outputs": [
    {
     "data": {
      "text/plain": [
       "67"
      ]
     },
     "execution_count": 12,
     "metadata": {},
     "output_type": "execute_result"
    }
   ],
   "source": [
    "len(all_types_dict)"
   ]
  },
  {
   "cell_type": "code",
   "execution_count": 13,
   "metadata": {
    "collapsed": false
   },
   "outputs": [
    {
     "data": {
      "text/plain": [
       "{'P1005': 'PTBNP identifier',\n",
       " 'P1006': 'NTA identifier (Netherlands)',\n",
       " 'P101': 'field of work',\n",
       " 'P1019': 'feed URL',\n",
       " 'P103': 'native language',\n",
       " 'P106': 'occupation',\n",
       " 'P1074': 'fictional analog of',\n",
       " 'P1080': 'from fictional universe',\n",
       " 'P110': 'illustrator',\n",
       " 'P1104': 'number of pages',\n",
       " 'P1151': \"topic's main Wikimedia portal\",\n",
       " 'P1165': 'home world',\n",
       " 'P1196': 'manner of death',\n",
       " 'P1204': \"Wikimedia portal's main topic\",\n",
       " 'P1207': 'NUKAT (WarsawU) authorities',\n",
       " 'P122': 'basic form of government',\n",
       " 'P123': 'publisher',\n",
       " 'P1233': 'ISFDB author ID',\n",
       " 'P1235': 'ISFDB series ID',\n",
       " 'P1237': 'Box Office Mojo film ID',\n",
       " 'P1245': 'OmegaWiki Defined Meaning',\n",
       " 'P1258': 'Rotten Tomatoes identifier',\n",
       " 'P1265': 'AlloCiné movie ID',\n",
       " 'P1273': 'CANTIC',\n",
       " 'P1284': 'Munzinger IBA',\n",
       " 'P131': 'located in the administrative territorial entity',\n",
       " 'P135': 'movement',\n",
       " 'P136': 'genre',\n",
       " 'P137': 'operator',\n",
       " 'P138': 'named after',\n",
       " 'P140': 'religion',\n",
       " 'P1407': 'MusicBrainz series ID',\n",
       " 'P1412': 'languages spoken or written',\n",
       " 'P1430': 'OpenPlaques subject identifier',\n",
       " 'P1434': 'describes the fictional universe',\n",
       " 'P144': 'based on',\n",
       " 'P1441': 'present in work',\n",
       " 'P1445': 'fictional universe described in',\n",
       " 'P1476': 'title',\n",
       " 'P150': 'contains administrative territorial entity',\n",
       " 'P154': 'logo image',\n",
       " 'P155': 'follows',\n",
       " 'P156': 'followed by',\n",
       " 'P1562': 'AllMovie movie ID',\n",
       " 'P161': 'cast member',\n",
       " 'P162': 'producer',\n",
       " 'P1651': 'YouTube video identifier',\n",
       " 'P166': 'award received',\n",
       " 'P17': 'country',\n",
       " 'P170': 'creator',\n",
       " 'P1712': 'Metacritic ID',\n",
       " 'P172': 'ethnic group',\n",
       " 'P1728': 'AllMusic artist ID',\n",
       " 'P175': 'performer',\n",
       " 'P176': 'manufacturer',\n",
       " 'P1766': 'place name sign',\n",
       " 'P178': 'developer',\n",
       " 'P179': 'series',\n",
       " 'P18': 'image',\n",
       " 'P180': 'depicts',\n",
       " 'P1804': 'Danish National Filmography ID',\n",
       " 'P1811': 'list of episodes',\n",
       " 'P1813': 'short name',\n",
       " 'P19': 'place of birth',\n",
       " 'P194': 'legislative body',\n",
       " 'P1953': 'Discogs artist ID',\n",
       " 'P196': 'minor planet group',\n",
       " 'P1970': 'MovieMeter movie ID',\n",
       " 'P20': 'place of death',\n",
       " 'P2002': 'Twitter username',\n",
       " 'P2003': 'Instagram username',\n",
       " 'P2013': 'Facebook ID',\n",
       " 'P21': 'sex or gender',\n",
       " 'P212': 'ISBN-13',\n",
       " 'P213': 'ISNI',\n",
       " 'P214': 'VIAF identifier',\n",
       " 'P219': 'ISO 639-2 code',\n",
       " 'P22': 'father',\n",
       " 'P220': 'ISO 639-3 code',\n",
       " 'P227': 'GND identifier',\n",
       " 'P241': 'military branch',\n",
       " 'P243': 'OCLC control number',\n",
       " 'P244': 'LCAuth identifier',\n",
       " 'P245': 'ULAN identifier',\n",
       " 'P25': 'mother',\n",
       " 'P26': 'spouse',\n",
       " 'P264': 'record label',\n",
       " 'P268': 'BnF identifier',\n",
       " 'P269': 'SUDOC authorities',\n",
       " 'P27': 'country of citizenship',\n",
       " 'P272': 'production company',\n",
       " 'P275': 'license',\n",
       " 'P279': 'subclass of',\n",
       " 'P287': 'designer',\n",
       " 'P289': 'vessel class',\n",
       " 'P301': \"category's main topic\",\n",
       " 'P305': 'IETF language tag',\n",
       " 'P31': 'instance of',\n",
       " 'P344': 'director of photography',\n",
       " 'P345': 'IMDb identifier',\n",
       " 'P348': 'software version',\n",
       " 'P349': 'NDL identifier',\n",
       " 'P357': '(OBSOLETE) title (use P1476, \"title\")',\n",
       " 'P36': 'capital',\n",
       " 'P360': 'is a list of',\n",
       " 'P361': 'part of',\n",
       " 'P364': 'original language of work',\n",
       " 'P37': 'official language',\n",
       " 'P373': 'Commons category',\n",
       " 'P38': 'currency',\n",
       " 'P39': 'position held',\n",
       " 'P40': 'child',\n",
       " 'P400': 'platform',\n",
       " 'P404': 'game mode',\n",
       " 'P407': 'language of work (or name)',\n",
       " 'P408': 'software engine',\n",
       " 'P409': 'NLA (Australia) identifier',\n",
       " 'P410': 'military rank',\n",
       " 'P433': 'issue',\n",
       " 'P434': 'MusicBrainz artist ID',\n",
       " 'P435': 'MusicBrainz work ID',\n",
       " 'P436': 'MusicBrainz release group ID',\n",
       " 'P437': 'distribution',\n",
       " 'P449': 'original network',\n",
       " 'P463': 'member of',\n",
       " 'P47': 'shares border with',\n",
       " 'P479': 'input device',\n",
       " 'P480': 'FilmAffinity identifier',\n",
       " 'P490': 'provisional designation',\n",
       " 'P495': 'country of origin',\n",
       " 'P50': 'author',\n",
       " 'P508': 'PIJAS',\n",
       " 'P509': 'cause of death',\n",
       " 'P527': 'has part',\n",
       " 'P535': 'Find a Grave grave ID',\n",
       " 'P553': 'website account on',\n",
       " 'P569': 'date of birth',\n",
       " 'P57': 'director',\n",
       " 'P570': 'date of death',\n",
       " 'P575': 'time of discovery',\n",
       " 'P577': 'publication date',\n",
       " 'P58': 'screenwriter',\n",
       " 'P580': 'start time',\n",
       " 'P582': 'end time',\n",
       " 'P607': 'conflict',\n",
       " 'P61': 'discoverer or inventor',\n",
       " 'P619': 'time of spacecraft launch',\n",
       " 'P625': 'coordinate location',\n",
       " 'P641': 'sport',\n",
       " 'P646': 'Freebase identifier',\n",
       " 'P65': 'site of astronomical discovery',\n",
       " 'P674': 'characters',\n",
       " 'P69': 'educated at',\n",
       " 'P691': 'NKC identifier',\n",
       " 'P7': 'brother',\n",
       " 'P706': 'located on terrain feature',\n",
       " 'P716': 'JPL Small-Body Database identifier',\n",
       " 'P734': 'family name',\n",
       " 'P735': 'given name',\n",
       " 'P750': 'distributor',\n",
       " 'P793': 'significant event',\n",
       " 'P800': 'notable work',\n",
       " 'P840': 'narrative location',\n",
       " 'P852': 'ESRB rating',\n",
       " 'P854': 'reference URL',\n",
       " 'P856': 'official website',\n",
       " 'P86': 'composer',\n",
       " 'P905': 'PORT film ID',\n",
       " 'P908': 'PEGI rating',\n",
       " 'P910': \"topic's main category\",\n",
       " 'P914': 'USK rating',\n",
       " 'P915': 'filming location',\n",
       " 'P921': 'main subject',\n",
       " 'P94': 'coat of arms image',\n",
       " 'P941': 'inspired by',\n",
       " 'P950': 'BNE identifier',\n",
       " 'P957': 'ISBN-10'}"
      ]
     },
     "execution_count": 13,
     "metadata": {},
     "output_type": "execute_result"
    }
   ],
   "source": [
    "all_relationships_dict"
   ]
  },
  {
   "cell_type": "code",
   "execution_count": 14,
   "metadata": {
    "collapsed": false
   },
   "outputs": [
    {
     "data": {
      "text/plain": [
       "{'Q1055307': 'fictional technology',\n",
       " 'Q1114502': 'American comic book',\n",
       " 'Q11266439': 'Wikimedia template',\n",
       " 'Q1137046': 'Star Trek: The Next Generation episode',\n",
       " 'Q11424': 'film',\n",
       " 'Q1226311': 'Emergency Medical Hologram',\n",
       " 'Q1257934': 'clip show',\n",
       " 'Q13406463': 'Wikimedia list article',\n",
       " 'Q134556': 'single',\n",
       " 'Q14623646': 'fictional organization',\n",
       " 'Q14637321': 'fictional spacecraft',\n",
       " 'Q15053464': 'fictional material',\n",
       " 'Q15238535': 'fictional government or government body',\n",
       " 'Q15416': 'television program',\n",
       " 'Q15632617': 'fictional human',\n",
       " 'Q15633582': 'MediaWiki site',\n",
       " 'Q15707583': 'fictional taxon',\n",
       " 'Q15773317': 'television character',\n",
       " 'Q15773347': 'film character',\n",
       " 'Q15831596': 'fictional class',\n",
       " 'Q1659605': 'asteroids in fiction',\n",
       " 'Q1700422': 'extraterrestrial from Star Trek',\n",
       " 'Q17633526': 'Wikinews article',\n",
       " 'Q18039177': 'fictional spacecraft class',\n",
       " 'Q18533645': 'spacecraft in Star Trek',\n",
       " 'Q18572946': 'fictional space station',\n",
       " 'Q186117': 'timeline',\n",
       " 'Q19595246': 'fictional empire',\n",
       " 'Q196600': 'media franchise',\n",
       " 'Q1983062': 'episode',\n",
       " 'Q19887878': 'Wikimedia template infobox',\n",
       " 'Q215380': 'band',\n",
       " 'Q24856': 'film series',\n",
       " 'Q24862': 'short film',\n",
       " 'Q2623733': 'fictional language',\n",
       " 'Q2775969': 'fictional planet',\n",
       " 'Q278379': 'a priori language',\n",
       " 'Q299191': 'chess variant',\n",
       " 'Q3252662': 'series finale',\n",
       " 'Q3297186': 'limited series',\n",
       " 'Q33215': 'constructed language',\n",
       " 'Q3464665': 'television season',\n",
       " 'Q35127': 'website',\n",
       " 'Q3863': 'asteroid',\n",
       " 'Q386724': 'work',\n",
       " 'Q41298': 'magazine',\n",
       " 'Q4167410': 'Wikimedia disambiguation page',\n",
       " 'Q4167836': 'Wikimedia category',\n",
       " 'Q4176708': 'soundtrack album',\n",
       " 'Q4234303': 'WikiProject',\n",
       " 'Q43229': 'organization',\n",
       " 'Q4663903': 'Wikimedia portal',\n",
       " 'Q482994': 'album',\n",
       " 'Q5': 'human',\n",
       " 'Q5398426': 'television series',\n",
       " 'Q559618': 'fictional universe',\n",
       " 'Q571': 'book',\n",
       " 'Q581714': 'animated series',\n",
       " 'Q618779': 'award',\n",
       " 'Q653928': 'pinball',\n",
       " 'Q6619679': 'fictional humanoid',\n",
       " 'Q6623809': 'fictional humanoid extraterrestrial',\n",
       " 'Q727596': 'Galactic quadrant',\n",
       " 'Q7889': 'video game',\n",
       " 'Q838795': 'comic strip',\n",
       " 'Q95074': 'fictional character',\n",
       " 'Q989888': 'Starship Enterprise'}"
      ]
     },
     "execution_count": 14,
     "metadata": {},
     "output_type": "execute_result"
    }
   ],
   "source": [
    "all_types_dict"
   ]
  },
  {
   "cell_type": "code",
   "execution_count": 15,
   "metadata": {
    "collapsed": true
   },
   "outputs": [],
   "source": [
    "with open('pickle/star-trek_all_relationships_dict.pickle', 'wb') as f:\n",
    "    pickle.dump(all_relationships_dict, f)\n",
    "\n",
    "with open('pickle/star-trek_all_types_dict.pickle', 'wb') as f:\n",
    "    pickle.dump(all_types_dict, f)"
   ]
  },
  {
   "cell_type": "code",
   "execution_count": null,
   "metadata": {
    "collapsed": true
   },
   "outputs": [],
   "source": []
  }
 ],
 "metadata": {
  "kernelspec": {
   "display_name": "Python 3",
   "language": "python",
   "name": "python3"
  },
  "language_info": {
   "codemirror_mode": {
    "name": "ipython",
    "version": 3
   },
   "file_extension": ".py",
   "mimetype": "text/x-python",
   "name": "python",
   "nbconvert_exporter": "python",
   "pygments_lexer": "ipython3",
   "version": "3.4.3"
  }
 },
 "nbformat": 4,
 "nbformat_minor": 0
}
