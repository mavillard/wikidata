{
 "cells": [
  {
   "cell_type": "code",
   "execution_count": 1,
   "metadata": {
    "collapsed": false
   },
   "outputs": [],
   "source": [
    "import json\n",
    "import pickle"
   ]
  },
  {
   "cell_type": "code",
   "execution_count": 2,
   "metadata": {
    "collapsed": false
   },
   "outputs": [],
   "source": [
    "with open('pickle/star-trek_only_relevant_relationships_dict.pickle', 'rb') as f:\n",
    "    only_relevant_relationships_dict = pickle.load(f)\n",
    "\n",
    "with open('pickle/star-trek_only_relevant_types_dict.pickle', 'rb') as f:\n",
    "    only_relevant_types_dict = pickle.load(f)"
   ]
  },
  {
   "cell_type": "code",
   "execution_count": 3,
   "metadata": {
    "collapsed": false
   },
   "outputs": [
    {
     "data": {
      "text/plain": [
       "{'P103': 'native language',\n",
       " 'P1074': 'fictional analog of',\n",
       " 'P1080': 'from fictional universe',\n",
       " 'P1235': 'ISFDB series ID',\n",
       " 'P1237': 'Box Office Mojo film ID',\n",
       " 'P1258': 'Rotten Tomatoes identifier',\n",
       " 'P1265': 'AlloCiné movie ID',\n",
       " 'P135': 'movement',\n",
       " 'P136': 'genre',\n",
       " 'P138': 'named after',\n",
       " 'P1407': 'MusicBrainz series ID',\n",
       " 'P1412': 'languages spoken or published',\n",
       " 'P1434': 'describes the fictional universe',\n",
       " 'P144': 'based on',\n",
       " 'P1441': 'present in work',\n",
       " 'P1445': 'fictional universe described in',\n",
       " 'P1476': 'title',\n",
       " 'P155': 'follows',\n",
       " 'P156': 'followed by',\n",
       " 'P1562': 'AllMovie movie ID',\n",
       " 'P1651': 'YouTube video identifier',\n",
       " 'P17': 'country',\n",
       " 'P1712': 'Metacritic ID',\n",
       " 'P179': 'series',\n",
       " 'P180': 'depicts',\n",
       " 'P1804': 'Danish National Filmography ID',\n",
       " 'P1811': 'list of episodes',\n",
       " 'P1813': 'short name',\n",
       " 'P1970': 'MovieMeter movie ID',\n",
       " 'P2002': 'Twitter username',\n",
       " 'P2003': 'Instagram username',\n",
       " 'P2013': 'Facebook ID',\n",
       " 'P212': 'ISBN-13',\n",
       " 'P243': 'OCLC control number',\n",
       " 'P244': 'LCAuth identifier',\n",
       " 'P268': 'BnF identifier',\n",
       " 'P275': 'license',\n",
       " 'P279': 'subclass of',\n",
       " 'P301': \"category's main topic\",\n",
       " 'P31': 'instance of',\n",
       " 'P345': 'IMDb identifier',\n",
       " 'P348': 'software version',\n",
       " 'P357': '(OBSOLETE) title (use P1476, \"title\")',\n",
       " 'P360': 'is a list of',\n",
       " 'P361': 'part of',\n",
       " 'P364': 'original language of work',\n",
       " 'P37': 'official language',\n",
       " 'P373': 'Commons category',\n",
       " 'P400': 'platform',\n",
       " 'P407': 'language of work (or name)',\n",
       " 'P409': 'NLA (Australia) identifier',\n",
       " 'P433': 'issue',\n",
       " 'P435': 'MusicBrainz work ID',\n",
       " 'P437': 'distribution',\n",
       " 'P449': 'original network',\n",
       " 'P480': 'FilmAffinity identifier',\n",
       " 'P495': 'country of origin',\n",
       " 'P508': 'PIJAS',\n",
       " 'P527': 'has part',\n",
       " 'P553': 'website account on',\n",
       " 'P577': 'publication date',\n",
       " 'P580': 'start time',\n",
       " 'P582': 'end time',\n",
       " 'P625': 'coordinate location',\n",
       " 'P646': 'Freebase identifier',\n",
       " 'P691': 'NKC identifier',\n",
       " 'P800': 'notable work',\n",
       " 'P852': 'ESRB rating',\n",
       " 'P854': 'reference URL',\n",
       " 'P856': 'official website',\n",
       " 'P905': 'PORT film ID',\n",
       " 'P908': 'PEGI rating',\n",
       " 'P910': \"topic's main category\",\n",
       " 'P914': 'USK rating',\n",
       " 'P915': 'filming location',\n",
       " 'P921': 'main subject',\n",
       " 'P941': 'inspired by',\n",
       " 'P950': 'BNE identifier',\n",
       " 'P957': 'ISBN-10'}"
      ]
     },
     "execution_count": 3,
     "metadata": {},
     "output_type": "execute_result"
    }
   ],
   "source": [
    "only_relevant_relationships_dict"
   ]
  },
  {
   "cell_type": "code",
   "execution_count": 4,
   "metadata": {
    "collapsed": false
   },
   "outputs": [
    {
     "data": {
      "text/plain": [
       "{'Q1114502': 'American comic book',\n",
       " 'Q1137046': 'Star Trek: The Next Generation episode',\n",
       " 'Q11424': 'film',\n",
       " 'Q1257934': 'clip show',\n",
       " 'Q134556': 'single',\n",
       " 'Q15416': 'television program',\n",
       " 'Q186117': 'timeline',\n",
       " 'Q196600': 'media franchise',\n",
       " 'Q1983062': 'episode',\n",
       " 'Q24856': 'film series',\n",
       " 'Q24862': 'short film',\n",
       " 'Q278379': 'a priori language',\n",
       " 'Q3252662': 'series finale',\n",
       " 'Q3297186': 'limited series',\n",
       " 'Q33215': 'constructed language',\n",
       " 'Q3464665': 'television season',\n",
       " 'Q35127': 'website',\n",
       " 'Q386724': 'work',\n",
       " 'Q41298': 'magazine',\n",
       " 'Q4176708': 'soundtrack album',\n",
       " 'Q4234303': 'WikiProject',\n",
       " 'Q482994': 'album',\n",
       " 'Q5398426': 'television series',\n",
       " 'Q559618': 'fictional universe',\n",
       " 'Q571': 'book',\n",
       " 'Q581714': 'animated series',\n",
       " 'Q7889': 'video game',\n",
       " 'Q838795': 'comic strip'}"
      ]
     },
     "execution_count": 4,
     "metadata": {},
     "output_type": "execute_result"
    }
   ],
   "source": [
    "only_relevant_types_dict"
   ]
  },
  {
   "cell_type": "code",
   "execution_count": 13,
   "metadata": {
    "collapsed": true
   },
   "outputs": [],
   "source": [
    "# Manually selected\n",
    "only_relevant_types_dict = {\n",
    "    'Q1114502': 'American comic book',\n",
    "    'Q1137046': 'Star Trek: The Next Generation episode',\n",
    "    'Q11424': 'film',\n",
    "    'Q1257934': 'clip show',\n",
    "    'Q134556': 'single',\n",
    "    'Q15416': 'television program',\n",
    "    'Q186117': 'timeline',\n",
    "    'Q196600': 'media franchise',\n",
    "    'Q1983062': 'episode',\n",
    "    'Q24856': 'film series',\n",
    "    'Q24862': 'short film',\n",
    "    'Q278379': 'a priori language',\n",
    "    'Q3252662': 'series finale',\n",
    "    'Q3297186': 'limited series',\n",
    "    'Q33215': 'constructed language',\n",
    "    'Q3464665': 'television season',\n",
    "    'Q35127': 'website',\n",
    "    'Q386724': 'work',\n",
    "    'Q41298': 'magazine',\n",
    "    'Q4176708': 'soundtrack album',\n",
    "    'Q4234303': 'WikiProject',\n",
    "    'Q482994': 'album',\n",
    "    'Q5398426': 'television series',\n",
    "    'Q559618': 'fictional universe',\n",
    "    'Q571': 'book',\n",
    "    'Q581714': 'animated series',\n",
    "    'Q7889': 'video game',\n",
    "    'Q838795': 'comic strip',\n",
    "}"
   ]
  },
  {
   "cell_type": "code",
   "execution_count": 5,
   "metadata": {
    "collapsed": false
   },
   "outputs": [
    {
     "ename": "FileNotFoundError",
     "evalue": "[Errno 2] No such file or directory: 'wikidata-20150907-star_trek.json'",
     "output_type": "error",
     "traceback": [
      "\u001b[1;31m---------------------------------------------------------------------------\u001b[0m",
      "\u001b[1;31mFileNotFoundError\u001b[0m                         Traceback (most recent call last)",
      "\u001b[1;32m<ipython-input-5-6c07a97222f7>\u001b[0m in \u001b[0;36m<module>\u001b[1;34m()\u001b[0m\n\u001b[1;32m----> 1\u001b[1;33m \u001b[0mget_ipython\u001b[0m\u001b[1;33m(\u001b[0m\u001b[1;33m)\u001b[0m\u001b[1;33m.\u001b[0m\u001b[0mrun_cell_magic\u001b[0m\u001b[1;33m(\u001b[0m\u001b[1;34m'time'\u001b[0m\u001b[1;33m,\u001b[0m \u001b[1;34m''\u001b[0m\u001b[1;33m,\u001b[0m \u001b[1;34m\"total = 0\\ncount = 0\\nerror = 0\\ncontent = ''\\nwith open('wikidata-20150907-star_trek.json') as f:\\n    content += '[\\\\n'\\n    for line in f:\\n        try:\\n            total += 1\\n            cleaned = line.strip()[:-1]\\n            d = json.loads(cleaned) # keys: ['type', 'labels', 'descriptions', 'claims', 'aliases', 'sitelinks', 'id']\\n            for rel in list(d['claims']):\\n                if rel not in only_relevant_rels_dict:\\n                    del(d['claims'][rel])\\n            if d['claims']:\\n                if 'en' in d['descriptions']:\\n                    val = d['descriptions']['en']\\n                    d['descriptions'].clear()\\n                    d['descriptions']['en'] = val\\n                else:\\n                    d['descriptions'].clear()\\n                if 'en' in d['labels']:\\n                    val = d['labels']['en']\\n                    d['labels'].clear()\\n                    d['labels']['en'] = val\\n                else:\\n                    d['labels'].clear()\\n                if 'en' in d['aliases']:\\n                    val = d['aliases']['en']\\n                    d['aliases'].clear()\\n                    d['aliases']['en'] = val\\n                else:\\n                    d['aliases'].clear()\\n                if 'enwiki' in d['sitelinks']:\\n                    val = d['sitelinks']['enwiki']\\n                    d['sitelinks'].clear()\\n                    d['sitelinks']['enwiki'] = val\\n                else:\\n                    d['sitelinks'].clear()\\n                content += json.dumps(d) + ',\\\\n'\\n                count += 1\\n        except Exception as e:\\n            error += 1\\n    content += ']'\\nwith open('wikidata-20150907-star_trek-relevant-rels.json', 'w') as f:\\n    f.write(content)\\nprint('Total:', total)\\nprint('Count:', count)\\nprint('Error:', error)\"\u001b[0m\u001b[1;33m)\u001b[0m\u001b[1;33m\u001b[0m\u001b[0m\n\u001b[0m",
      "\u001b[1;32m/home/antonio/.virtualenvs/wikidata/lib/python3.4/site-packages/IPython/core/interactiveshell.py\u001b[0m in \u001b[0;36mrun_cell_magic\u001b[1;34m(self, magic_name, line, cell)\u001b[0m\n\u001b[0;32m   2291\u001b[0m             \u001b[0mmagic_arg_s\u001b[0m \u001b[1;33m=\u001b[0m \u001b[0mself\u001b[0m\u001b[1;33m.\u001b[0m\u001b[0mvar_expand\u001b[0m\u001b[1;33m(\u001b[0m\u001b[0mline\u001b[0m\u001b[1;33m,\u001b[0m \u001b[0mstack_depth\u001b[0m\u001b[1;33m)\u001b[0m\u001b[1;33m\u001b[0m\u001b[0m\n\u001b[0;32m   2292\u001b[0m             \u001b[1;32mwith\u001b[0m \u001b[0mself\u001b[0m\u001b[1;33m.\u001b[0m\u001b[0mbuiltin_trap\u001b[0m\u001b[1;33m:\u001b[0m\u001b[1;33m\u001b[0m\u001b[0m\n\u001b[1;32m-> 2293\u001b[1;33m                 \u001b[0mresult\u001b[0m \u001b[1;33m=\u001b[0m \u001b[0mfn\u001b[0m\u001b[1;33m(\u001b[0m\u001b[0mmagic_arg_s\u001b[0m\u001b[1;33m,\u001b[0m \u001b[0mcell\u001b[0m\u001b[1;33m)\u001b[0m\u001b[1;33m\u001b[0m\u001b[0m\n\u001b[0m\u001b[0;32m   2294\u001b[0m             \u001b[1;32mreturn\u001b[0m \u001b[0mresult\u001b[0m\u001b[1;33m\u001b[0m\u001b[0m\n\u001b[0;32m   2295\u001b[0m \u001b[1;33m\u001b[0m\u001b[0m\n",
      "\u001b[1;32m/home/antonio/.virtualenvs/wikidata/lib/python3.4/site-packages/IPython/core/magics/execution.py\u001b[0m in \u001b[0;36mtime\u001b[1;34m(self, line, cell, local_ns)\u001b[0m\n",
      "\u001b[1;32m/home/antonio/.virtualenvs/wikidata/lib/python3.4/site-packages/IPython/core/magic.py\u001b[0m in \u001b[0;36m<lambda>\u001b[1;34m(f, *a, **k)\u001b[0m\n\u001b[0;32m    191\u001b[0m     \u001b[1;31m# but it's overkill for just that one bit of state.\u001b[0m\u001b[1;33m\u001b[0m\u001b[1;33m\u001b[0m\u001b[0m\n\u001b[0;32m    192\u001b[0m     \u001b[1;32mdef\u001b[0m \u001b[0mmagic_deco\u001b[0m\u001b[1;33m(\u001b[0m\u001b[0marg\u001b[0m\u001b[1;33m)\u001b[0m\u001b[1;33m:\u001b[0m\u001b[1;33m\u001b[0m\u001b[0m\n\u001b[1;32m--> 193\u001b[1;33m         \u001b[0mcall\u001b[0m \u001b[1;33m=\u001b[0m \u001b[1;32mlambda\u001b[0m \u001b[0mf\u001b[0m\u001b[1;33m,\u001b[0m \u001b[1;33m*\u001b[0m\u001b[0ma\u001b[0m\u001b[1;33m,\u001b[0m \u001b[1;33m**\u001b[0m\u001b[0mk\u001b[0m\u001b[1;33m:\u001b[0m \u001b[0mf\u001b[0m\u001b[1;33m(\u001b[0m\u001b[1;33m*\u001b[0m\u001b[0ma\u001b[0m\u001b[1;33m,\u001b[0m \u001b[1;33m**\u001b[0m\u001b[0mk\u001b[0m\u001b[1;33m)\u001b[0m\u001b[1;33m\u001b[0m\u001b[0m\n\u001b[0m\u001b[0;32m    194\u001b[0m \u001b[1;33m\u001b[0m\u001b[0m\n\u001b[0;32m    195\u001b[0m         \u001b[1;32mif\u001b[0m \u001b[0mcallable\u001b[0m\u001b[1;33m(\u001b[0m\u001b[0marg\u001b[0m\u001b[1;33m)\u001b[0m\u001b[1;33m:\u001b[0m\u001b[1;33m\u001b[0m\u001b[0m\n",
      "\u001b[1;32m/home/antonio/.virtualenvs/wikidata/lib/python3.4/site-packages/IPython/core/magics/execution.py\u001b[0m in \u001b[0;36mtime\u001b[1;34m(self, line, cell, local_ns)\u001b[0m\n\u001b[0;32m   1165\u001b[0m         \u001b[1;32melse\u001b[0m\u001b[1;33m:\u001b[0m\u001b[1;33m\u001b[0m\u001b[0m\n\u001b[0;32m   1166\u001b[0m             \u001b[0mst\u001b[0m \u001b[1;33m=\u001b[0m \u001b[0mclock2\u001b[0m\u001b[1;33m(\u001b[0m\u001b[1;33m)\u001b[0m\u001b[1;33m\u001b[0m\u001b[0m\n\u001b[1;32m-> 1167\u001b[1;33m             \u001b[0mexec\u001b[0m\u001b[1;33m(\u001b[0m\u001b[0mcode\u001b[0m\u001b[1;33m,\u001b[0m \u001b[0mglob\u001b[0m\u001b[1;33m,\u001b[0m \u001b[0mlocal_ns\u001b[0m\u001b[1;33m)\u001b[0m\u001b[1;33m\u001b[0m\u001b[0m\n\u001b[0m\u001b[0;32m   1168\u001b[0m             \u001b[0mend\u001b[0m \u001b[1;33m=\u001b[0m \u001b[0mclock2\u001b[0m\u001b[1;33m(\u001b[0m\u001b[1;33m)\u001b[0m\u001b[1;33m\u001b[0m\u001b[0m\n\u001b[0;32m   1169\u001b[0m             \u001b[0mout\u001b[0m \u001b[1;33m=\u001b[0m \u001b[1;32mNone\u001b[0m\u001b[1;33m\u001b[0m\u001b[0m\n",
      "\u001b[1;32m<timed exec>\u001b[0m in \u001b[0;36m<module>\u001b[1;34m()\u001b[0m\n",
      "\u001b[1;31mFileNotFoundError\u001b[0m: [Errno 2] No such file or directory: 'wikidata-20150907-star_trek.json'"
     ]
    }
   ],
   "source": [
    "%%time\n",
    "total = 0\n",
    "count = 0\n",
    "error = 0\n",
    "content = ''\n",
    "with open('data/wikidata-20150907-star_trek.json') as f:\n",
    "    content += '[\\n'\n",
    "    for line in f:\n",
    "        try:\n",
    "            total += 1\n",
    "            cleaned = line.strip()[:-1]\n",
    "            d = json.loads(cleaned) # keys: ['type', 'labels', 'descriptions', 'claims', 'aliases', 'sitelinks', 'id']\n",
    "            for rel in list(d['claims']):\n",
    "                if rel not in only_relevant_rels_dict:\n",
    "                    del(d['claims'][rel])\n",
    "            if d['claims']:\n",
    "                if 'en' in d['descriptions']:\n",
    "                    val = d['descriptions']['en']\n",
    "                    d['descriptions'].clear()\n",
    "                    d['descriptions']['en'] = val\n",
    "                else:\n",
    "                    d['descriptions'].clear()\n",
    "                if 'en' in d['labels']:\n",
    "                    val = d['labels']['en']\n",
    "                    d['labels'].clear()\n",
    "                    d['labels']['en'] = val\n",
    "                else:\n",
    "                    d['labels'].clear()\n",
    "                if 'en' in d['aliases']:\n",
    "                    val = d['aliases']['en']\n",
    "                    d['aliases'].clear()\n",
    "                    d['aliases']['en'] = val\n",
    "                else:\n",
    "                    d['aliases'].clear()\n",
    "                if 'enwiki' in d['sitelinks']:\n",
    "                    val = d['sitelinks']['enwiki']\n",
    "                    d['sitelinks'].clear()\n",
    "                    d['sitelinks']['enwiki'] = val\n",
    "                else:\n",
    "                    d['sitelinks'].clear()\n",
    "                content += json.dumps(d) + ',\\n'\n",
    "                count += 1\n",
    "        except Exception as e:\n",
    "            error += 1\n",
    "    content += ']'\n",
    "with open('data/wikidata-20150907-star_trek-relevant-rels.json', 'w') as f:\n",
    "    f.write(content)\n",
    "print('Total:', total)\n",
    "print('Count:', count)\n",
    "print('Error:', error)"
   ]
  },
  {
   "cell_type": "code",
   "execution_count": null,
   "metadata": {
    "collapsed": false
   },
   "outputs": [],
   "source": [
    "# Double check\n",
    "total = 0\n",
    "count = 0\n",
    "error = 0\n",
    "with open('wikidata-20150907-star_trek-relevant-rels.json') as f:\n",
    "    for line in f:\n",
    "        try:\n",
    "            total += 1\n",
    "            cleaned = line.strip()[:-1]\n",
    "            d = json.loads(cleaned)\n",
    "            count += 1\n",
    "        except Exception as e:\n",
    "            error += 1\n",
    "print('Total:', total)\n",
    "print('Count:', count)\n",
    "print('Error:', error)"
   ]
  },
  {
   "cell_type": "code",
   "execution_count": null,
   "metadata": {
    "collapsed": false
   },
   "outputs": [],
   "source": [
    "# # Report\n",
    "# import csv\n",
    "# \n",
    "# total = 0\n",
    "# count = 0\n",
    "# error = 0\n",
    "# with open('wikidata-20150907-star_trek-relevant-rels.json') as f1,open('star_trek-all_types.csv', 'w') as f2:\n",
    "#     csv_writer = csv.writer(\n",
    "#         f2,\n",
    "#         delimiter=',',\n",
    "#         quotechar='\"',\n",
    "#         quoting=csv.QUOTE_MINIMAL\n",
    "#     )\n",
    "#     for line in f1:\n",
    "#         ide = None\n",
    "#         title = None\n",
    "#         type_id = None\n",
    "#         type_title = None\n",
    "#         try:\n",
    "#             total += 1\n",
    "#             cleaned = line.strip()[:-1]\n",
    "#             d = json.loads(cleaned)\n",
    "#             ide = d['id']\n",
    "#             if 'en' in d['labels']:\n",
    "#                 title = d['labels']['en']['value']\n",
    "#             if 'P31' in d['claims']:\n",
    "#                 type_id = 'Q' + str(d['claims']['P31'][0]['mainsnak']['datavalue']['value']['numeric-id'])\n",
    "#                 if type_id in all_related_types_dict:\n",
    "#                     type_title = all_related_types_dict[type_id]\n",
    "#             csv_writer.writerow([ide, title, type_id, type_title])\n",
    "#             count += 1\n",
    "#         except Exception as e:\n",
    "#             error += 1\n",
    "# print('Total:', total)\n",
    "# print('Count:', count)\n",
    "# print('Error:', error)"
   ]
  },
  {
   "cell_type": "code",
   "execution_count": null,
   "metadata": {
    "collapsed": true
   },
   "outputs": [],
   "source": []
  }
 ],
 "metadata": {
  "kernelspec": {
   "display_name": "Python 3",
   "language": "python",
   "name": "python3"
  },
  "language_info": {
   "codemirror_mode": {
    "name": "ipython",
    "version": 3
   },
   "file_extension": ".py",
   "mimetype": "text/x-python",
   "name": "python",
   "nbconvert_exporter": "python",
   "pygments_lexer": "ipython3",
   "version": "3.4.3"
  }
 },
 "nbformat": 4,
 "nbformat_minor": 0
}
