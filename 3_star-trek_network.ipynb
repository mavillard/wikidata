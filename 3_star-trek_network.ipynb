{
 "cells": [
  {
   "cell_type": "code",
   "execution_count": 1,
   "metadata": {
    "collapsed": false
   },
   "outputs": [],
   "source": [
    "import json\n",
    "import pickle\n",
    "\n",
    "import networkx as nx"
   ]
  },
  {
   "cell_type": "code",
   "execution_count": 2,
   "metadata": {
    "collapsed": false
   },
   "outputs": [],
   "source": [
    "with open('pickle/star-trek_relevant_properties_dict.pickle', 'rb') as f:\n",
    "    relevant_properties_dict = pickle.load(f)\n",
    "\n",
    "with open('pickle/star-trek_relevant_types_dict.pickle', 'rb') as f:\n",
    "    relevant_types_dict = pickle.load(f)\n",
    "\n",
    "with open('pickle/star-trek_relevant_instances_dict.pickle', 'rb') as f:\n",
    "    relevant_instances_dict = pickle.load(f)\n",
    "\n",
    "with open('pickle/star-trek_all_instances_dict.pickle', 'rb') as f:\n",
    "    all_instances_dict = pickle.load(f)"
   ]
  },
  {
   "cell_type": "code",
   "execution_count": 3,
   "metadata": {
    "collapsed": true
   },
   "outputs": [],
   "source": [
    "# Properties and qualifiers\n",
    "#\n",
    "# If no qualifiers\n",
    "#\n",
    "# Case 1) value: string\n",
    "# Actions:\n",
    "# Property type: attribute\n",
    "# Property name: property name\n",
    "# Property value: value\n",
    "# Property attributes: none\n",
    "# More than one value: list serialized: '[\"v1\", \"v2\", \"v3\"]'\n",
    "#\n",
    "# Case 2) value: object\n",
    "# Actions:\n",
    "# Property type: relationship\n",
    "# Property name: property name\n",
    "# Property value: value\n",
    "# Property attributes: none\n",
    "# More than one value: for each value, a relationship between the node and the value\n",
    "#\n",
    "# If qualifiers\n",
    "#\n",
    "# Case a) value: string, qualifier: string\n",
    "# Actions:\n",
    "# Property type: attribute\n",
    "# Property name: property name\n",
    "# Property value: '{\"value\": v, \"qualifiers\": {\"q1\": v1, \"q2\": v2}}'\n",
    "# Property attributes: none\n",
    "# More than one value: list of dictionaries serialized\n",
    "#\n",
    "# Case b) value: string, qualifier: object\n",
    "# Actions:\n",
    "# Property type: relationship\n",
    "# Property name: qualifier name\n",
    "# Property value: qualifier value\n",
    "# Property attributes: {property name: value}\n",
    "# More than one value: for each qualifier, a relationship between the node and the qualifier value\n",
    "#\n",
    "# Case c) value: object, qualifier: string\n",
    "# Actions:\n",
    "# Property type: relationship\n",
    "# Property name: property name\n",
    "# Property value: value\n",
    "# Property attributes: {q1: v1, q2: v2}\n",
    "# More than one value: for each value, a relationship between the node and the value\n",
    "#\n",
    "# Case d) value: object, qualifier: object\n",
    "# Actions:\n",
    "# Property type: relationship\n",
    "# Property name: property name\n",
    "# Property value: value\n",
    "# Property attributes: none\n",
    "# More than one value: for each value, a relationship between the node and the value\n",
    "# For each qualifier:\n",
    "# Property type: relationship\n",
    "# Property name: qualifier name\n",
    "# Property value: qualifier value\n",
    "# Property attributes: none\n",
    "# More than one qualifier value: for each value, a relationship between the node and the qualifier value"
   ]
  },
  {
   "cell_type": "code",
   "execution_count": 4,
   "metadata": {
    "collapsed": true
   },
   "outputs": [],
   "source": [
    "network = nx.DiGraph() # network of instances"
   ]
  },
  {
   "cell_type": "code",
   "execution_count": 5,
   "metadata": {
    "collapsed": false
   },
   "outputs": [
    {
     "name": "stdout",
     "output_type": "stream",
     "text": [
      "CPU times: user 65.9 ms, sys: 7.9 ms, total: 73.8 ms\n",
      "Wall time: 74.2 ms\n"
     ]
    }
   ],
   "source": [
    "%%time\n",
    "\n",
    "network = nx.DiGraph() # network of instances\n",
    "for ide in relevant_instances_dict:\n",
    "    instance = relevant_instances_dict[ide]\n",
    "    base = {\n",
    "        'id': ide,\n",
    "        'type': relevant_types_dict[instance['type']]['name'],\n",
    "        'name': instance['name'],\n",
    "        'wikilink': instance['wikilink'],\n",
    "        'description': instance['description'],\n",
    "    }\n",
    "    attributes = {}\n",
    "    for prop in instance['properties']:\n",
    "        p_name = relevant_properties_dict[prop]['name']\n",
    "        p_attr_values = []\n",
    "        for prop_inst in instance['properties'][prop]: # possible cases: 1, 2, a, b, c, d\n",
    "            p_value = prop_inst['value']\n",
    "            p_type = prop_inst['type']\n",
    "            if p_type == 'object' and p_value in relevant_instances_dict: # possible cases: 2, c, d\n",
    "                network.add_edge(ide, p_value, {'label': p_name}) # case 2\n",
    "                qualifiers = prop_inst['qualifiers']\n",
    "                if qualifiers: # possible cases: c, d\n",
    "                    for q in qualifiers:\n",
    "                        q_name = relevant_properties_dict[q]['name']\n",
    "                        for q_inst in qualifiers[q]:\n",
    "                            q_value = q_inst['value']\n",
    "                            q_type = q_inst['type']\n",
    "                            if q_type == 'object' and q_value in relevant_instances_dict:\n",
    "                                network.add_edge(ide, q_value, {'label': q_name}) # case d\n",
    "                            else:\n",
    "                                if q_type == 'object' and q_value not in relevant_instances_dict:\n",
    "                                    q_value = all_instances_dict[q_value]['name']\n",
    "                                    network.add_edge(ide, p_value, {'label': p_name, q_name: q_value}) # case c\n",
    "            else: # possible cases: 1, a, b\n",
    "                if p_type == 'object' and p_value not in relevant_instances_dict:\n",
    "                    p_value = all_instances_dict[p_value]['name']\n",
    "                qualifiers = prop_inst['qualifiers']\n",
    "                if not qualifiers:\n",
    "                    p_attr_values.append(p_value) # case 1\n",
    "                else: # possible cases: 1, a, b\n",
    "                    q_dict = {}\n",
    "                    for q in qualifiers:\n",
    "                        q_name = relevant_properties_dict[q]['name']\n",
    "                        q_dict[q_name] = []\n",
    "                        for q_inst in qualifiers[q]:\n",
    "                            q_value = q_inst['value']\n",
    "                            q_type = q_inst['type']\n",
    "                            if q_type == 'object' and q_value in relevant_instances_dict:\n",
    "                                network.add_edge(ide, q_value, {'label': q_name, p_name: p_value}) # case b\n",
    "                            else:\n",
    "                                if q_type == 'object' and q_value not in relevant_instances_dict:\n",
    "                                    q_value = all_instances_dict[q_value]['name']\n",
    "                                q_dict[q_name].append(q_value)\n",
    "                    if not q_dict:\n",
    "                        p_attr_values.append(p_value) # case 1\n",
    "                    else:\n",
    "                        p_attr_values.append({'value': p_value, 'qualifiers': q_dict}) # case a\n",
    "        if p_attr_values:\n",
    "            if len(p_attr_values) == 1:\n",
    "                attr_value = p_attr_values[0]\n",
    "            else:\n",
    "                attr_value = json.dumps(p_attr_values)\n",
    "            attributes[p_name] = attr_value\n",
    "    info = {}\n",
    "    info.update(base)\n",
    "    info.update(attributes)\n",
    "    network.add_node(ide, info)"
   ]
  },
  {
   "cell_type": "code",
   "execution_count": 6,
   "metadata": {
    "collapsed": false
   },
   "outputs": [
    {
     "data": {
      "text/plain": [
       "1281"
      ]
     },
     "execution_count": 6,
     "metadata": {},
     "output_type": "execute_result"
    }
   ],
   "source": [
    "len(relevant_instances_dict)"
   ]
  },
  {
   "cell_type": "code",
   "execution_count": 7,
   "metadata": {
    "collapsed": false
   },
   "outputs": [
    {
     "data": {
      "text/plain": [
       "1281"
      ]
     },
     "execution_count": 7,
     "metadata": {},
     "output_type": "execute_result"
    }
   ],
   "source": [
    "len(network)"
   ]
  },
  {
   "cell_type": "code",
   "execution_count": 8,
   "metadata": {
    "collapsed": false
   },
   "outputs": [
    {
     "data": {
      "text/plain": [
       "4613"
      ]
     },
     "execution_count": 8,
     "metadata": {},
     "output_type": "execute_result"
    }
   ],
   "source": [
    "len(network.edges(data=True))"
   ]
  },
  {
   "cell_type": "code",
   "execution_count": 9,
   "metadata": {
    "collapsed": false
   },
   "outputs": [
    {
     "data": {
      "text/plain": [
       "[('Q7601028',\n",
       "  {'description': '',\n",
       "   'id': 'Q7601028',\n",
       "   'name': 'Star Trek: Year Four',\n",
       "   'type': 'limited series',\n",
       "   'wikilink': 'Star Trek: Year Four'}),\n",
       " ('Q7840052',\n",
       "  {'OCLC control number': '63083895',\n",
       "   'description': 'Star Trek: The Original Series novel',\n",
       "   'id': 'Q7840052',\n",
       "   'name': 'Triangle',\n",
       "   'type': 'book',\n",
       "   'wikilink': 'Triangle (novel)'})]"
      ]
     },
     "execution_count": 9,
     "metadata": {},
     "output_type": "execute_result"
    }
   ],
   "source": [
    "network.nodes(data=True)[:2]"
   ]
  },
  {
   "cell_type": "code",
   "execution_count": 10,
   "metadata": {
    "collapsed": false
   },
   "outputs": [
    {
     "data": {
      "text/plain": [
       "[('Q7840052', 'Q1077', {'label': 'series'}),\n",
       " ('Q7840052', 'Q1860', {'label': 'original language of work'})]"
      ]
     },
     "execution_count": 10,
     "metadata": {},
     "output_type": "execute_result"
    }
   ],
   "source": [
    "network.edges(data=True)[:2]"
   ]
  },
  {
   "cell_type": "code",
   "execution_count": 11,
   "metadata": {
    "collapsed": true
   },
   "outputs": [],
   "source": [
    "with open('pickle/star-trek_network_graph.pickle', 'wb') as f:\n",
    "    pickle.dump(network, f)"
   ]
  },
  {
   "cell_type": "code",
   "execution_count": null,
   "metadata": {
    "collapsed": true
   },
   "outputs": [],
   "source": []
  }
 ],
 "metadata": {
  "kernelspec": {
   "display_name": "Python 3",
   "language": "python",
   "name": "python3"
  },
  "language_info": {
   "codemirror_mode": {
    "name": "ipython",
    "version": 3
   },
   "file_extension": ".py",
   "mimetype": "text/x-python",
   "name": "python",
   "nbconvert_exporter": "python",
   "pygments_lexer": "ipython3",
   "version": "3.4.3"
  }
 },
 "nbformat": 4,
 "nbformat_minor": 0
}
