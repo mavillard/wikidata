{
 "cells": [
  {
   "cell_type": "code",
   "execution_count": 1,
   "metadata": {
    "collapsed": false
   },
   "outputs": [],
   "source": [
    "import json\n",
    "import pickle\n",
    "from collections import defaultdict\n",
    "\n",
    "import networkx as nx\n",
    "import requests"
   ]
  },
  {
   "cell_type": "code",
   "execution_count": 2,
   "metadata": {
    "collapsed": true
   },
   "outputs": [],
   "source": [
    "all_relationships_set = set() # all relationships\n",
    "all_types_set = set() # all types of instances\n",
    "all_instances_set = set() # all instances\n",
    "all_instances_and_types_dict = defaultdict(set) # all instances and their types\n",
    "hierarchy = nx.DiGraph() # full type hierarchy"
   ]
  },
  {
   "cell_type": "code",
   "execution_count": 3,
   "metadata": {
    "collapsed": true
   },
   "outputs": [],
   "source": [
    "visited = set()"
   ]
  },
  {
   "cell_type": "code",
   "execution_count": 4,
   "metadata": {
    "collapsed": false
   },
   "outputs": [],
   "source": [
    "def add_to_hierarchy(c):\n",
    "    if c not in visited:\n",
    "        hierarchy.add_node(c)\n",
    "        base_url = 'https://www.wikidata.org/w/api.php'\n",
    "        payload = {'action': 'wbgetentities', 'ids': c, 'languages': 'en', 'format': 'json'}\n",
    "        r = requests.get(base_url, params=payload)\n",
    "        response = r.json()\n",
    "        d = response['entities'][c]\n",
    "        if 'claims' in d and 'P279' in d['claims']:\n",
    "            for rel_inst in d['claims']['P279']:\n",
    "                if 'datavalue' in rel_inst['mainsnak']:\n",
    "                    super_c = 'Q' + str(rel_inst['mainsnak']['datavalue']['value']['numeric-id'])\n",
    "                    hierarchy.add_node(super_c)\n",
    "                    hierarchy.add_edge(c, super_c, {'type': 'is_subclass_of'})\n",
    "                    hierarchy.add_edge(super_c, c, {'type': 'is_superclass_of'})\n",
    "                    add_to_hierarchy(super_c)\n",
    "        visited.add(c)"
   ]
  },
  {
   "cell_type": "code",
   "execution_count": 5,
   "metadata": {
    "collapsed": false
   },
   "outputs": [
    {
     "name": "stdout",
     "output_type": "stream",
     "text": [
      "Total: 1630\n",
      "Count: 1628\n",
      "Error: 2\n",
      "CPU times: user 5.68 s, sys: 93.6 ms, total: 5.78 s\n",
      "Wall time: 1min 3s\n"
     ]
    }
   ],
   "source": [
    "%%time\n",
    "total = 0\n",
    "count = 0\n",
    "error = 0\n",
    "with open('data/wikidata-20150907-star_trek.json') as f:\n",
    "    for line in f:\n",
    "        try:\n",
    "            total += 1\n",
    "            cleaned = line.strip()[:-1]\n",
    "            d = json.loads(cleaned)\n",
    "            ide = d['id']\n",
    "            all_instances_set.add(ide)\n",
    "            for rel in d['claims']:\n",
    "                all_relationships_set.add(rel)\n",
    "                if rel == 'P31':\n",
    "                    for rel_inst in d['claims']['P31']:\n",
    "                        typ = 'Q' + str(rel_inst['mainsnak']['datavalue']['value']['numeric-id'])\n",
    "                        all_types_set.add(typ)\n",
    "                        all_instances_and_types_dict[ide].add(typ)\n",
    "                        add_to_hierarchy(typ)\n",
    "            count += 1\n",
    "        except Exception as e:\n",
    "            error += 1\n",
    "print('Total:', total)\n",
    "print('Count:', count)\n",
    "print('Error:', error)"
   ]
  },
  {
   "cell_type": "code",
   "execution_count": 6,
   "metadata": {
    "collapsed": false
   },
   "outputs": [
    {
     "data": {
      "text/plain": [
       "177"
      ]
     },
     "execution_count": 6,
     "metadata": {},
     "output_type": "execute_result"
    }
   ],
   "source": [
    "len(all_relationships_set)"
   ]
  },
  {
   "cell_type": "code",
   "execution_count": 7,
   "metadata": {
    "collapsed": false
   },
   "outputs": [
    {
     "data": {
      "text/plain": [
       "67"
      ]
     },
     "execution_count": 7,
     "metadata": {},
     "output_type": "execute_result"
    }
   ],
   "source": [
    "len(all_types_set)"
   ]
  },
  {
   "cell_type": "code",
   "execution_count": 8,
   "metadata": {
    "collapsed": false
   },
   "outputs": [
    {
     "data": {
      "text/plain": [
       "1628"
      ]
     },
     "execution_count": 8,
     "metadata": {},
     "output_type": "execute_result"
    }
   ],
   "source": [
    "len(all_instances_set)"
   ]
  },
  {
   "cell_type": "code",
   "execution_count": 9,
   "metadata": {
    "collapsed": false
   },
   "outputs": [
    {
     "data": {
      "text/plain": [
       "234"
      ]
     },
     "execution_count": 9,
     "metadata": {},
     "output_type": "execute_result"
    }
   ],
   "source": [
    "len(hierarchy.nodes(data=False))"
   ]
  },
  {
   "cell_type": "code",
   "execution_count": 10,
   "metadata": {
    "collapsed": false
   },
   "outputs": [
    {
     "data": {
      "text/plain": [
       "640"
      ]
     },
     "execution_count": 10,
     "metadata": {},
     "output_type": "execute_result"
    }
   ],
   "source": [
    "len(hierarchy.edges(data=True))"
   ]
  },
  {
   "cell_type": "code",
   "execution_count": 11,
   "metadata": {
    "collapsed": false
   },
   "outputs": [
    {
     "data": {
      "text/plain": [
       "True"
      ]
     },
     "execution_count": 11,
     "metadata": {},
     "output_type": "execute_result"
    }
   ],
   "source": [
    "set(hierarchy.nodes(data=False)) == visited"
   ]
  },
  {
   "cell_type": "code",
   "execution_count": 12,
   "metadata": {
    "collapsed": true
   },
   "outputs": [],
   "source": [
    "all_relationships_list = list(all_relationships_set)\n",
    "all_types_list = list(all_types_set)\n",
    "all_instances_list = list(all_instances_set)"
   ]
  },
  {
   "cell_type": "code",
   "execution_count": 13,
   "metadata": {
    "collapsed": true
   },
   "outputs": [],
   "source": [
    "all_relationships_dict = {}\n",
    "all_types_dict = {}\n",
    "all_instances_dict = {}"
   ]
  },
  {
   "cell_type": "code",
   "execution_count": 14,
   "metadata": {
    "collapsed": false
   },
   "outputs": [],
   "source": [
    "base_url = 'https://www.wikidata.org/w/api.php'\n",
    "limit = 50\n",
    "\n",
    "chunks = [all_relationships_list[x:x+limit] for x in range(0, len(all_relationships_list), limit)]\n",
    "for chunk in chunks:\n",
    "    relationship_ids = '|'.join(chunk)\n",
    "    payload = {'action': 'wbgetentities', 'ids': relationship_ids, 'languages': 'en', 'format': 'json'}\n",
    "    r = requests.get(base_url, params=payload)\n",
    "    response = r.json()\n",
    "    entities = response['entities']\n",
    "    for ide in entities:\n",
    "        try:\n",
    "            all_relationships_dict[ide] = entities[ide]['labels']['en']['value']\n",
    "        except Exception as e:\n",
    "            all_relationships_dict[ide] = ''\n",
    "\n",
    "chunks = [all_types_list[x:x+limit] for x in range(0, len(all_types_list), limit)]\n",
    "for chunk in chunks:\n",
    "    type_ids = '|'.join(chunk)\n",
    "    payload = {'action': 'wbgetentities', 'ids': type_ids, 'languages': 'en', 'format': 'json'}\n",
    "    r = requests.get(base_url, params=payload)\n",
    "    response = r.json()\n",
    "    entities = response['entities']\n",
    "    for ide in entities:\n",
    "        try:\n",
    "            all_types_dict[ide] = entities[ide]['labels']['en']['value']\n",
    "        except Exception as e:\n",
    "            all_types_dict[ide] = ''\n",
    "\n",
    "chunks = [all_instances_list[x:x+limit] for x in range(0, len(all_instances_list), limit)]\n",
    "for chunk in chunks:\n",
    "    type_ids = '|'.join(chunk)\n",
    "    payload = {'action': 'wbgetentities', 'ids': type_ids, 'languages': 'en', 'format': 'json'}\n",
    "    r = requests.get(base_url, params=payload)\n",
    "    response = r.json()\n",
    "    entities = response['entities']\n",
    "    for ide in entities:\n",
    "        try:\n",
    "            all_instances_dict[ide] = entities[ide]['labels']['en']['value']\n",
    "        except Exception as e:\n",
    "            all_instances_dict[ide] = ''"
   ]
  },
  {
   "cell_type": "code",
   "execution_count": 15,
   "metadata": {
    "collapsed": false
   },
   "outputs": [
    {
     "data": {
      "text/plain": [
       "177"
      ]
     },
     "execution_count": 15,
     "metadata": {},
     "output_type": "execute_result"
    }
   ],
   "source": [
    "len(all_relationships_dict)"
   ]
  },
  {
   "cell_type": "code",
   "execution_count": 16,
   "metadata": {
    "collapsed": false
   },
   "outputs": [
    {
     "data": {
      "text/plain": [
       "67"
      ]
     },
     "execution_count": 16,
     "metadata": {},
     "output_type": "execute_result"
    }
   ],
   "source": [
    "len(all_types_dict)"
   ]
  },
  {
   "cell_type": "code",
   "execution_count": 17,
   "metadata": {
    "collapsed": false
   },
   "outputs": [
    {
     "data": {
      "text/plain": [
       "1628"
      ]
     },
     "execution_count": 17,
     "metadata": {},
     "output_type": "execute_result"
    }
   ],
   "source": [
    "len(all_instances_dict)"
   ]
  },
  {
   "cell_type": "code",
   "execution_count": 18,
   "metadata": {
    "collapsed": false
   },
   "outputs": [
    {
     "data": {
      "text/plain": [
       "1394"
      ]
     },
     "execution_count": 18,
     "metadata": {},
     "output_type": "execute_result"
    }
   ],
   "source": [
    "len(all_instances_and_types_dict)"
   ]
  },
  {
   "cell_type": "code",
   "execution_count": 19,
   "metadata": {
    "collapsed": true
   },
   "outputs": [],
   "source": [
    "with open('pickle/star-trek_all_relationships_dict.pickle', 'wb') as f:\n",
    "    pickle.dump(all_relationships_dict, f)\n",
    "\n",
    "with open('pickle/star-trek_all_types_dict.pickle', 'wb') as f:\n",
    "    pickle.dump(all_types_dict, f)\n",
    "\n",
    "with open('pickle/star-trek_all_instances_dict.pickle', 'wb') as f:\n",
    "    pickle.dump(all_instances_dict, f)\n",
    "\n",
    "with open('pickle/star-trek_all_instances_and_types_dict.pickle', 'wb') as f:\n",
    "    pickle.dump(all_instances_and_types_dict, f)\n",
    "\n",
    "with open('pickle/star-trek_hierarchy_graph.pickle', 'wb') as f:\n",
    "    pickle.dump(hierarchy, f)"
   ]
  },
  {
   "cell_type": "code",
   "execution_count": null,
   "metadata": {
    "collapsed": true
   },
   "outputs": [],
   "source": []
  }
 ],
 "metadata": {
  "kernelspec": {
   "display_name": "Python 3",
   "language": "python",
   "name": "python3"
  },
  "language_info": {
   "codemirror_mode": {
    "name": "ipython",
    "version": 3
   },
   "file_extension": ".py",
   "mimetype": "text/x-python",
   "name": "python",
   "nbconvert_exporter": "python",
   "pygments_lexer": "ipython3",
   "version": "3.4.3"
  }
 },
 "nbformat": 4,
 "nbformat_minor": 0
}
