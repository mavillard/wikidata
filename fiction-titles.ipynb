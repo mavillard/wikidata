{
 "cells": [
  {
   "cell_type": "code",
   "execution_count": 1,
   "metadata": {
    "collapsed": true
   },
   "outputs": [],
   "source": [
    "import csv\n",
    "import json"
   ]
  },
  {
   "cell_type": "code",
   "execution_count": 3,
   "metadata": {
    "collapsed": false
   },
   "outputs": [
    {
     "name": "stdout",
     "output_type": "stream",
     "text": [
      "1000000 articles processed.\n",
      "2000000 articles processed.\n",
      "3000000 articles processed.\n",
      "4000000 articles processed.\n",
      "5000000 articles processed.\n",
      "6000000 articles processed.\n",
      "7000000 articles processed.\n",
      "8000000 articles processed.\n",
      "9000000 articles processed.\n",
      "10000000 articles processed.\n",
      "11000000 articles processed.\n",
      "12000000 articles processed.\n",
      "13000000 articles processed.\n",
      "14000000 articles processed.\n",
      "15000000 articles processed.\n",
      "16000000 articles processed.\n",
      "17000000 articles processed.\n",
      "18000000 articles processed.\n",
      "Total: 18515868\n",
      "Count: 176186\n",
      "Error: 4658672\n",
      "CPU times: user 21min 18s, sys: 27.3 s, total: 21min 45s\n",
      "Wall time: 21min 36s\n"
     ]
    }
   ],
   "source": [
    "%%time\n",
    "total = 0\n",
    "count = 0\n",
    "error = 0\n",
    "type_list = ['Q571', 'Q8261', 'Q8253', 'Q11424', 'Q289', 'Q7889', 'Q194195', 'Q25379']\n",
    "with open('wikidata-20150907-all.json') as f1, open('titles-wikidata-20150907.csv', 'a') as f2:\n",
    "    csv_writer = csv.writer(\n",
    "        f2,\n",
    "        delimiter=',',\n",
    "        quotechar='\"',\n",
    "        quoting=csv.QUOTE_MINIMAL\n",
    "    )\n",
    "    for line in f1:\n",
    "        try:\n",
    "            total += 1\n",
    "            if total % 1000000 == 0:\n",
    "                print(total, 'articles processed.')\n",
    "            cleaned = line.strip()[:-1]\n",
    "            d = json.loads(cleaned)\n",
    "            typ = 'Q' + str(d['claims']['P31'][0]['mainsnak']['datavalue']['value']['numeric-id'])\n",
    "            if typ in type_list:\n",
    "                id2 = d['id']\n",
    "                title = d['labels']['en']['value']\n",
    "                csv_writer.writerow([typ, id2, title])\n",
    "                count += 1\n",
    "        except Exception as e:\n",
    "            error += 1\n",
    "print('Total:', total)\n",
    "print('Count:', count)\n",
    "print('Error:', error)"
   ]
  },
  {
   "cell_type": "code",
   "execution_count": null,
   "metadata": {
    "collapsed": true
   },
   "outputs": [],
   "source": []
  }
 ],
 "metadata": {
  "kernelspec": {
   "display_name": "Python 3",
   "language": "python",
   "name": "python3"
  },
  "language_info": {
   "codemirror_mode": {
    "name": "ipython",
    "version": 3
   },
   "file_extension": ".py",
   "mimetype": "text/x-python",
   "name": "python",
   "nbconvert_exporter": "python",
   "pygments_lexer": "ipython3",
   "version": "3.4.3"
  }
 },
 "nbformat": 4,
 "nbformat_minor": 0
}
