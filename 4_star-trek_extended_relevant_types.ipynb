{
 "cells": [
  {
   "cell_type": "code",
   "execution_count": 1,
   "metadata": {
    "collapsed": false
   },
   "outputs": [],
   "source": [
    "import json\n",
    "import pickle"
   ]
  },
  {
   "cell_type": "code",
   "execution_count": 2,
   "metadata": {
    "collapsed": false
   },
   "outputs": [],
   "source": [
    "with open('pickle/star-trek_only_relevant_types_dict.pickle', 'rb') as f:\n",
    "    only_relevant_types_dict = pickle.load(f)\n",
    "    \n",
    "with open('pickle/star-trek_new_types_dict.pickle', 'rb') as f:\n",
    "    new_types_dict = pickle.load(f)"
   ]
  },
  {
   "cell_type": "code",
   "execution_count": 3,
   "metadata": {
    "collapsed": false
   },
   "outputs": [
    {
     "data": {
      "text/plain": [
       "{'Q13406463': 'Wikimedia list article',\n",
       " 'Q15053464': 'fictional material',\n",
       " 'Q15632617': 'fictional human',\n",
       " 'Q15773317': 'television character',\n",
       " 'Q15773347': 'film character',\n",
       " 'Q1700422': 'extraterrestrial from Star Trek',\n",
       " 'Q18039177': 'fictional spacecraft class',\n",
       " 'Q2623733': 'fictional language',\n",
       " 'Q4167836': 'Wikimedia category',\n",
       " 'Q4663903': 'Wikimedia portal',\n",
       " 'Q5': 'human',\n",
       " 'Q989888': 'Starship Enterprise'}"
      ]
     },
     "execution_count": 3,
     "metadata": {},
     "output_type": "execute_result"
    }
   ],
   "source": [
    "new_types_dict"
   ]
  },
  {
   "cell_type": "code",
   "execution_count": 4,
   "metadata": {
    "collapsed": false
   },
   "outputs": [],
   "source": [
    "# Manually selected\n",
    "new_relevant_types_dict = {\n",
    "}"
   ]
  },
  {
   "cell_type": "code",
   "execution_count": 5,
   "metadata": {
    "collapsed": true
   },
   "outputs": [],
   "source": [
    "with open('pickle/star-trek_only_relevant_types_original_dict.pickle', 'wb') as f:\n",
    "    pickle.dump(only_relevant_types_dict, f)"
   ]
  },
  {
   "cell_type": "code",
   "execution_count": 6,
   "metadata": {
    "collapsed": true
   },
   "outputs": [],
   "source": [
    "only_relevant_types_dict.update(new_relevant_types_dict)"
   ]
  },
  {
   "cell_type": "code",
   "execution_count": 7,
   "metadata": {
    "collapsed": true
   },
   "outputs": [],
   "source": [
    "with open('pickle/star-trek_only_relevant_types_dict.pickle', 'wb') as f:\n",
    "    pickle.dump(only_relevant_types_dict, f)"
   ]
  },
  {
   "cell_type": "code",
   "execution_count": null,
   "metadata": {
    "collapsed": true
   },
   "outputs": [],
   "source": []
  }
 ],
 "metadata": {
  "kernelspec": {
   "display_name": "Python 3",
   "language": "python",
   "name": "python3"
  },
  "language_info": {
   "codemirror_mode": {
    "name": "ipython",
    "version": 3
   },
   "file_extension": ".py",
   "mimetype": "text/x-python",
   "name": "python",
   "nbconvert_exporter": "python",
   "pygments_lexer": "ipython3",
   "version": "3.4.3"
  }
 },
 "nbformat": 4,
 "nbformat_minor": 0
}
