{
 "cells": [
  {
   "cell_type": "code",
   "execution_count": 8,
   "metadata": {
    "collapsed": false
   },
   "outputs": [],
   "source": [
    "import json\n",
    "import pickle\n",
    "\n",
    "import networkx as nx"
   ]
  },
  {
   "cell_type": "code",
   "execution_count": 9,
   "metadata": {
    "collapsed": false
   },
   "outputs": [],
   "source": [
    "with open('pickle/star-trek_only_relevant_types_dict.pickle', 'rb') as f:\n",
    "    only_relevant_types_dict = pickle.load(f)\n",
    "\n",
    "with open('pickle/star-trek_hierarchy_graph.pickle', 'rb') as f:\n",
    "    hierarchy = pickle.load(f)"
   ]
  },
  {
   "cell_type": "code",
   "execution_count": 10,
   "metadata": {
    "collapsed": false
   },
   "outputs": [
    {
     "data": {
      "text/plain": [
       "{'Q1114502': 'American comic book',\n",
       " 'Q1137046': 'Star Trek: The Next Generation episode',\n",
       " 'Q11424': 'film',\n",
       " 'Q1257934': 'clip show',\n",
       " 'Q134556': 'single',\n",
       " 'Q15416': 'television program',\n",
       " 'Q186117': 'timeline',\n",
       " 'Q196600': 'media franchise',\n",
       " 'Q1983062': 'episode',\n",
       " 'Q24856': 'film series',\n",
       " 'Q24862': 'short film',\n",
       " 'Q278379': 'a priori language',\n",
       " 'Q3252662': 'series finale',\n",
       " 'Q3297186': 'limited series',\n",
       " 'Q33215': 'constructed language',\n",
       " 'Q3464665': 'television season',\n",
       " 'Q35127': 'website',\n",
       " 'Q386724': 'work',\n",
       " 'Q41298': 'magazine',\n",
       " 'Q4176708': 'soundtrack album',\n",
       " 'Q4234303': 'WikiProject',\n",
       " 'Q482994': 'album',\n",
       " 'Q5398426': 'television series',\n",
       " 'Q559618': 'fictional universe',\n",
       " 'Q571': 'book',\n",
       " 'Q581714': 'animated series',\n",
       " 'Q7889': 'video game',\n",
       " 'Q838795': 'comic strip'}"
      ]
     },
     "execution_count": 10,
     "metadata": {},
     "output_type": "execute_result"
    }
   ],
   "source": [
    "only_relevant_types_dict"
   ]
  },
  {
   "cell_type": "code",
   "execution_count": 14,
   "metadata": {
    "collapsed": false
   },
   "outputs": [
    {
     "data": {
      "text/plain": [
       "<networkx.classes.digraph.DiGraph at 0x7f67cc138748>"
      ]
     },
     "execution_count": 14,
     "metadata": {},
     "output_type": "execute_result"
    }
   ],
   "source": [
    "hierarchy"
   ]
  },
  {
   "cell_type": "code",
   "execution_count": 15,
   "metadata": {
    "collapsed": false
   },
   "outputs": [
    {
     "data": {
      "text/plain": [
       "True"
      ]
     },
     "execution_count": 15,
     "metadata": {},
     "output_type": "execute_result"
    }
   ],
   "source": [
    "all(map(lambda x: hierarchy.has_node(x), only_relevant_types_dict))"
   ]
  },
  {
   "cell_type": "code",
   "execution_count": null,
   "metadata": {
    "collapsed": true
   },
   "outputs": [],
   "source": []
  }
 ],
 "metadata": {
  "kernelspec": {
   "display_name": "Python 3",
   "language": "python",
   "name": "python3"
  },
  "language_info": {
   "codemirror_mode": {
    "name": "ipython",
    "version": 3
   },
   "file_extension": ".py",
   "mimetype": "text/x-python",
   "name": "python",
   "nbconvert_exporter": "python",
   "pygments_lexer": "ipython3",
   "version": "3.4.3"
  }
 },
 "nbformat": 4,
 "nbformat_minor": 0
}
