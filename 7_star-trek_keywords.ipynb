{
 "cells": [
  {
   "cell_type": "code",
   "execution_count": 1,
   "metadata": {
    "collapsed": false
   },
   "outputs": [],
   "source": [
    "keyword_dict = {\n",
    "    'terms': [],\n",
    "    'names': [],\n",
    "    'phrases': [],\n",
    "}\n",
    "key = None\n",
    "with open('data/star-trek_keywords.txt') as f:\n",
    "    for line in f:\n",
    "        keyword = line.strip()\n",
    "        if keyword in list(keyword_dict.keys()):\n",
    "            key = keyword\n",
    "        else:\n",
    "            keyword_dict[key].append(keyword)"
   ]
  },
  {
   "cell_type": "code",
   "execution_count": 2,
   "metadata": {
    "collapsed": false
   },
   "outputs": [
    {
     "data": {
      "text/plain": [
       "{'names': ['Picard',\n",
       "  'Kirk',\n",
       "  'Sulu',\n",
       "  'Uhura',\n",
       "  'Spock',\n",
       "  'McCoy',\n",
       "  'Bones',\n",
       "  'Scotty',\n",
       "  'Chekhov',\n",
       "  'Crusher',\n",
       "  'Nurse Chapel',\n",
       "  'Sarek',\n",
       "  'Nero',\n",
       "  'Khan',\n",
       "  'Data',\n",
       "  'Pike'],\n",
       " 'phrases': ['Transporter beam',\n",
       "  'Beam me up, Scotty',\n",
       "  'Kobayashi Maru',\n",
       "  'Space, The Final Frontier',\n",
       "  'Energize',\n",
       "  'Vulcan Salute',\n",
       "  'Prime Directive'],\n",
       " 'terms': ['Star Trek',\n",
       "  'Klingon',\n",
       "  'Vulcan',\n",
       "  'Romulan',\n",
       "  'Star fleet',\n",
       "  'Starship Enterprise',\n",
       "  'Delta Vega',\n",
       "  'Earth',\n",
       "  'Orion',\n",
       "  'Romulan Narada',\n",
       "  'Stardate']}"
      ]
     },
     "execution_count": 2,
     "metadata": {},
     "output_type": "execute_result"
    }
   ],
   "source": [
    "keyword_dict"
   ]
  },
  {
   "cell_type": "code",
   "execution_count": 3,
   "metadata": {
    "collapsed": true
   },
   "outputs": [],
   "source": [
    "# new_phrases = []\n",
    "# for phrase in keyword_dict['phrases']:\n",
    "#     new_words = []\n",
    "#     words = phrase.split()\n",
    "#     for word in words:\n",
    "#         new_word = '[{}{}]{}'.format(word[0].upper(), word[0].lower(), word[1:])\n",
    "#         new_words.append(new_word)\n",
    "#     new_phrases.append(' '.join(new_words))"
   ]
  },
  {
   "cell_type": "code",
   "execution_count": 4,
   "metadata": {
    "collapsed": false
   },
   "outputs": [],
   "source": [
    "# new_phrases"
   ]
  },
  {
   "cell_type": "code",
   "execution_count": 5,
   "metadata": {
    "collapsed": true
   },
   "outputs": [],
   "source": [
    "# keyword_dict['phrases'] = new_phrases"
   ]
  },
  {
   "cell_type": "code",
   "execution_count": 6,
   "metadata": {
    "collapsed": false
   },
   "outputs": [],
   "source": [
    "keyword_list = [keyword for keywords in keyword_dict.values() for keyword in keywords]"
   ]
  },
  {
   "cell_type": "code",
   "execution_count": 7,
   "metadata": {
    "collapsed": false
   },
   "outputs": [
    {
     "data": {
      "text/plain": [
       "['Star Trek',\n",
       " 'Klingon',\n",
       " 'Vulcan',\n",
       " 'Romulan',\n",
       " 'Star fleet',\n",
       " 'Starship Enterprise',\n",
       " 'Delta Vega',\n",
       " 'Earth',\n",
       " 'Orion',\n",
       " 'Romulan Narada',\n",
       " 'Stardate',\n",
       " 'Picard',\n",
       " 'Kirk',\n",
       " 'Sulu',\n",
       " 'Uhura',\n",
       " 'Spock',\n",
       " 'McCoy',\n",
       " 'Bones',\n",
       " 'Scotty',\n",
       " 'Chekhov',\n",
       " 'Crusher',\n",
       " 'Nurse Chapel',\n",
       " 'Sarek',\n",
       " 'Nero',\n",
       " 'Khan',\n",
       " 'Data',\n",
       " 'Pike',\n",
       " 'Transporter beam',\n",
       " 'Beam me up, Scotty',\n",
       " 'Kobayashi Maru',\n",
       " 'Space, The Final Frontier',\n",
       " 'Energize',\n",
       " 'Vulcan Salute',\n",
       " 'Prime Directive']"
      ]
     },
     "execution_count": 7,
     "metadata": {},
     "output_type": "execute_result"
    }
   ],
   "source": [
    "keyword_list"
   ]
  },
  {
   "cell_type": "code",
   "execution_count": 8,
   "metadata": {
    "collapsed": true
   },
   "outputs": [],
   "source": [
    "keyword_str = '\\|'.join(keyword_list)\n",
    "keyword_expr = '\"{}\"'.format(keyword_str.replace(',', ',\\?'))\n",
    "grep_command = 'grep -r -w -i {} > reddit_star-trek_keywords.json'.format(keyword_expr)"
   ]
  },
  {
   "cell_type": "code",
   "execution_count": 9,
   "metadata": {
    "collapsed": false
   },
   "outputs": [
    {
     "name": "stdout",
     "output_type": "stream",
     "text": [
      "grep -r -w -i \"Star Trek\\|Klingon\\|Vulcan\\|Romulan\\|Star fleet\\|Starship Enterprise\\|Delta Vega\\|Earth\\|Orion\\|Romulan Narada\\|Stardate\\|Picard\\|Kirk\\|Sulu\\|Uhura\\|Spock\\|McCoy\\|Bones\\|Scotty\\|Chekhov\\|Crusher\\|Nurse Chapel\\|Sarek\\|Nero\\|Khan\\|Data\\|Pike\\|Transporter beam\\|Beam me up,\\? Scotty\\|Kobayashi Maru\\|Space,\\? The Final Frontier\\|Energize\\|Vulcan Salute\\|Prime Directive\" > reddit_star-trek_keywords.json\n"
     ]
    }
   ],
   "source": [
    "print(grep_command)"
   ]
  },
  {
   "cell_type": "code",
   "execution_count": null,
   "metadata": {
    "collapsed": true
   },
   "outputs": [],
   "source": []
  }
 ],
 "metadata": {
  "kernelspec": {
   "display_name": "Python 3",
   "language": "python",
   "name": "python3"
  },
  "language_info": {
   "codemirror_mode": {
    "name": "ipython",
    "version": 3
   },
   "file_extension": ".py",
   "mimetype": "text/x-python",
   "name": "python",
   "nbconvert_exporter": "python",
   "pygments_lexer": "ipython3",
   "version": "3.4.3"
  }
 },
 "nbformat": 4,
 "nbformat_minor": 0
}
