{
 "cells": [
  {
   "cell_type": "code",
   "execution_count": 1,
   "metadata": {
    "collapsed": false
   },
   "outputs": [],
   "source": [
    "keyword_list = []\n",
    "with open('data/star-trek_keywords.txt') as f:\n",
    "    for line in f:\n",
    "        keyword = line.strip()\n",
    "        keyword_list.append(keyword)\n",
    "keyword_str = '\\|'.join(keyword_list)\n",
    "keyword_expr = '\"{}\"'.format(keyword_str.replace(',', ',\\?'))\n",
    "grep_command = 'grep -r -i {}'.format(keyword_expr)"
   ]
  },
  {
   "cell_type": "code",
   "execution_count": 2,
   "metadata": {
    "collapsed": false
   },
   "outputs": [
    {
     "name": "stdout",
     "output_type": "stream",
     "text": [
      "grep -r -i \"Star Trek\\|Klingon\\|Vulcan\\|Romulan\\|Star fleet\\|Starship Enterprise\\|Delta Vega\\|Earth\\|Orion\\|Romulan Narada\\|Stardate\\|Picard\\|Kirk\\|Sulu\\|Uhura\\|Spock\\|McCoy/Bones\\|Scotty\\|Chekhov\\|Crusher\\|Nurse Chapel\\|Sarek\\|Nero\\|Khan\\|Data\\|Pike\\|Transporter beam\\|Beam me up,\\? Scotty\\|Kobayashi Maru\\|Space,\\? The Final Frontier\\|Energize\\|Vulcan Salute\\|Prime Directive\"\n"
     ]
    }
   ],
   "source": [
    "print(grep_command)"
   ]
  },
  {
   "cell_type": "code",
   "execution_count": null,
   "metadata": {
    "collapsed": true
   },
   "outputs": [],
   "source": []
  }
 ],
 "metadata": {
  "kernelspec": {
   "display_name": "Python 3",
   "language": "python",
   "name": "python3"
  },
  "language_info": {
   "codemirror_mode": {
    "name": "ipython",
    "version": 3
   },
   "file_extension": ".py",
   "mimetype": "text/x-python",
   "name": "python",
   "nbconvert_exporter": "python",
   "pygments_lexer": "ipython3",
   "version": "3.4.3"
  }
 },
 "nbformat": 4,
 "nbformat_minor": 0
}
