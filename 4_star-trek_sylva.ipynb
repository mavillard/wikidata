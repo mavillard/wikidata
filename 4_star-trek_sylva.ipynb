{
 "cells": [
  {
   "cell_type": "code",
   "execution_count": 1,
   "metadata": {
    "collapsed": false
   },
   "outputs": [],
   "source": [
    "import pickle"
   ]
  },
  {
   "cell_type": "code",
   "execution_count": 2,
   "metadata": {
    "collapsed": false
   },
   "outputs": [],
   "source": [
    "with open('pickle/star-trek_network_graph.pickle', 'rb') as f:\n",
    "    network = pickle.load(f)"
   ]
  },
  {
   "cell_type": "markdown",
   "metadata": {},
   "source": [
    "## Classes' names"
   ]
  },
  {
   "cell_type": "code",
   "execution_count": 3,
   "metadata": {
    "collapsed": false
   },
   "outputs": [],
   "source": [
    "wikidata_types = set([n[1]['type'] for n in network.nodes(data=True)])"
   ]
  },
  {
   "cell_type": "code",
   "execution_count": 4,
   "metadata": {
    "collapsed": false
   },
   "outputs": [
    {
     "data": {
      "text/plain": [
       "46"
      ]
     },
     "execution_count": 4,
     "metadata": {},
     "output_type": "execute_result"
    }
   ],
   "source": [
    "len(wikidata_types)"
   ]
  },
  {
   "cell_type": "code",
   "execution_count": 5,
   "metadata": {
    "collapsed": false
   },
   "outputs": [
    {
     "data": {
      "text/plain": [
       "{'American comic book',\n",
       " 'MediaWiki site',\n",
       " 'WikiProject',\n",
       " 'Wikimedia article page',\n",
       " 'Wikimedia portal',\n",
       " 'Wikimedia project page',\n",
       " 'a priori language',\n",
       " 'album',\n",
       " 'book',\n",
       " 'cinematography',\n",
       " 'clip show',\n",
       " 'comic strip',\n",
       " 'computing platform',\n",
       " 'country',\n",
       " 'episode',\n",
       " 'fictional universe',\n",
       " 'film',\n",
       " 'film genre',\n",
       " 'film series',\n",
       " 'genre',\n",
       " 'handheld game console',\n",
       " 'language',\n",
       " 'limited series',\n",
       " 'list of Star Trek: The Next Generation episodes',\n",
       " 'literary genre',\n",
       " 'magazine',\n",
       " 'media franchise',\n",
       " 'musical ensemble',\n",
       " 'natural language',\n",
       " 'release',\n",
       " 'remix album',\n",
       " 'science fiction genre',\n",
       " 'series',\n",
       " 'short film',\n",
       " 'single',\n",
       " 'soundtrack album',\n",
       " 'television genre',\n",
       " 'television program',\n",
       " 'television season',\n",
       " 'television series',\n",
       " 'timeline',\n",
       " 'video game',\n",
       " 'video game console',\n",
       " 'video game genre',\n",
       " 'web portal',\n",
       " 'webcomic'}"
      ]
     },
     "execution_count": 5,
     "metadata": {},
     "output_type": "execute_result"
    }
   ],
   "source": [
    "wikidata_types"
   ]
  },
  {
   "cell_type": "code",
   "execution_count": 100,
   "metadata": {
    "collapsed": false
   },
   "outputs": [],
   "source": [
    "# Manually assigned\n",
    "sylva_classes = {\n",
    "    'American comic book': 'Comic',\n",
    "    'MediaWiki site': 'Web',\n",
    "    'WikiProject': 'Web',\n",
    "    'Wikimedia article page': 'Web',\n",
    "    'Wikimedia portal': 'Web',\n",
    "    'Wikimedia project page': 'Web',\n",
    "    'a priori language': 'Language',\n",
    "    'agglutinative language': 'Language',\n",
    "    'album': 'Album',\n",
    "    'animated series': 'Animated series',\n",
    "    'book': 'Book',\n",
    "    'cinematography': 'Cinematography',\n",
    "    'clip show': 'Episode',\n",
    "    'comic strip': 'Comic',\n",
    "    'computing platform': 'Video game console',\n",
    "    'constructed language': 'Language',\n",
    "    'country': 'Country',\n",
    "    'episode': 'Episode',\n",
    "    'fictional language': 'Language',\n",
    "    'fictional universe': 'Fictional Universe',\n",
    "    'film': 'Film',\n",
    "    'film genre': 'Genre',\n",
    "    'film series': 'Film series',\n",
    "    'genre': 'Genre',\n",
    "    'handheld game console': 'Video game console',\n",
    "    'language': 'Language',\n",
    "    'limited series': 'Series',\n",
    "    'list of Star Trek: The Next Generation episodes': 'Series',\n",
    "    'literary genre': 'Genre',\n",
    "    'magazine': 'Magazine',\n",
    "    'media franchise': 'Series',\n",
    "    'musical ensemble': 'Music',\n",
    "    'natural language': 'Language',\n",
    "    'release': 'Release',\n",
    "    'remix album': 'Music',\n",
    "    'science fiction genre': 'Genre',\n",
    "    'series': 'Series',\n",
    "    'series finale': 'Episode',\n",
    "    'short film': 'Film',\n",
    "    'single': 'Music',\n",
    "    'soundtrack album': 'Music',\n",
    "    'television genre': 'Genre',\n",
    "    'television program': 'TV program',\n",
    "    'television season': 'TV season',\n",
    "    'television series': 'TV series',\n",
    "    'timeline': 'Timeline',\n",
    "    'video game': 'Video game',\n",
    "    'video game console': 'Video game console',\n",
    "    'video game genre': 'Genre',\n",
    "    'web portal': 'Web',\n",
    "    'web series': 'Web series',\n",
    "    'webcomic': 'Web',\n",
    "    'website': 'Web',\n",
    "}"
   ]
  },
  {
   "cell_type": "code",
   "execution_count": 101,
   "metadata": {
    "collapsed": false
   },
   "outputs": [
    {
     "data": {
      "text/plain": [
       "set()"
      ]
     },
     "execution_count": 101,
     "metadata": {},
     "output_type": "execute_result"
    }
   ],
   "source": [
    "wikidata_types.difference(set(sylva_classes.keys()))"
   ]
  },
  {
   "cell_type": "code",
   "execution_count": 102,
   "metadata": {
    "collapsed": false
   },
   "outputs": [
    {
     "data": {
      "text/plain": [
       "53"
      ]
     },
     "execution_count": 102,
     "metadata": {},
     "output_type": "execute_result"
    }
   ],
   "source": [
    "len(sylva_classes)"
   ]
  },
  {
   "cell_type": "code",
   "execution_count": 103,
   "metadata": {
    "collapsed": false
   },
   "outputs": [],
   "source": [
    "unique_sylva_classes = set(sylva_classes.values())"
   ]
  },
  {
   "cell_type": "code",
   "execution_count": 104,
   "metadata": {
    "collapsed": false
   },
   "outputs": [
    {
     "data": {
      "text/plain": [
       "24"
      ]
     },
     "execution_count": 104,
     "metadata": {},
     "output_type": "execute_result"
    }
   ],
   "source": [
    "len(unique_sylva_classes)"
   ]
  },
  {
   "cell_type": "code",
   "execution_count": 105,
   "metadata": {
    "collapsed": false
   },
   "outputs": [
    {
     "data": {
      "text/plain": [
       "{'Album',\n",
       " 'Animated series',\n",
       " 'Book',\n",
       " 'Cinematography',\n",
       " 'Comic',\n",
       " 'Country',\n",
       " 'Episode',\n",
       " 'Fictional Universe',\n",
       " 'Film',\n",
       " 'Film series',\n",
       " 'Genre',\n",
       " 'Language',\n",
       " 'Magazine',\n",
       " 'Music',\n",
       " 'Release',\n",
       " 'Series',\n",
       " 'TV program',\n",
       " 'TV season',\n",
       " 'TV series',\n",
       " 'Timeline',\n",
       " 'Video game',\n",
       " 'Video game console',\n",
       " 'Web',\n",
       " 'Web series'}"
      ]
     },
     "execution_count": 105,
     "metadata": {},
     "output_type": "execute_result"
    }
   ],
   "source": [
    "unique_sylva_classes"
   ]
  },
  {
   "cell_type": "code",
   "execution_count": 106,
   "metadata": {
    "collapsed": true
   },
   "outputs": [],
   "source": [
    "with open('pickle/star-trek_sylva_classes_dict.pickle', 'wb') as f:\n",
    "    pickle.dump(sylva_classes, f)"
   ]
  },
  {
   "cell_type": "markdown",
   "metadata": {},
   "source": [
    "## Relationships' names"
   ]
  },
  {
   "cell_type": "code",
   "execution_count": 107,
   "metadata": {
    "collapsed": true
   },
   "outputs": [],
   "source": [
    "wikidata_relationships = set([e[2]['label'] for e in network.edges(data=True)])"
   ]
  },
  {
   "cell_type": "code",
   "execution_count": 108,
   "metadata": {
    "collapsed": false
   },
   "outputs": [
    {
     "data": {
      "text/plain": [
       "{'based on',\n",
       " \"category's main topic\",\n",
       " 'country',\n",
       " 'country of origin',\n",
       " 'describes the fictional universe',\n",
       " 'fictional universe described in',\n",
       " 'filming location',\n",
       " 'followed by',\n",
       " 'follows',\n",
       " 'from fictional universe',\n",
       " 'genre',\n",
       " 'inspired by',\n",
       " 'language of work (or name)',\n",
       " 'list of episodes',\n",
       " 'main subject',\n",
       " 'original language of work',\n",
       " 'part of',\n",
       " 'platform',\n",
       " 'series',\n",
       " \"topic's main category\",\n",
       " 'website account on'}"
      ]
     },
     "execution_count": 108,
     "metadata": {},
     "output_type": "execute_result"
    }
   ],
   "source": [
    "wikidata_relationships"
   ]
  },
  {
   "cell_type": "code",
   "execution_count": 109,
   "metadata": {
    "collapsed": true
   },
   "outputs": [],
   "source": [
    "# Manually assigned\n",
    "sylva_relationships = {\n",
    "    'based on': 'based on',\n",
    "    \"category's main topic\": \"category's main topic\",\n",
    "    'country': 'country',\n",
    "    'country of origin': 'country',\n",
    "    'describes the fictional universe': 'describes the fictional universe',\n",
    "    'fictional universe described in': 'fictional universe described in',\n",
    "    'filming location': 'filming location',\n",
    "    'followed by': 'followed by',\n",
    "    'follows': 'follows',\n",
    "    'from fictional universe': 'from fictional universe',\n",
    "    'genre': 'genre',\n",
    "    'inspired by': 'based on',\n",
    "    'language of work (or name)': 'language',\n",
    "    'list of episodes': 'list of episodes',\n",
    "    'main subject': 'main subject',\n",
    "    'original language of work': 'language',\n",
    "    'part of': 'part of',\n",
    "    'platform': 'platform',\n",
    "    'series': 'series',\n",
    "    \"topic's main category\": \"topic's main category\",\n",
    "    'website account on': 'website account on',\n",
    "}"
   ]
  },
  {
   "cell_type": "code",
   "execution_count": 110,
   "metadata": {
    "collapsed": false
   },
   "outputs": [
    {
     "data": {
      "text/plain": [
       "21"
      ]
     },
     "execution_count": 110,
     "metadata": {},
     "output_type": "execute_result"
    }
   ],
   "source": [
    "len(sylva_relationships)"
   ]
  },
  {
   "cell_type": "code",
   "execution_count": 111,
   "metadata": {
    "collapsed": true
   },
   "outputs": [],
   "source": [
    "unique_sylva_relationships = set(sylva_relationships.values())"
   ]
  },
  {
   "cell_type": "code",
   "execution_count": 112,
   "metadata": {
    "collapsed": false
   },
   "outputs": [
    {
     "data": {
      "text/plain": [
       "18"
      ]
     },
     "execution_count": 112,
     "metadata": {},
     "output_type": "execute_result"
    }
   ],
   "source": [
    "len(unique_sylva_relationships)"
   ]
  },
  {
   "cell_type": "code",
   "execution_count": 113,
   "metadata": {
    "collapsed": false
   },
   "outputs": [
    {
     "data": {
      "text/plain": [
       "{'based on',\n",
       " \"category's main topic\",\n",
       " 'country',\n",
       " 'describes the fictional universe',\n",
       " 'fictional universe described in',\n",
       " 'filming location',\n",
       " 'followed by',\n",
       " 'follows',\n",
       " 'from fictional universe',\n",
       " 'genre',\n",
       " 'language',\n",
       " 'list of episodes',\n",
       " 'main subject',\n",
       " 'part of',\n",
       " 'platform',\n",
       " 'series',\n",
       " \"topic's main category\",\n",
       " 'website account on'}"
      ]
     },
     "execution_count": 113,
     "metadata": {},
     "output_type": "execute_result"
    }
   ],
   "source": [
    "unique_sylva_relationships"
   ]
  },
  {
   "cell_type": "code",
   "execution_count": 114,
   "metadata": {
    "collapsed": true
   },
   "outputs": [],
   "source": [
    "with open('pickle/star-trek_sylva_relationships_dict.pickle', 'wb') as f:\n",
    "    pickle.dump(sylva_relationships, f)"
   ]
  },
  {
   "cell_type": "markdown",
   "metadata": {},
   "source": [
    "## Classes' attributes"
   ]
  },
  {
   "cell_type": "code",
   "execution_count": 115,
   "metadata": {
    "collapsed": true
   },
   "outputs": [],
   "source": [
    "from collections import defaultdict"
   ]
  },
  {
   "cell_type": "code",
   "execution_count": 118,
   "metadata": {
    "collapsed": true
   },
   "outputs": [],
   "source": [
    "class_attributes = defaultdict(set)"
   ]
  },
  {
   "cell_type": "code",
   "execution_count": 119,
   "metadata": {
    "collapsed": false
   },
   "outputs": [],
   "source": [
    "for ide, info in network.nodes(data=True):\n",
    "    attrs = set(info.keys())\n",
    "    t = info['type']\n",
    "    c = sylva_classes[t]\n",
    "    class_attributes[c] = class_attributes[c].union(attrs)\n",
    "\n",
    "class_attributes = dict(class_attributes)"
   ]
  },
  {
   "cell_type": "code",
   "execution_count": 125,
   "metadata": {
    "collapsed": false
   },
   "outputs": [
    {
     "data": {
      "text/plain": [
       "{'Album': {'Freebase identifier',\n",
       "  'description',\n",
       "  'id',\n",
       "  'name',\n",
       "  'type',\n",
       "  'wikilink'},\n",
       " 'Book': {'Freebase identifier',\n",
       "  'ISBN-10',\n",
       "  'ISBN-13',\n",
       "  'OCLC control number',\n",
       "  'based on',\n",
       "  'description',\n",
       "  'id',\n",
       "  'name',\n",
       "  'publication date',\n",
       "  'series',\n",
       "  'type',\n",
       "  'wikilink'},\n",
       " 'Cinematography': {'description', 'id', 'name', 'type', 'wikilink'},\n",
       " 'Comic': {'depicts',\n",
       "  'description',\n",
       "  'id',\n",
       "  'issue',\n",
       "  'license',\n",
       "  'name',\n",
       "  'publication date',\n",
       "  'reference URL',\n",
       "  'type',\n",
       "  'wikilink'},\n",
       " 'Country': {'description', 'id', 'name', 'type', 'wikilink'},\n",
       " 'Episode': {'Freebase identifier',\n",
       "  'IMDb identifier',\n",
       "  'description',\n",
       "  'filming location',\n",
       "  'followed by',\n",
       "  'follows',\n",
       "  'id',\n",
       "  'main subject',\n",
       "  'name',\n",
       "  'publication date',\n",
       "  'title',\n",
       "  'type',\n",
       "  'wikilink'},\n",
       " 'Fictional Universe': {'description',\n",
       "  'fictional universe described in',\n",
       "  'id',\n",
       "  'name',\n",
       "  'type',\n",
       "  'wikilink'},\n",
       " 'Film': {'(OBSOLETE) title (use P1476, \"title\")',\n",
       "  'AllMovie movie ID',\n",
       "  'AlloCiné movie ID',\n",
       "  'Box Office Mojo film ID',\n",
       "  'Commons category',\n",
       "  'Danish National Filmography ID',\n",
       "  'FilmAffinity identifier',\n",
       "  'Freebase identifier',\n",
       "  'IMDb identifier',\n",
       "  'MovieMeter movie ID',\n",
       "  'PORT film ID',\n",
       "  'Rotten Tomatoes identifier',\n",
       "  'YouTube video identifier',\n",
       "  'description',\n",
       "  'filming location',\n",
       "  'id',\n",
       "  'main subject',\n",
       "  'name',\n",
       "  'official website',\n",
       "  'publication date',\n",
       "  'series',\n",
       "  'type',\n",
       "  'wikilink'},\n",
       " 'Film series': {'Commons category',\n",
       "  'description',\n",
       "  'id',\n",
       "  'name',\n",
       "  'type',\n",
       "  'wikilink'},\n",
       " 'Genre': {'description', 'id', 'name', 'type', 'wikilink'},\n",
       " 'Language': {'Commons category',\n",
       "  'Freebase identifier',\n",
       "  'description',\n",
       "  'id',\n",
       "  'name',\n",
       "  'type',\n",
       "  'wikilink'},\n",
       " 'Magazine': {'(OBSOLETE) title (use P1476, \"title\")',\n",
       "  'description',\n",
       "  'id',\n",
       "  'name',\n",
       "  'type',\n",
       "  'wikilink'},\n",
       " 'Music': {'description',\n",
       "  'id',\n",
       "  'name',\n",
       "  'publication date',\n",
       "  'type',\n",
       "  'wikilink'},\n",
       " 'Release': {'description', 'id', 'name', 'type', 'wikilink'},\n",
       " 'Series': {'Commons category',\n",
       "  'Facebook ID',\n",
       "  'Freebase identifier',\n",
       "  'ISFDB series ID',\n",
       "  'Instagram username',\n",
       "  'Twitter username',\n",
       "  'description',\n",
       "  'id',\n",
       "  'name',\n",
       "  'official website',\n",
       "  'publication date',\n",
       "  'type',\n",
       "  'wikilink'},\n",
       " 'TV program': {'Commons category',\n",
       "  'Freebase identifier',\n",
       "  'PIJAS',\n",
       "  'description',\n",
       "  'id',\n",
       "  'name',\n",
       "  'original network',\n",
       "  'publication date',\n",
       "  'type',\n",
       "  'wikilink'},\n",
       " 'TV season': {'Freebase identifier',\n",
       "  'description',\n",
       "  'id',\n",
       "  'name',\n",
       "  'type',\n",
       "  'wikilink'},\n",
       " 'TV series': {'Commons category',\n",
       "  'Freebase identifier',\n",
       "  'IMDb identifier',\n",
       "  'LCAuth identifier',\n",
       "  'MusicBrainz series ID',\n",
       "  'description',\n",
       "  'end time',\n",
       "  'filming location',\n",
       "  'id',\n",
       "  'list of episodes',\n",
       "  'name',\n",
       "  'original network',\n",
       "  'publication date',\n",
       "  'start time',\n",
       "  'type',\n",
       "  'wikilink'},\n",
       " 'Timeline': {'description', 'id', 'name', 'type', 'wikilink'},\n",
       " 'Video game': {'ESRB rating',\n",
       "  'Freebase identifier',\n",
       "  'IMDb identifier',\n",
       "  'Metacritic ID',\n",
       "  'PEGI rating',\n",
       "  'USK rating',\n",
       "  'description',\n",
       "  'distribution',\n",
       "  'genre',\n",
       "  'id',\n",
       "  'name',\n",
       "  'official website',\n",
       "  'platform',\n",
       "  'publication date',\n",
       "  'series',\n",
       "  'software version',\n",
       "  'type',\n",
       "  'wikilink'},\n",
       " 'Video game console': {'description', 'id', 'name', 'type', 'wikilink'},\n",
       " 'Web': {'Commons category',\n",
       "  'Freebase identifier',\n",
       "  \"category's main topic\",\n",
       "  'description',\n",
       "  'id',\n",
       "  'is a list of',\n",
       "  'main subject',\n",
       "  'name',\n",
       "  'part of',\n",
       "  'publication date',\n",
       "  'type',\n",
       "  'wikilink'}}"
      ]
     },
     "execution_count": 125,
     "metadata": {},
     "output_type": "execute_result"
    }
   ],
   "source": [
    "class_attributes"
   ]
  },
  {
   "cell_type": "markdown",
   "metadata": {},
   "source": [
    "## Relationships' attributes"
   ]
  },
  {
   "cell_type": "code",
   "execution_count": 122,
   "metadata": {
    "collapsed": true
   },
   "outputs": [],
   "source": [
    "relationship_attributes = defaultdict(set)"
   ]
  },
  {
   "cell_type": "code",
   "execution_count": 123,
   "metadata": {
    "collapsed": false
   },
   "outputs": [],
   "source": [
    "for id1, id2, info in network.edges(data=True):\n",
    "    attrs = set(info.keys())\n",
    "    label = info['label']\n",
    "    r = sylva_relationships[label]\n",
    "    relationship_attributes[r] = relationship_attributes[r].union(attrs)\n",
    "\n",
    "relationship_attributes = dict(relationship_attributes)"
   ]
  },
  {
   "cell_type": "code",
   "execution_count": 124,
   "metadata": {
    "collapsed": false
   },
   "outputs": [
    {
     "data": {
      "text/plain": [
       "{'based on': {'label'},\n",
       " \"category's main topic\": {'label'},\n",
       " 'country': {'label', 'publication date'},\n",
       " 'describes the fictional universe': {'label'},\n",
       " 'fictional universe described in': {'label'},\n",
       " 'filming location': {'label'},\n",
       " 'followed by': {'label'},\n",
       " 'follows': {'label'},\n",
       " 'from fictional universe': {'label'},\n",
       " 'genre': {'label'},\n",
       " 'language': {'label'},\n",
       " 'list of episodes': {'label'},\n",
       " 'main subject': {'label'},\n",
       " 'part of': {'is a list of', 'label'},\n",
       " 'platform': {'Metacritic ID', 'label'},\n",
       " 'series': {'label'},\n",
       " \"topic's main category\": {'label'},\n",
       " 'website account on': {'label'}}"
      ]
     },
     "execution_count": 124,
     "metadata": {},
     "output_type": "execute_result"
    }
   ],
   "source": [
    "relationship_attributes"
   ]
  },
  {
   "cell_type": "markdown",
   "metadata": {},
   "source": [
    "## File system"
   ]
  },
  {
   "cell_type": "code",
   "execution_count": 130,
   "metadata": {
    "collapsed": true
   },
   "outputs": [],
   "source": [
    "import csv\n",
    "import os\n",
    "import shutil"
   ]
  },
  {
   "cell_type": "code",
   "execution_count": 135,
   "metadata": {
    "collapsed": false
   },
   "outputs": [],
   "source": [
    "shutil.rmtree('sylva')\n",
    "os.makedirs('sylva')\n",
    "os.makedirs('sylva/nodes')\n",
    "os.makedirs('sylva/relationships')"
   ]
  },
  {
   "cell_type": "code",
   "execution_count": 136,
   "metadata": {
    "collapsed": true
   },
   "outputs": [],
   "source": [
    "for c in unique_sylva_classes:\n",
    "    open(os.path.join('sylva/nodes', c + '.csv'), 'w')\n",
    "for p in unique_sylva_relationships:\n",
    "    open(os.path.join('sylva/relationships', p + '.csv'), 'w')"
   ]
  },
  {
   "cell_type": "markdown",
   "metadata": {},
   "source": [
    "## Schema"
   ]
  },
  {
   "cell_type": "code",
   "execution_count": 159,
   "metadata": {
    "collapsed": false
   },
   "outputs": [
    {
     "ename": "NameError",
     "evalue": "name 'properties_tuple3' is not defined",
     "output_type": "error",
     "traceback": [
      "\u001b[1;31m---------------------------------------------------------------------------\u001b[0m",
      "\u001b[1;31mNameError\u001b[0m                                 Traceback (most recent call last)",
      "\u001b[1;32m<ipython-input-159-123bd3b9680e>\u001b[0m in \u001b[0;36m<module>\u001b[1;34m()\u001b[0m\n\u001b[0;32m      1\u001b[0m \u001b[0mschema\u001b[0m \u001b[1;33m=\u001b[0m \u001b[1;33m{\u001b[0m\u001b[1;33m}\u001b[0m\u001b[1;33m\u001b[0m\u001b[0m\n\u001b[0;32m      2\u001b[0m \u001b[0mschema\u001b[0m\u001b[1;33m[\u001b[0m\u001b[1;34m'allowedEdges'\u001b[0m\u001b[1;33m]\u001b[0m \u001b[1;33m=\u001b[0m \u001b[1;33m[\u001b[0m\u001b[1;33m]\u001b[0m\u001b[1;33m\u001b[0m\u001b[0m\n\u001b[1;32m----> 3\u001b[1;33m \u001b[1;32mfor\u001b[0m \u001b[0mp\u001b[0m \u001b[1;32min\u001b[0m \u001b[0mproperties_tuple3\u001b[0m\u001b[1;33m:\u001b[0m\u001b[1;33m\u001b[0m\u001b[0m\n\u001b[0m\u001b[0;32m      4\u001b[0m     d = {\n\u001b[0;32m      5\u001b[0m         \u001b[1;34m'label'\u001b[0m\u001b[1;33m:\u001b[0m \u001b[0mp\u001b[0m\u001b[1;33m[\u001b[0m\u001b[1;36m1\u001b[0m\u001b[1;33m]\u001b[0m\u001b[1;33m,\u001b[0m\u001b[1;33m\u001b[0m\u001b[0m\n",
      "\u001b[1;31mNameError\u001b[0m: name 'properties_tuple3' is not defined"
     ]
    }
   ],
   "source": [
    "schema = {}\n",
    "schema['allowedEdges'] = []\n",
    "for p in properties_tuple3:\n",
    "    d = {\n",
    "        'label': p[1],\n",
    "        'properties': {},\n",
    "        'source': p[0],\n",
    "        'target': p[2],\n",
    "    }\n",
    "    schema['allowedEdges'].append(d)\n",
    "schema['nodeTypes'] = {}\n",
    "for t in ts:\n",
    "    schema['nodeTypes'][t] = {}\n",
    "    schema['nodeTypes'][t]['name'] = {\n",
    "        'auto': 'null',\n",
    "        'datatype': 'd',\n",
    "        'default': '',\n",
    "        'description': '',\n",
    "        'display': 'true',\n",
    "        'required': 'false',\n",
    "        'slug': 'date-1000',\n",
    "        'validation': 'null',\n",
    "        'value': ''\n",
    "    }\n",
    "    schema['nodeTypes'][t]['date'] = {\n",
    "        'auto': 'null',\n",
    "        'datatype': 'u',\n",
    "        'default': '',\n",
    "        'description': '',\n",
    "        'display': 'true',\n",
    "        'required': 'false',\n",
    "        'slug': 'name-1000',\n",
    "        'validation': 'null',\n",
    "        'value': ''\n",
    "    }"
   ]
  },
  {
   "cell_type": "code",
   "execution_count": 158,
   "metadata": {
    "collapsed": false
   },
   "outputs": [
    {
     "ename": "IndexError",
     "evalue": "pop index out of range",
     "output_type": "error",
     "traceback": [
      "\u001b[1;31m---------------------------------------------------------------------------\u001b[0m",
      "\u001b[1;31mIndexError\u001b[0m                                Traceback (most recent call last)",
      "\u001b[1;32m<ipython-input-158-de1361c908e0>\u001b[0m in \u001b[0;36m<module>\u001b[1;34m()\u001b[0m\n\u001b[1;32m----> 1\u001b[1;33m \u001b[0ml\u001b[0m\u001b[1;33m.\u001b[0m\u001b[0mpop\u001b[0m\u001b[1;33m(\u001b[0m\u001b[1;36m2\u001b[0m\u001b[1;33m)\u001b[0m\u001b[1;33m\u001b[0m\u001b[0m\n\u001b[0m",
      "\u001b[1;31mIndexError\u001b[0m: pop index out of range"
     ]
    }
   ],
   "source": [
    "l.`"
   ]
  },
  {
   "cell_type": "code",
   "execution_count": 144,
   "metadata": {
    "collapsed": false
   },
   "outputs": [
    {
     "name": "stdout",
     "output_type": "stream",
     "text": [
      "{'type', 'wikilink', 'name', 'description', 'id'}\n",
      "{'wikilink', 'description', 'id', 'name', 'type'}\n",
      "{'wikilink', 'description', 'id', 'Freebase identifier', 'name', 'type'}\n",
      "{'type', 'wikilink', 'name', 'description', 'id'}\n",
      "{'Instagram username', 'Commons category', 'ISFDB series ID', 'description', 'Freebase identifier', 'name', 'wikilink', 'Twitter username', 'official website', 'Facebook ID', 'id', 'publication date', 'type'}\n"
     ]
    },
    {
     "ename": "KeyError",
     "evalue": "'Animated series'",
     "output_type": "error",
     "traceback": [
      "\u001b[1;31m---------------------------------------------------------------------------\u001b[0m",
      "\u001b[1;31mKeyError\u001b[0m                                  Traceback (most recent call last)",
      "\u001b[1;32m<ipython-input-144-4162c74fa32b>\u001b[0m in \u001b[0;36m<module>\u001b[1;34m()\u001b[0m\n\u001b[0;32m      8\u001b[0m         )\n\u001b[0;32m      9\u001b[0m         \u001b[0mc\u001b[0m \u001b[1;33m=\u001b[0m \u001b[0me\u001b[0m\u001b[1;33m[\u001b[0m\u001b[1;33m:\u001b[0m\u001b[1;33m-\u001b[0m\u001b[1;36m4\u001b[0m\u001b[1;33m]\u001b[0m\u001b[1;33m\u001b[0m\u001b[0m\n\u001b[1;32m---> 10\u001b[1;33m         \u001b[0mattrs\u001b[0m \u001b[1;33m=\u001b[0m \u001b[0mclass_attributes\u001b[0m\u001b[1;33m[\u001b[0m\u001b[0mc\u001b[0m\u001b[1;33m]\u001b[0m\u001b[1;33m\u001b[0m\u001b[0m\n\u001b[0m\u001b[0;32m     11\u001b[0m         \u001b[0mprint\u001b[0m\u001b[1;33m(\u001b[0m\u001b[0mattrs\u001b[0m\u001b[1;33m)\u001b[0m\u001b[1;33m\u001b[0m\u001b[0m\n\u001b[0;32m     12\u001b[0m         \u001b[0mwriter\u001b[0m\u001b[1;33m.\u001b[0m\u001b[0mwriterow\u001b[0m\u001b[1;33m(\u001b[0m\u001b[1;33m[\u001b[0m\u001b[1;34m'id'\u001b[0m\u001b[1;33m,\u001b[0m \u001b[1;34m'type'\u001b[0m\u001b[1;33m,\u001b[0m \u001b[1;34m'name'\u001b[0m\u001b[1;33m,\u001b[0m \u001b[1;34m'date'\u001b[0m\u001b[1;33m,\u001b[0m \u001b[1;34m'country'\u001b[0m\u001b[1;33m]\u001b[0m\u001b[1;33m)\u001b[0m\u001b[1;33m\u001b[0m\u001b[0m\n",
      "\u001b[1;31mKeyError\u001b[0m: 'Animated series'"
     ]
    }
   ],
   "source": [
    "for e in os.listdir('sylva/nodes'):\n",
    "    with open(os.path.join('sylva/nodes', e), 'a') as f:\n",
    "        writer = csv.writer(\n",
    "            f,\n",
    "            delimiter=',',\n",
    "            quotechar='\"',\n",
    "            quoting=csv.QUOTE_ALL\n",
    "        )\n",
    "        c = e[:-4]\n",
    "        attrs = set(class_attributes[c])\n",
    "        row = ['id', 'type']\n",
    "        attrs.remove('id')\n",
    "        attrs.remove('type')\n",
    "        row.extend(attrs)\n",
    "        writer.writerow(row)\n",
    "for e in os.listdir('sylva/relationships'):\n",
    "    with open(os.path.join('sylva/relationships', e), 'a') as f:\n",
    "        writer = csv.writer(\n",
    "            f,\n",
    "            delimiter=',',\n",
    "            quotechar='\"',\n",
    "            quoting=csv.QUOTE_ALL\n",
    "        )\n",
    "        r = e[:-4]\n",
    "        attrs = set(relationship_attributes[r])\n",
    "        row = ['source id', 'target id', 'label']\n",
    "        attrs.remove('label')\n",
    "        row.extend(attrs)\n",
    "        writer.writerow(row)"
   ]
  },
  {
   "cell_type": "code",
   "execution_count": null,
   "metadata": {
    "collapsed": true
   },
   "outputs": [],
   "source": [
    "schema = {}\n",
    "schema['allowedEdges'] = []\n",
    "for p in properties_tuple3:\n",
    "    d = {\n",
    "        'label': p[1],\n",
    "        'properties': {},\n",
    "        'source': p[0],\n",
    "        'target': p[2],\n",
    "    }\n",
    "    schema['allowedEdges'].append(d)\n",
    "schema['nodeTypes'] = {}\n",
    "for t in ts:\n",
    "    schema['nodeTypes'][t] = {}\n",
    "    schema['nodeTypes'][t]['name'] = {\n",
    "        'auto': 'null',\n",
    "        'datatype': 'd',\n",
    "        'default': '',\n",
    "        'description': '',\n",
    "        'display': 'true',\n",
    "        'required': 'false',\n",
    "        'slug': 'date-1000',\n",
    "        'validation': 'null',\n",
    "        'value': ''\n",
    "    }\n",
    "    schema['nodeTypes'][t]['date'] = {\n",
    "        'auto': 'null',\n",
    "        'datatype': 'u',\n",
    "        'default': '',\n",
    "        'description': '',\n",
    "        'display': 'true',\n",
    "        'required': 'false',\n",
    "        'slug': 'name-1000',\n",
    "        'validation': 'null',\n",
    "        'value': ''\n",
    "    }"
   ]
  },
  {
   "cell_type": "code",
   "execution_count": null,
   "metadata": {
    "collapsed": true
   },
   "outputs": [],
   "source": []
  },
  {
   "cell_type": "code",
   "execution_count": null,
   "metadata": {
    "collapsed": true
   },
   "outputs": [],
   "source": []
  },
  {
   "cell_type": "code",
   "execution_count": null,
   "metadata": {
    "collapsed": true
   },
   "outputs": [],
   "source": []
  },
  {
   "cell_type": "code",
   "execution_count": null,
   "metadata": {
    "collapsed": true
   },
   "outputs": [],
   "source": []
  },
  {
   "cell_type": "code",
   "execution_count": null,
   "metadata": {
    "collapsed": true
   },
   "outputs": [],
   "source": []
  },
  {
   "cell_type": "code",
   "execution_count": null,
   "metadata": {
    "collapsed": true
   },
   "outputs": [],
   "source": []
  }
 ],
 "metadata": {
  "kernelspec": {
   "display_name": "Python 3",
   "language": "python",
   "name": "python3"
  },
  "language_info": {
   "codemirror_mode": {
    "name": "ipython",
    "version": 3
   },
   "file_extension": ".py",
   "mimetype": "text/x-python",
   "name": "python",
   "nbconvert_exporter": "python",
   "pygments_lexer": "ipython3",
   "version": "3.4.3"
  }
 },
 "nbformat": 4,
 "nbformat_minor": 0
}
