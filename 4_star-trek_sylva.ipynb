{
 "cells": [
  {
   "cell_type": "code",
   "execution_count": 1,
   "metadata": {
    "collapsed": false
   },
   "outputs": [],
   "source": [
    "import json\n",
    "import pickle"
   ]
  },
  {
   "cell_type": "code",
   "execution_count": 2,
   "metadata": {
    "collapsed": false
   },
   "outputs": [],
   "source": [
    "with open('pickle/star-trek_network_graph.pickle', 'rb') as f:\n",
    "    network = pickle.load(f)"
   ]
  },
  {
   "cell_type": "markdown",
   "metadata": {},
   "source": [
    "## Classes' names"
   ]
  },
  {
   "cell_type": "code",
   "execution_count": 3,
   "metadata": {
    "collapsed": false
   },
   "outputs": [],
   "source": [
    "wikidata_types = set([n[1]['type'][0] for n in network.nodes(data=True)])"
   ]
  },
  {
   "cell_type": "code",
   "execution_count": 4,
   "metadata": {
    "collapsed": false
   },
   "outputs": [
    {
     "data": {
      "text/plain": [
       "44"
      ]
     },
     "execution_count": 4,
     "metadata": {},
     "output_type": "execute_result"
    }
   ],
   "source": [
    "len(wikidata_types)"
   ]
  },
  {
   "cell_type": "code",
   "execution_count": 5,
   "metadata": {
    "collapsed": false
   },
   "outputs": [
    {
     "data": {
      "text/plain": [
       "{'American comic book',\n",
       " 'MediaWiki site',\n",
       " 'WikiProject',\n",
       " 'Wikimedia portal',\n",
       " 'agglutinative language',\n",
       " 'album',\n",
       " 'animated series',\n",
       " 'book',\n",
       " 'clip show',\n",
       " 'comic strip',\n",
       " 'comic strip series',\n",
       " 'computing platform',\n",
       " 'country',\n",
       " 'episode',\n",
       " 'fictional language',\n",
       " 'fictional universe',\n",
       " 'film',\n",
       " 'film genre',\n",
       " 'genre',\n",
       " 'handheld game console',\n",
       " 'language',\n",
       " 'limited series',\n",
       " 'literary genre',\n",
       " 'magazine',\n",
       " 'media franchise',\n",
       " 'musical ensemble',\n",
       " 'natural language',\n",
       " 'no type',\n",
       " 'release',\n",
       " 'remix album',\n",
       " 'science fiction genre',\n",
       " 'series',\n",
       " 'series finale',\n",
       " 'single',\n",
       " 'soundtrack album',\n",
       " 'television genre',\n",
       " 'television program',\n",
       " 'television season',\n",
       " 'television series',\n",
       " 'timeline',\n",
       " 'video game',\n",
       " 'video game console',\n",
       " 'video game genre',\n",
       " 'web portal'}"
      ]
     },
     "execution_count": 5,
     "metadata": {},
     "output_type": "execute_result"
    }
   ],
   "source": [
    "wikidata_types"
   ]
  },
  {
   "cell_type": "code",
   "execution_count": 6,
   "metadata": {
    "collapsed": false
   },
   "outputs": [],
   "source": [
    "# Manually assigned\n",
    "sylva_classes = {\n",
    "    'American comic book': 'Comic',\n",
    "    'MediaWiki site': 'Web',\n",
    "    'WikiProject': 'Web',\n",
    "    'Wikimedia portal': 'Web',\n",
    "    'a priori language': 'Language',\n",
    "    'agglutinative language': 'Language',\n",
    "    'album': 'Music',\n",
    "    'animated series': 'Animated series',\n",
    "    'book': 'Book',\n",
    "    'cinematography': 'Cinematography',\n",
    "    'clip show': 'Episode',\n",
    "    'comic strip': 'Comic',\n",
    "    'comic strip series': 'Comic series',\n",
    "    'computing platform': 'Video game console',\n",
    "    'constructed language': 'Language',\n",
    "    'country': 'Country',\n",
    "    'episode': 'Episode',\n",
    "    'fictional language': 'Language',\n",
    "    'fictional universe': 'Fictional Universe',\n",
    "    'film': 'Film',\n",
    "    'film genre': 'Genre',\n",
    "    'film series': 'Film series',\n",
    "    'genre': 'Genre',\n",
    "    'handheld game console': 'Video game console',\n",
    "    'language': 'Language',\n",
    "    'limited series': 'Series',\n",
    "    'literary genre': 'Genre',\n",
    "    'magazine': 'Magazine',\n",
    "    'media franchise': 'Series',\n",
    "    'musical ensemble': 'Music',\n",
    "    'natural language': 'Language',\n",
    "    'no type': 'No class',\n",
    "    'release': 'Release',\n",
    "    'remix album': 'Music',\n",
    "    'science fiction genre': 'Genre',\n",
    "    'series': 'Series',\n",
    "    'series finale': 'Episode',\n",
    "    'short film': 'Film',\n",
    "    'single': 'Music',\n",
    "    'soundtrack album': 'Music',\n",
    "    'television genre': 'Genre',\n",
    "    'television program': 'TV program',\n",
    "    'television season': 'TV season',\n",
    "    'television series': 'TV series',\n",
    "    'timeline': 'Timeline',\n",
    "    'video game': 'Video game',\n",
    "    'video game console': 'Video game console',\n",
    "    'video game genre': 'Genre',\n",
    "    'web portal': 'Web',\n",
    "    'web series': 'Web series',\n",
    "    'webcomic': 'Web',\n",
    "    'website': 'Web',\n",
    "}"
   ]
  },
  {
   "cell_type": "code",
   "execution_count": 7,
   "metadata": {
    "collapsed": false
   },
   "outputs": [
    {
     "data": {
      "text/plain": [
       "52"
      ]
     },
     "execution_count": 7,
     "metadata": {},
     "output_type": "execute_result"
    }
   ],
   "source": [
    "len(sylva_classes)"
   ]
  },
  {
   "cell_type": "code",
   "execution_count": 8,
   "metadata": {
    "collapsed": false
   },
   "outputs": [
    {
     "data": {
      "text/plain": [
       "set()"
      ]
     },
     "execution_count": 8,
     "metadata": {},
     "output_type": "execute_result"
    }
   ],
   "source": [
    "set(wikidata_types).difference(sylva_classes)"
   ]
  },
  {
   "cell_type": "code",
   "execution_count": 9,
   "metadata": {
    "collapsed": false
   },
   "outputs": [],
   "source": [
    "unique_sylva_classes = set([sylva_classes[k] for k in wikidata_types])"
   ]
  },
  {
   "cell_type": "code",
   "execution_count": 10,
   "metadata": {
    "collapsed": false
   },
   "outputs": [
    {
     "data": {
      "text/plain": [
       "22"
      ]
     },
     "execution_count": 10,
     "metadata": {},
     "output_type": "execute_result"
    }
   ],
   "source": [
    "len(unique_sylva_classes)"
   ]
  },
  {
   "cell_type": "code",
   "execution_count": 11,
   "metadata": {
    "collapsed": false
   },
   "outputs": [
    {
     "data": {
      "text/plain": [
       "{'Animated series',\n",
       " 'Book',\n",
       " 'Comic',\n",
       " 'Comic series',\n",
       " 'Country',\n",
       " 'Episode',\n",
       " 'Fictional Universe',\n",
       " 'Film',\n",
       " 'Genre',\n",
       " 'Language',\n",
       " 'Magazine',\n",
       " 'Music',\n",
       " 'No class',\n",
       " 'Release',\n",
       " 'Series',\n",
       " 'TV program',\n",
       " 'TV season',\n",
       " 'TV series',\n",
       " 'Timeline',\n",
       " 'Video game',\n",
       " 'Video game console',\n",
       " 'Web'}"
      ]
     },
     "execution_count": 11,
     "metadata": {},
     "output_type": "execute_result"
    }
   ],
   "source": [
    "unique_sylva_classes"
   ]
  },
  {
   "cell_type": "code",
   "execution_count": 12,
   "metadata": {
    "collapsed": true
   },
   "outputs": [],
   "source": [
    "with open('pickle/star-trek_sylva_classes_dict.pickle', 'wb') as f:\n",
    "    pickle.dump(sylva_classes, f)"
   ]
  },
  {
   "cell_type": "markdown",
   "metadata": {},
   "source": [
    "## Relationships' names"
   ]
  },
  {
   "cell_type": "code",
   "execution_count": 13,
   "metadata": {
    "collapsed": true
   },
   "outputs": [],
   "source": [
    "wikidata_relationships = set([e[2]['label'][0] for e in network.edges(data=True)])"
   ]
  },
  {
   "cell_type": "code",
   "execution_count": 14,
   "metadata": {
    "collapsed": false
   },
   "outputs": [
    {
     "data": {
      "text/plain": [
       "{'ESRB rating',\n",
       " 'PEGI rating',\n",
       " 'USK rating',\n",
       " 'based on',\n",
       " 'country',\n",
       " 'country of origin',\n",
       " 'depicts',\n",
       " 'describes the fictional universe',\n",
       " 'distribution',\n",
       " 'fictional universe described in',\n",
       " 'filming location',\n",
       " 'followed by',\n",
       " 'follows',\n",
       " 'from fictional universe',\n",
       " 'genre',\n",
       " 'inspired by',\n",
       " 'license',\n",
       " 'list of episodes',\n",
       " 'main subject',\n",
       " 'original language of work',\n",
       " 'original network',\n",
       " 'part of',\n",
       " 'platform',\n",
       " 'series',\n",
       " \"topic's main category\",\n",
       " 'website account on'}"
      ]
     },
     "execution_count": 14,
     "metadata": {},
     "output_type": "execute_result"
    }
   ],
   "source": [
    "wikidata_relationships"
   ]
  },
  {
   "cell_type": "code",
   "execution_count": 15,
   "metadata": {
    "collapsed": true
   },
   "outputs": [],
   "source": [
    "# Manually assigned\n",
    "sylva_relationships = {\n",
    "    'ESRB rating': 'ESRB rating',\n",
    "    'PEGI rating': 'PEGI rating',\n",
    "    'USK rating': 'USK rating',\n",
    "    'based on': 'based on',\n",
    "    'country': 'country',\n",
    "    'country of origin': 'country',\n",
    "    'depicts': 'depicts',\n",
    "    'describes the fictional universe': 'describes the fictional universe',\n",
    "    'distribution': 'distribution',\n",
    "    'fictional universe described in': 'fictional universe described in',\n",
    "    'filming location': 'filming location',\n",
    "    'followed by': 'followed by',\n",
    "    'follows': 'follows',\n",
    "    'from fictional universe': 'from fictional universe',\n",
    "    'genre': 'genre',\n",
    "    'inspired by': 'based on',\n",
    "    'language': 'language',\n",
    "    'license': 'license',\n",
    "    'list of episodes': 'list of episodes',\n",
    "    'main subject': 'main subject',\n",
    "    'original language of work': 'language',\n",
    "    'original network': 'original network',\n",
    "    'part of': 'part of',\n",
    "    'platform': 'platform',\n",
    "    'series': 'series',\n",
    "    \"topic's main category\": \"topic's main category\",\n",
    "    'website account on': 'website account on',\n",
    "}"
   ]
  },
  {
   "cell_type": "code",
   "execution_count": 16,
   "metadata": {
    "collapsed": false
   },
   "outputs": [
    {
     "data": {
      "text/plain": [
       "27"
      ]
     },
     "execution_count": 16,
     "metadata": {},
     "output_type": "execute_result"
    }
   ],
   "source": [
    "len(sylva_relationships)"
   ]
  },
  {
   "cell_type": "code",
   "execution_count": 17,
   "metadata": {
    "collapsed": true
   },
   "outputs": [],
   "source": [
    "unique_sylva_relationships = set([sylva_relationships[k] for k in wikidata_relationships])"
   ]
  },
  {
   "cell_type": "code",
   "execution_count": 18,
   "metadata": {
    "collapsed": false
   },
   "outputs": [
    {
     "data": {
      "text/plain": [
       "24"
      ]
     },
     "execution_count": 18,
     "metadata": {},
     "output_type": "execute_result"
    }
   ],
   "source": [
    "len(unique_sylva_relationships)"
   ]
  },
  {
   "cell_type": "code",
   "execution_count": 19,
   "metadata": {
    "collapsed": false
   },
   "outputs": [
    {
     "data": {
      "text/plain": [
       "{'ESRB rating',\n",
       " 'PEGI rating',\n",
       " 'USK rating',\n",
       " 'based on',\n",
       " 'country',\n",
       " 'depicts',\n",
       " 'describes the fictional universe',\n",
       " 'distribution',\n",
       " 'fictional universe described in',\n",
       " 'filming location',\n",
       " 'followed by',\n",
       " 'follows',\n",
       " 'from fictional universe',\n",
       " 'genre',\n",
       " 'language',\n",
       " 'license',\n",
       " 'list of episodes',\n",
       " 'main subject',\n",
       " 'original network',\n",
       " 'part of',\n",
       " 'platform',\n",
       " 'series',\n",
       " \"topic's main category\",\n",
       " 'website account on'}"
      ]
     },
     "execution_count": 19,
     "metadata": {},
     "output_type": "execute_result"
    }
   ],
   "source": [
    "unique_sylva_relationships"
   ]
  },
  {
   "cell_type": "code",
   "execution_count": 20,
   "metadata": {
    "collapsed": true
   },
   "outputs": [],
   "source": [
    "with open('pickle/star-trek_sylva_relationships_dict.pickle', 'wb') as f:\n",
    "    pickle.dump(sylva_relationships, f)"
   ]
  },
  {
   "cell_type": "markdown",
   "metadata": {},
   "source": [
    "## Classes' attributes"
   ]
  },
  {
   "cell_type": "code",
   "execution_count": 21,
   "metadata": {
    "collapsed": true
   },
   "outputs": [],
   "source": [
    "from collections import defaultdict"
   ]
  },
  {
   "cell_type": "code",
   "execution_count": 22,
   "metadata": {
    "collapsed": true
   },
   "outputs": [],
   "source": [
    "class_attributes = defaultdict(set)"
   ]
  },
  {
   "cell_type": "code",
   "execution_count": 23,
   "metadata": {
    "collapsed": false
   },
   "outputs": [],
   "source": [
    "for ide, info in network.nodes(data=True):\n",
    "    attrs = set([(label, typ) for (label, (value, typ)) in info.items()])\n",
    "    t = info['type'][0]\n",
    "    c = sylva_classes[t]\n",
    "    class_attributes[c] = class_attributes[c].union(attrs)\n",
    "    class_attributes[c].remove(('id', None))\n",
    "    class_attributes[c].remove(('type', None))\n",
    "\n",
    "class_attributes = dict(class_attributes)"
   ]
  },
  {
   "cell_type": "code",
   "execution_count": 24,
   "metadata": {
    "collapsed": false
   },
   "outputs": [
    {
     "data": {
      "text/plain": [
       "{'Animated series': {('Commons category', 'string'),\n",
       "  ('Freebase identifier', 'string'),\n",
       "  ('IMDb identifier', 'string'),\n",
       "  ('description', 'string'),\n",
       "  ('name', 'string'),\n",
       "  ('publication date', 'date'),\n",
       "  ('wikilink', 'string')},\n",
       " 'Book': {('Freebase identifier', 'string'),\n",
       "  ('ISBN-10', 'string'),\n",
       "  ('ISBN-13', 'string'),\n",
       "  ('OCLC control number', 'string'),\n",
       "  ('description', 'string'),\n",
       "  ('name', 'string'),\n",
       "  ('publication date', 'date'),\n",
       "  ('wikilink', 'string')},\n",
       " 'Comic': {('description', 'string'),\n",
       "  ('issue', 'string'),\n",
       "  ('name', 'string'),\n",
       "  ('publication date', 'date'),\n",
       "  ('reference URL', 'string'),\n",
       "  ('wikilink', 'string')},\n",
       " 'Comic series': {('description', 'string'),\n",
       "  ('name', 'string'),\n",
       "  ('wikilink', 'string')},\n",
       " 'Country': {('description', 'string'),\n",
       "  ('name', 'string'),\n",
       "  ('wikilink', 'string')},\n",
       " 'Episode': {('Freebase identifier', 'string'),\n",
       "  ('IMDb identifier', 'string'),\n",
       "  ('YouTube video identifier', 'string'),\n",
       "  ('description', 'string'),\n",
       "  ('name', 'string'),\n",
       "  ('publication date', 'date'),\n",
       "  ('publication date', 'string'),\n",
       "  ('title', 'string'),\n",
       "  ('wikilink', 'string')},\n",
       " 'Fictional Universe': {('description', 'string'),\n",
       "  ('name', 'string'),\n",
       "  ('wikilink', 'string')},\n",
       " 'Film': {('AllMovie movie ID', 'string'),\n",
       "  ('AlloCiné movie ID', 'string'),\n",
       "  ('Box Office Mojo film ID', 'string'),\n",
       "  ('Commons category', 'string'),\n",
       "  ('Danish National Filmography ID', 'string'),\n",
       "  ('FilmAffinity identifier', 'string'),\n",
       "  ('Freebase identifier', 'string'),\n",
       "  ('IMDb identifier', 'string'),\n",
       "  ('MovieMeter movie ID', 'string'),\n",
       "  ('PORT film ID', 'string'),\n",
       "  ('Rotten Tomatoes identifier', 'string'),\n",
       "  ('description', 'string'),\n",
       "  ('name', 'string'),\n",
       "  ('official website', 'string'),\n",
       "  ('publication date', 'date'),\n",
       "  ('wikilink', 'string')},\n",
       " 'Genre': {('description', 'string'),\n",
       "  ('name', 'string'),\n",
       "  ('wikilink', 'string')},\n",
       " 'Language': {('Commons category', 'string'),\n",
       "  ('Freebase identifier', 'string'),\n",
       "  ('description', 'string'),\n",
       "  ('name', 'string'),\n",
       "  ('wikilink', 'string')},\n",
       " 'Magazine': {('description', 'string'),\n",
       "  ('name', 'string'),\n",
       "  ('wikilink', 'string')},\n",
       " 'Music': {('Freebase identifier', 'string'),\n",
       "  ('description', 'string'),\n",
       "  ('name', 'string'),\n",
       "  ('publication date', 'date'),\n",
       "  ('wikilink', 'string')},\n",
       " 'No class': {('description', 'string'),\n",
       "  ('name', 'string'),\n",
       "  ('wikilink', 'string')},\n",
       " 'Release': {('description', 'string'),\n",
       "  ('name', 'string'),\n",
       "  ('wikilink', 'string')},\n",
       " 'Series': {('Commons category', 'string'),\n",
       "  ('Facebook ID', 'string'),\n",
       "  ('Freebase identifier', 'string'),\n",
       "  ('ISFDB series ID', 'string'),\n",
       "  ('Instagram username', 'string'),\n",
       "  ('Twitter username', 'string'),\n",
       "  ('description', 'string'),\n",
       "  ('name', 'string'),\n",
       "  ('official website', 'string'),\n",
       "  ('wikilink', 'string')},\n",
       " 'TV program': {('Commons category', 'string'),\n",
       "  ('Freebase identifier', 'string'),\n",
       "  ('PIJAS', 'string'),\n",
       "  ('description', 'string'),\n",
       "  ('name', 'string'),\n",
       "  ('publication date', 'date'),\n",
       "  ('wikilink', 'string')},\n",
       " 'TV season': {('Freebase identifier', 'string'),\n",
       "  ('description', 'string'),\n",
       "  ('name', 'string'),\n",
       "  ('wikilink', 'string')},\n",
       " 'TV series': {('Commons category', 'string'),\n",
       "  ('Freebase identifier', 'string'),\n",
       "  ('IMDb identifier', 'string'),\n",
       "  ('LCAuth identifier', 'string'),\n",
       "  ('MusicBrainz series ID', 'string'),\n",
       "  ('description', 'string'),\n",
       "  ('end time', 'date'),\n",
       "  ('name', 'string'),\n",
       "  ('start time', 'date'),\n",
       "  ('wikilink', 'string')},\n",
       " 'Timeline': {('description', 'string'),\n",
       "  ('name', 'string'),\n",
       "  ('wikilink', 'string')},\n",
       " 'Video game': {('Freebase identifier', 'string'),\n",
       "  ('IMDb identifier', 'string'),\n",
       "  ('Metacritic ID', 'string'),\n",
       "  ('description', 'string'),\n",
       "  ('name', 'string'),\n",
       "  ('official website', 'string'),\n",
       "  ('publication date', 'date'),\n",
       "  ('software version', 'string'),\n",
       "  ('wikilink', 'string')},\n",
       " 'Video game console': {('description', 'string'),\n",
       "  ('name', 'string'),\n",
       "  ('wikilink', 'string')},\n",
       " 'Web': {('Freebase identifier', 'string'),\n",
       "  ('description', 'string'),\n",
       "  ('name', 'string'),\n",
       "  ('wikilink', 'string')}}"
      ]
     },
     "execution_count": 24,
     "metadata": {},
     "output_type": "execute_result"
    }
   ],
   "source": [
    "class_attributes"
   ]
  },
  {
   "cell_type": "markdown",
   "metadata": {},
   "source": [
    "## Relationships' attributes, domain, and range"
   ]
  },
  {
   "cell_type": "code",
   "execution_count": 25,
   "metadata": {
    "collapsed": true
   },
   "outputs": [],
   "source": [
    "relationship_attributes = defaultdict(set)\n",
    "relationship_domains_ranges = defaultdict(set)"
   ]
  },
  {
   "cell_type": "code",
   "execution_count": 26,
   "metadata": {
    "collapsed": false
   },
   "outputs": [],
   "source": [
    "for id1, id2, info in network.edges(data=True):\n",
    "    attrs = set([(label, typ) for (label, (value, typ)) in info.items()])\n",
    "    label = info['label'][0]\n",
    "    r = sylva_relationships[label]\n",
    "    \n",
    "    relationship_attributes[r] = relationship_attributes[r].union(attrs)\n",
    "    relationship_attributes[r].remove(('label', None))\n",
    "    \n",
    "    t1 = network.node[id1]['type'][0]\n",
    "    t2 = network.node[id2]['type'][0]\n",
    "    c1 = sylva_classes[t1]\n",
    "    c2 = sylva_classes[t2]\n",
    "    relationship_domains_ranges[r].add((c1, c2))\n",
    "\n",
    "relationship_attributes = dict(relationship_attributes)\n",
    "relationship_domains_ranges = dict(relationship_domains_ranges)"
   ]
  },
  {
   "cell_type": "code",
   "execution_count": 27,
   "metadata": {
    "collapsed": false
   },
   "outputs": [
    {
     "data": {
      "text/plain": [
       "{'ESRB rating': set(),\n",
       " 'PEGI rating': set(),\n",
       " 'USK rating': set(),\n",
       " 'based on': set(),\n",
       " 'country': {('publication date', 'date')},\n",
       " 'depicts': set(),\n",
       " 'describes the fictional universe': set(),\n",
       " 'distribution': set(),\n",
       " 'fictional universe described in': set(),\n",
       " 'filming location': set(),\n",
       " 'followed by': set(),\n",
       " 'follows': set(),\n",
       " 'from fictional universe': set(),\n",
       " 'genre': set(),\n",
       " 'language': set(),\n",
       " 'license': set(),\n",
       " 'list of episodes': set(),\n",
       " 'main subject': set(),\n",
       " 'original network': set(),\n",
       " 'part of': set(),\n",
       " 'platform': {('Metacritic ID', 'string')},\n",
       " 'series': set(),\n",
       " \"topic's main category\": set(),\n",
       " 'website account on': set()}"
      ]
     },
     "execution_count": 27,
     "metadata": {},
     "output_type": "execute_result"
    }
   ],
   "source": [
    "relationship_attributes"
   ]
  },
  {
   "cell_type": "code",
   "execution_count": 28,
   "metadata": {
    "collapsed": false
   },
   "outputs": [
    {
     "data": {
      "text/plain": [
       "{'ESRB rating': {('Video game', 'No class')},\n",
       " 'PEGI rating': {('Video game', 'No class')},\n",
       " 'USK rating': {('Video game', 'No class')},\n",
       " 'based on': {('Book', 'Film'),\n",
       "  ('Book', 'No class'),\n",
       "  ('Book', 'TV series'),\n",
       "  ('Film', 'Episode'),\n",
       "  ('Film', 'Film'),\n",
       "  ('Film', 'Series'),\n",
       "  ('Video game', 'TV series')},\n",
       " 'country': {('Animated series', 'Country'),\n",
       "  ('Episode', 'Country'),\n",
       "  ('Film', 'Country'),\n",
       "  ('Series', 'Country'),\n",
       "  ('TV program', 'Country'),\n",
       "  ('TV season', 'Country'),\n",
       "  ('TV series', 'Country')},\n",
       " 'depicts': {('Comic', 'No class')},\n",
       " 'describes the fictional universe': {('Book', 'Fictional Universe'),\n",
       "  ('Comic', 'Fictional Universe'),\n",
       "  ('Series', 'Fictional Universe')},\n",
       " 'distribution': {('Video game', 'No class')},\n",
       " 'fictional universe described in': {('Fictional Universe', 'Book'),\n",
       "  ('Fictional Universe', 'Comic'),\n",
       "  ('Fictional Universe', 'Film'),\n",
       "  ('Fictional Universe', 'No class'),\n",
       "  ('Fictional Universe', 'Series'),\n",
       "  ('Fictional Universe', 'TV series')},\n",
       " 'filming location': {('Episode', 'No class'),\n",
       "  ('Film', 'Country'),\n",
       "  ('Film', 'No class'),\n",
       "  ('TV series', 'No class')},\n",
       " 'followed by': {('Animated series', 'TV series'),\n",
       "  ('Book', 'Book'),\n",
       "  ('Comic', 'Comic'),\n",
       "  ('Episode', 'Episode'),\n",
       "  ('Episode', 'No class'),\n",
       "  ('Film', 'Film'),\n",
       "  ('Music', 'Music'),\n",
       "  ('TV season', 'TV season'),\n",
       "  ('TV series', 'Animated series'),\n",
       "  ('TV series', 'TV series')},\n",
       " 'follows': {('Animated series', 'TV series'),\n",
       "  ('Book', 'Book'),\n",
       "  ('Comic', 'Comic'),\n",
       "  ('Episode', 'Episode'),\n",
       "  ('Episode', 'No class'),\n",
       "  ('Film', 'Film'),\n",
       "  ('Music', 'Music'),\n",
       "  ('TV season', 'TV season'),\n",
       "  ('TV series', 'Animated series'),\n",
       "  ('TV series', 'TV series')},\n",
       " 'from fictional universe': {('Episode', 'Fictional Universe'),\n",
       "  ('Language', 'Fictional Universe')},\n",
       " 'genre': {('Animated series', 'Genre'),\n",
       "  ('Book', 'Genre'),\n",
       "  ('Episode', 'Genre'),\n",
       "  ('Film', 'Genre'),\n",
       "  ('Series', 'Genre'),\n",
       "  ('TV series', 'Genre'),\n",
       "  ('Video game', 'Genre'),\n",
       "  ('Video game', 'No class')},\n",
       " 'language': {('Animated series', 'Language'),\n",
       "  ('Book', 'Language'),\n",
       "  ('Comic', 'Language'),\n",
       "  ('Episode', 'Language'),\n",
       "  ('Film', 'Language'),\n",
       "  ('TV program', 'Language'),\n",
       "  ('TV season', 'Language'),\n",
       "  ('TV series', 'Language')},\n",
       " 'license': {('Comic', 'No class')},\n",
       " 'list of episodes': {('Animated series', 'No class'),\n",
       "  ('TV series', 'No class')},\n",
       " 'main subject': {('Book', 'TV series'),\n",
       "  ('Episode', 'No class'),\n",
       "  ('Film', 'No class')},\n",
       " 'original network': {('TV program', 'No class'), ('TV series', 'No class')},\n",
       " 'part of': {('Animated series', 'Series'),\n",
       "  ('Book', 'Series'),\n",
       "  ('Comic', 'Comic series'),\n",
       "  ('Comic', 'Series'),\n",
       "  ('Episode', 'TV season'),\n",
       "  ('Series', 'Series'),\n",
       "  ('TV program', 'Series'),\n",
       "  ('TV series', 'Series')},\n",
       " 'platform': {('Video game', 'No class'),\n",
       "  ('Video game', 'Video game'),\n",
       "  ('Video game', 'Video game console')},\n",
       " 'series': {('Book', 'No class'),\n",
       "  ('Book', 'TV series'),\n",
       "  ('Episode', 'Animated series'),\n",
       "  ('Episode', 'No class'),\n",
       "  ('Episode', 'TV season'),\n",
       "  ('Episode', 'TV series'),\n",
       "  ('TV season', 'Animated series'),\n",
       "  ('TV season', 'TV series'),\n",
       "  ('TV series', 'Series'),\n",
       "  ('Video game', 'No class'),\n",
       "  ('Video game', 'Series'),\n",
       "  ('Video game', 'TV series'),\n",
       "  ('Video game', 'Video game')},\n",
       " \"topic's main category\": {('Animated series', 'No class'),\n",
       "  ('Language', 'No class'),\n",
       "  ('Series', 'No class'),\n",
       "  ('TV program', 'No class'),\n",
       "  ('TV series', 'No class'),\n",
       "  ('Web', 'No class')},\n",
       " 'website account on': {('Series', 'Web')}}"
      ]
     },
     "execution_count": 28,
     "metadata": {},
     "output_type": "execute_result"
    }
   ],
   "source": [
    "relationship_domains_ranges"
   ]
  },
  {
   "cell_type": "markdown",
   "metadata": {},
   "source": [
    "## Schema"
   ]
  },
  {
   "cell_type": "code",
   "execution_count": 29,
   "metadata": {
    "collapsed": false
   },
   "outputs": [],
   "source": [
    "schema = {}\n",
    "schema['allowedEdges'] = []\n",
    "for r in relationship_domains_ranges:\n",
    "    for dom, ran in relationship_domains_ranges[r]:\n",
    "        d = {\n",
    "            'label': r,\n",
    "            'properties': {},\n",
    "            'source': dom,\n",
    "            'target': ran,\n",
    "        }\n",
    "        for attr, typ in relationship_attributes[r]:\n",
    "            d['properties'][attr] = {\n",
    "                'auto': 'null',\n",
    "                'datatype': 'n' if typ == 'number' else 'd' if typ == 'date' else 'u',\n",
    "                'default': '',\n",
    "                'description': '',\n",
    "                'display': 'true',\n",
    "                'required': 'false',\n",
    "                'slug': attr,\n",
    "                'validation': 'null',\n",
    "                'value': ''\n",
    "        }\n",
    "        schema['allowedEdges'].append(d)\n",
    "schema['nodeTypes'] = {}\n",
    "for c in class_attributes:\n",
    "    schema['nodeTypes'][c] = {}\n",
    "    for attr, typ in class_attributes[c]:\n",
    "        schema['nodeTypes'][c][attr] = {\n",
    "            'auto': 'null',\n",
    "            'datatype': 'n' if typ == 'number' else 'd' if typ == 'date' else 'u',\n",
    "            'default': '',\n",
    "            'description': '',\n",
    "            'display': 'true',\n",
    "            'required': 'false',\n",
    "            'slug': attr,\n",
    "            'validation': 'null',\n",
    "            'value': ''\n",
    "        }"
   ]
  },
  {
   "cell_type": "code",
   "execution_count": 30,
   "metadata": {
    "collapsed": false
   },
   "outputs": [],
   "source": [
    "with open('sylva/schema.json', 'w') as f:\n",
    "    json.dump(schema, f)\n",
    "\n",
    "with open('sylva/schema.json') as f:\n",
    "    content = f.read()\n",
    "    content = content.replace('\"false\"', 'false')\n",
    "    content = content.replace('\"true\"', 'true')\n",
    "    content = content.replace('\"null\"', 'null')\n",
    "\n",
    "with open('sylva/schema.json', 'w') as f:\n",
    "    f.write(content)"
   ]
  },
  {
   "cell_type": "markdown",
   "metadata": {},
   "source": [
    "## File system"
   ]
  },
  {
   "cell_type": "code",
   "execution_count": 31,
   "metadata": {
    "collapsed": true
   },
   "outputs": [],
   "source": [
    "import csv\n",
    "import os\n",
    "import shutil"
   ]
  },
  {
   "cell_type": "code",
   "execution_count": 32,
   "metadata": {
    "collapsed": false
   },
   "outputs": [],
   "source": [
    "shutil.rmtree('sylva/nodes')\n",
    "shutil.rmtree('sylva/relationships')\n",
    "os.makedirs('sylva/nodes')\n",
    "os.makedirs('sylva/relationships')"
   ]
  },
  {
   "cell_type": "code",
   "execution_count": 33,
   "metadata": {
    "collapsed": true
   },
   "outputs": [],
   "source": [
    "for c in unique_sylva_classes:\n",
    "    open(os.path.join('sylva/nodes', c + '.csv'), 'w')\n",
    "for p in unique_sylva_relationships:\n",
    "    open(os.path.join('sylva/relationships', p + '.csv'), 'w')"
   ]
  },
  {
   "cell_type": "markdown",
   "metadata": {
    "collapsed": true
   },
   "source": [
    "## Data"
   ]
  },
  {
   "cell_type": "code",
   "execution_count": 34,
   "metadata": {
    "collapsed": false
   },
   "outputs": [],
   "source": [
    "nodes = defaultdict(list)\n",
    "for n in network.nodes(data=True):\n",
    "    new = {}\n",
    "    for attr in n[1]:\n",
    "        new[attr] = n[1][attr][0]\n",
    "    c = sylva_classes[new['type']]\n",
    "    new['type'] = c\n",
    "    nodes[c].append(new)\n",
    "nodes = dict(nodes)"
   ]
  },
  {
   "cell_type": "code",
   "execution_count": 35,
   "metadata": {
    "collapsed": false
   },
   "outputs": [],
   "source": [
    "edges = defaultdict(list)\n",
    "for e in network.edges(data=True):\n",
    "    new = {}\n",
    "    new['source id'] = e[0]\n",
    "    new['target id'] = e[1]\n",
    "    for attr in e[2]:\n",
    "        new[attr] = e[2][attr][0]\n",
    "    r = sylva_relationships[new['label']]\n",
    "    new['label'] = r\n",
    "    edges[r].append(new)\n",
    "edges = dict(edges)"
   ]
  },
  {
   "cell_type": "code",
   "execution_count": 36,
   "metadata": {
    "collapsed": false
   },
   "outputs": [],
   "source": [
    "for e in os.listdir('sylva/nodes'):\n",
    "    with open(os.path.join('sylva/nodes', e), 'a') as f:\n",
    "        writer = csv.writer(\n",
    "            f,\n",
    "            delimiter=',',\n",
    "            quotechar='\"',\n",
    "            quoting=csv.QUOTE_ALL\n",
    "        )\n",
    "        c = e[:-4]\n",
    "        attrs = set([name for name, typ in class_attributes[c]])\n",
    "        attr_row = ['id', 'type']\n",
    "        attr_row.extend(attrs)\n",
    "        writer.writerow(attr_row)\n",
    "        for n in nodes[c]:\n",
    "            row = ['' if a not in n else n[a] for a in attr_row]\n",
    "            writer.writerow(row)\n",
    "for e in os.listdir('sylva/relationships'):\n",
    "    with open(os.path.join('sylva/relationships', e), 'a') as f:\n",
    "        writer = csv.writer(\n",
    "            f,\n",
    "            delimiter=',',\n",
    "            quotechar='\"',\n",
    "            quoting=csv.QUOTE_ALL\n",
    "        )\n",
    "        r = e[:-4]\n",
    "        attrs = set([name for name, typ in relationship_attributes[r]])\n",
    "        attr_row = ['source id', 'target id', 'label']\n",
    "        attr_row.extend(attrs)\n",
    "        writer.writerow(attr_row)\n",
    "        for e in edges[r]:\n",
    "            row = ['' if a not in e else e[a] for a in attr_row]\n",
    "            writer.writerow(row)"
   ]
  },
  {
   "cell_type": "code",
   "execution_count": null,
   "metadata": {
    "collapsed": true
   },
   "outputs": [],
   "source": []
  }
 ],
 "metadata": {
  "kernelspec": {
   "display_name": "Python 3",
   "language": "python",
   "name": "python3"
  },
  "language_info": {
   "codemirror_mode": {
    "name": "ipython",
    "version": 3
   },
   "file_extension": ".py",
   "mimetype": "text/x-python",
   "name": "python",
   "nbconvert_exporter": "python",
   "pygments_lexer": "ipython3",
   "version": "3.4.3"
  }
 },
 "nbformat": 4,
 "nbformat_minor": 0
}
