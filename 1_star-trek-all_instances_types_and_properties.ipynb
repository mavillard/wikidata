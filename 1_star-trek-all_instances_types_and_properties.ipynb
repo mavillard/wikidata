{
 "cells": [
  {
   "cell_type": "code",
   "execution_count": 1,
   "metadata": {
    "collapsed": false
   },
   "outputs": [],
   "source": [
    "import json\n",
    "import pickle\n",
    "\n",
    "import requests"
   ]
  },
  {
   "cell_type": "code",
   "execution_count": 2,
   "metadata": {
    "collapsed": true
   },
   "outputs": [],
   "source": [
    "def get_value_and_type(prop_inst):\n",
    "    if 'mainsnak' in prop_inst: # for properties themselves\n",
    "        main_info = prop_inst['mainsnak']\n",
    "    else: # for qualifiers\n",
    "        main_info = prop_inst\n",
    "    if 'datavalue' in main_info:\n",
    "        prop_type = main_info['datavalue']['type']\n",
    "        if prop_type == 'wikibase-entityid':\n",
    "            value = 'Q{}'.format(main_info['datavalue']['value']['numeric-id'])\n",
    "            typ = 'object'\n",
    "        elif prop_type == 'string':\n",
    "            value = str(main_info['datavalue']['value'])\n",
    "            typ = 'string'\n",
    "        elif prop_type == 'time':\n",
    "            value = str(main_info['datavalue']['value']['time'][1:11])\n",
    "            typ = 'date'\n",
    "        elif prop_type == 'monolingualtext':\n",
    "            value = str(main_info['datavalue']['value']['text'])\n",
    "            typ = 'string'\n",
    "        elif prop_type == 'quantity':\n",
    "            value = str(main_info['datavalue']['value']['amount'])\n",
    "            typ = 'number'\n",
    "        elif prop_type == 'globecoordinate':\n",
    "            latitude = main_info['datavalue']['value']['latitude']\n",
    "            longitude = main_info['datavalue']['value']['longitude']\n",
    "            value = '({}, {})'.format(latitude, longitude)\n",
    "            typ = 'string'\n",
    "        else:\n",
    "            raise Exception('Unknown property type')\n",
    "    else:\n",
    "        value, typ = None, None\n",
    "    return (value, typ)"
   ]
  },
  {
   "cell_type": "code",
   "execution_count": 3,
   "metadata": {
    "collapsed": true
   },
   "outputs": [],
   "source": [
    "def get_info(d):\n",
    "    if 'labels' in d and 'en' in d['labels']:\n",
    "        name = d['labels']['en']['value']\n",
    "    else:\n",
    "        name = ''\n",
    "    if 'sitelinks' in d and 'enwiki' in d['sitelinks']:\n",
    "        wikilink = d['sitelinks']['enwiki']['title']\n",
    "    else:\n",
    "        wikilink = ''\n",
    "    if 'descriptions' in d and 'en' in d['descriptions']:\n",
    "        description = d['descriptions']['en']['value']\n",
    "    else:\n",
    "        description = ''\n",
    "    info = {\n",
    "        'name': name,\n",
    "        'wikilink': wikilink,\n",
    "        'description': description,\n",
    "    }\n",
    "    return info"
   ]
  },
  {
   "cell_type": "code",
   "execution_count": 4,
   "metadata": {
    "collapsed": false
   },
   "outputs": [],
   "source": [
    "all_properties_set = set() # all properties (relationships and attributes)\n",
    "first_types_set = set() # types of source instances\n",
    "all_instances_set = set() # all instances"
   ]
  },
  {
   "cell_type": "code",
   "execution_count": 5,
   "metadata": {
    "collapsed": false
   },
   "outputs": [],
   "source": [
    "first_instances_dict = {} # source instances, info, and types"
   ]
  },
  {
   "cell_type": "code",
   "execution_count": 6,
   "metadata": {
    "collapsed": false
   },
   "outputs": [],
   "source": [
    "# all_properties_dict = {} # all properties (relationships and attributes)\n",
    "# first_types_dict = {} # types of source instances and their superclasses\n",
    "# first_instances_dict = {} # source instances and their types"
   ]
  },
  {
   "cell_type": "code",
   "execution_count": 7,
   "metadata": {
    "collapsed": false
   },
   "outputs": [
    {
     "name": "stdout",
     "output_type": "stream",
     "text": [
      "Total: 1630\n",
      "Count: 1628\n",
      "Error: 2\n",
      "CPU times: user 242 ms, sys: 0 ns, total: 242 ms\n",
      "Wall time: 240 ms\n"
     ]
    }
   ],
   "source": [
    "%%time\n",
    "\n",
    "total = 0\n",
    "count = 0\n",
    "error = 0\n",
    "with open('data/wikidata-20150907-star_trek.json') as f:\n",
    "    for line in f:\n",
    "        try:\n",
    "            total += 1\n",
    "            cleaned = line.strip()[:-1]\n",
    "            d = json.loads(cleaned)\n",
    "            ide = d['id']\n",
    "            info = get_info(d)\n",
    "            first_instances_dict[ide] = info\n",
    "            first_instances_dict[ide]['types'] = set()\n",
    "            all_instances_set.add(ide)\n",
    "            for prop in d['claims']:\n",
    "                all_properties_set.add(prop)\n",
    "                for prop_inst in d['claims'][prop]:\n",
    "                    value, typ = get_value_and_type(prop_inst)\n",
    "                    if typ == 'object':\n",
    "                        all_instances_set.add(value)\n",
    "                        if prop == 'P31':\n",
    "                            first_types_set.add(value)\n",
    "                            first_instances_dict[ide]['types'].add(value)\n",
    "                    if 'qualifiers' in prop_inst:\n",
    "                        for q in prop_inst['qualifiers']:\n",
    "                            all_properties_set.add(q)\n",
    "                            for q_inst in prop_inst['qualifiers'][q]:\n",
    "                                q_value, q_type = get_value_and_type(q_inst)\n",
    "                                if q_type == 'object':\n",
    "                                    all_instances_set.add(q_value)\n",
    "            count += 1\n",
    "        except Exception as e:\n",
    "            error += 1\n",
    "print('Total:', total)\n",
    "print('Count:', count)\n",
    "print('Error:', error)"
   ]
  },
  {
   "cell_type": "code",
   "execution_count": 8,
   "metadata": {
    "collapsed": false
   },
   "outputs": [
    {
     "data": {
      "text/plain": [
       "182"
      ]
     },
     "execution_count": 8,
     "metadata": {},
     "output_type": "execute_result"
    }
   ],
   "source": [
    "len(all_properties_set)"
   ]
  },
  {
   "cell_type": "code",
   "execution_count": 9,
   "metadata": {
    "collapsed": false
   },
   "outputs": [
    {
     "data": {
      "text/plain": [
       "67"
      ]
     },
     "execution_count": 9,
     "metadata": {},
     "output_type": "execute_result"
    }
   ],
   "source": [
    "len(first_types_set)"
   ]
  },
  {
   "cell_type": "code",
   "execution_count": 10,
   "metadata": {
    "collapsed": false
   },
   "outputs": [
    {
     "data": {
      "text/plain": [
       "2602"
      ]
     },
     "execution_count": 10,
     "metadata": {},
     "output_type": "execute_result"
    }
   ],
   "source": [
    "len(all_instances_set)"
   ]
  },
  {
   "cell_type": "code",
   "execution_count": 11,
   "metadata": {
    "collapsed": false
   },
   "outputs": [
    {
     "data": {
      "text/plain": [
       "1628"
      ]
     },
     "execution_count": 11,
     "metadata": {},
     "output_type": "execute_result"
    }
   ],
   "source": [
    "len(first_instances_dict)"
   ]
  },
  {
   "cell_type": "code",
   "execution_count": 12,
   "metadata": {
    "collapsed": false
   },
   "outputs": [],
   "source": [
    "rest_instances_set = all_instances_set.difference(first_instances_dict)"
   ]
  },
  {
   "cell_type": "code",
   "execution_count": 13,
   "metadata": {
    "collapsed": false
   },
   "outputs": [
    {
     "data": {
      "text/plain": [
       "974"
      ]
     },
     "execution_count": 13,
     "metadata": {},
     "output_type": "execute_result"
    }
   ],
   "source": [
    "len(rest_instances_set)"
   ]
  },
  {
   "cell_type": "code",
   "execution_count": 49,
   "metadata": {
    "collapsed": true
   },
   "outputs": [],
   "source": [
    "all_properties_list = list(all_properties_set)\n",
    "first_types_list = list(first_types_set)\n",
    "rest_instances_list = list(rest_instances_set)"
   ]
  },
  {
   "cell_type": "code",
   "execution_count": 50,
   "metadata": {
    "collapsed": true
   },
   "outputs": [],
   "source": [
    "all_properties_dict = {}\n",
    "all_types_dict = {}\n",
    "other_instances_dict = {}"
   ]
  },
  {
   "cell_type": "code",
   "execution_count": 51,
   "metadata": {
    "collapsed": false
   },
   "outputs": [],
   "source": [
    "# %%time\n",
    "\n",
    "base_url = 'https://www.wikidata.org/w/api.php'\n",
    "limit = 50\n",
    "\n",
    "chunks = [all_properties_list[x:x+limit] for x in range(0, len(all_properties_list), limit)]\n",
    "for chunk in chunks:\n",
    "    property_ids = '|'.join(chunk)\n",
    "    payload = {'action': 'wbgetentities', 'ids': property_ids, 'languages': 'en', 'format': 'json'}\n",
    "    r = requests.get(base_url, params=payload)\n",
    "    response = r.json()\n",
    "    entities = response['entities']\n",
    "    for ide in entities:\n",
    "#         try:\n",
    "        all_properties_dict[ide] = get_info(entities[ide])\n",
    "#         except Exception as e:\n",
    "#             all_properties_dict[ide] = ''\n",
    "\n",
    "chunks = [all_types_list[x:x+limit] for x in range(0, len(all_types_list), limit)]\n",
    "for chunk in chunks:\n",
    "    type_ids = '|'.join(chunk)\n",
    "    payload = {'action': 'wbgetentities', 'ids': type_ids, 'languages': 'en', 'format': 'json'}\n",
    "    r = requests.get(base_url, params=payload)\n",
    "    response = r.json()\n",
    "    entities = response['entities']\n",
    "    for ide in entities:\n",
    "#         try:\n",
    "        all_types_dict[ide] = get_info(entities[ide])\n",
    "#         except Exception as e:\n",
    "#             all_types_dict[ide] = ''\n",
    "\n",
    "chunks = [other_instances_list[x:x+limit] for x in range(0, len(other_instances_list), limit)]\n",
    "for chunk in chunks:\n",
    "    instance_ids = '|'.join(chunk)\n",
    "    payload = {'action': 'wbgetentities', 'ids': instance_ids, 'languages': 'en', 'format': 'json'}\n",
    "    r = requests.get(base_url, params=payload)\n",
    "    response = r.json()\n",
    "    entities = response['entities']\n",
    "    for ide in entities:\n",
    "#         try:\n",
    "        other_instances_dict[ide] = get_info(entities[ide])\n",
    "#         except Exception as e:\n",
    "#             all_instances_dict[ide] = ''"
   ]
  },
  {
   "cell_type": "code",
   "execution_count": 54,
   "metadata": {
    "collapsed": true
   },
   "outputs": [],
   "source": [
    "all_instances_dict.update(other_instances_dict)"
   ]
  },
  {
   "cell_type": "code",
   "execution_count": 52,
   "metadata": {
    "collapsed": false
   },
   "outputs": [
    {
     "data": {
      "text/plain": [
       "182"
      ]
     },
     "execution_count": 52,
     "metadata": {},
     "output_type": "execute_result"
    }
   ],
   "source": [
    "len(all_properties_dict)"
   ]
  },
  {
   "cell_type": "code",
   "execution_count": 53,
   "metadata": {
    "collapsed": false
   },
   "outputs": [
    {
     "data": {
      "text/plain": [
       "67"
      ]
     },
     "execution_count": 53,
     "metadata": {},
     "output_type": "execute_result"
    }
   ],
   "source": [
    "len(all_types_dict)"
   ]
  },
  {
   "cell_type": "code",
   "execution_count": 55,
   "metadata": {
    "collapsed": false
   },
   "outputs": [
    {
     "data": {
      "text/plain": [
       "2602"
      ]
     },
     "execution_count": 55,
     "metadata": {},
     "output_type": "execute_result"
    }
   ],
   "source": [
    "len(all_instances_dict)"
   ]
  },
  {
   "cell_type": "code",
   "execution_count": 18,
   "metadata": {
    "collapsed": true
   },
   "outputs": [],
   "source": [
    "with open('pickle/star-trek_all_properties_dict.pickle', 'wb') as f:\n",
    "    pickle.dump(all_properties_dict, f)\n",
    "\n",
    "with open('pickle/star-trek_all_types_dict.pickle', 'wb') as f:\n",
    "    pickle.dump(all_types_dict, f)\n",
    "\n",
    "with open('pickle/star-trek_all_instances_dict.pickle', 'wb') as f:\n",
    "    pickle.dump(all_instances_dict, f)\n",
    "\n",
    "with open('pickle/star-trek_all_instances_and_types_dict.pickle', 'wb') as f:\n",
    "    pickle.dump(dict(all_instances_and_types_dict), f)\n",
    "\n",
    "with open('pickle/star-trek_hierarchy_graph.pickle', 'wb') as f:\n",
    "    pickle.dump(hierarchy, f)"
   ]
  },
  {
   "cell_type": "code",
   "execution_count": 58,
   "metadata": {
    "collapsed": false
   },
   "outputs": [],
   "source": [
    "with open('pickle/star-trek_all_properties_dict-old.pickle', 'rb') as f:\n",
    "    old = pickle.load(f)"
   ]
  },
  {
   "cell_type": "code",
   "execution_count": 59,
   "metadata": {
    "collapsed": false
   },
   "outputs": [
    {
     "data": {
      "text/plain": [
       "177"
      ]
     },
     "execution_count": 59,
     "metadata": {},
     "output_type": "execute_result"
    }
   ],
   "source": [
    "len(old)"
   ]
  },
  {
   "cell_type": "code",
   "execution_count": 67,
   "metadata": {
    "collapsed": false
   },
   "outputs": [
    {
     "name": "stdout",
     "output_type": "stream",
     "text": [
      "P554 {'wikilink': '', 'description': 'username on a website that the person or organization has an account on (only use as qualifier of P553)', 'name': 'website username'}\n",
      "\n",
      "P453 {'wikilink': '', 'description': 'specific role played or filled by subject -- use only as qualifier of \"cast member\" (P161) or \"voice actor\" (P725)', 'name': 'character role'}\n",
      "\n",
      "P794 {'wikilink': '', 'description': 'generic qualifier', 'name': 'as'}\n",
      "\n",
      "P642 {'wikilink': '', 'description': 'qualifiers stating that a statement applies within the scope of a particular item', 'name': 'of'}\n",
      "\n",
      "P585 {'wikilink': '', 'description': 'time and date something took place, existed or a statement was true', 'name': 'point in time'}\n",
      "\n"
     ]
    }
   ],
   "source": [
    "for p in all_properties_set.difference(old):\n",
    "    print(p, all_properties_dict[p])\n",
    "    print()"
   ]
  },
  {
   "cell_type": "code",
   "execution_count": 71,
   "metadata": {
    "collapsed": false
   },
   "outputs": [],
   "source": [
    "# for k in all_properties_dict:\n",
    "#     print(k, all_properties_dict[k]['wikilink'])"
   ]
  },
  {
   "cell_type": "code",
   "execution_count": null,
   "metadata": {
    "collapsed": true
   },
   "outputs": [],
   "source": []
  }
 ],
 "metadata": {
  "kernelspec": {
   "display_name": "Python 3",
   "language": "python",
   "name": "python3"
  },
  "language_info": {
   "codemirror_mode": {
    "name": "ipython",
    "version": 3
   },
   "file_extension": ".py",
   "mimetype": "text/x-python",
   "name": "python",
   "nbconvert_exporter": "python",
   "pygments_lexer": "ipython3",
   "version": "3.4.3"
  }
 },
 "nbformat": 4,
 "nbformat_minor": 0
}
