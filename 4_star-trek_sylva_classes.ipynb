{
 "cells": [
  {
   "cell_type": "code",
   "execution_count": 1,
   "metadata": {
    "collapsed": false
   },
   "outputs": [],
   "source": [
    "import pickle\n",
    "\n",
    "import requests"
   ]
  },
  {
   "cell_type": "code",
   "execution_count": 2,
   "metadata": {
    "collapsed": false
   },
   "outputs": [],
   "source": [
    "with open('pickle/star-trek_only_relevant_types_dict.pickle', 'rb') as f:\n",
    "    only_relevant_types_dict = pickle.load(f)"
   ]
  },
  {
   "cell_type": "code",
   "execution_count": 3,
   "metadata": {
    "collapsed": false
   },
   "outputs": [
    {
     "data": {
      "text/plain": [
       "{'Q1114502': 'American comic book',\n",
       " 'Q1137046': 'Star Trek: The Next Generation episode',\n",
       " 'Q11424': 'film',\n",
       " 'Q1257934': 'clip show',\n",
       " 'Q134556': 'single',\n",
       " 'Q15416': 'television program',\n",
       " 'Q186117': 'timeline',\n",
       " 'Q196600': 'media franchise',\n",
       " 'Q1983062': 'episode',\n",
       " 'Q24856': 'film series',\n",
       " 'Q24862': 'short film',\n",
       " 'Q278379': 'a priori language',\n",
       " 'Q315': 'language',\n",
       " 'Q3252662': 'series finale',\n",
       " 'Q3297186': 'limited series',\n",
       " 'Q33215': 'constructed language',\n",
       " 'Q3464665': 'television season',\n",
       " 'Q35127': 'website',\n",
       " 'Q41298': 'magazine',\n",
       " 'Q4176708': 'soundtrack album',\n",
       " 'Q4234303': 'WikiProject',\n",
       " 'Q482994': 'album',\n",
       " 'Q5398426': 'television series',\n",
       " 'Q559618': 'fictional universe',\n",
       " 'Q571': 'book',\n",
       " 'Q581714': 'animated series',\n",
       " 'Q6256': 'country',\n",
       " 'Q7889': 'video game',\n",
       " 'Q838795': 'comic strip'}"
      ]
     },
     "execution_count": 3,
     "metadata": {},
     "output_type": "execute_result"
    }
   ],
   "source": [
    "only_relevant_types_dict"
   ]
  },
  {
   "cell_type": "code",
   "execution_count": 4,
   "metadata": {
    "collapsed": true
   },
   "outputs": [],
   "source": [
    "# Manually added\n",
    "other_relevant_types_dict = {\n",
    "    'Q315': 'language',\n",
    "    'Q6256': 'country',\n",
    "}"
   ]
  },
  {
   "cell_type": "code",
   "execution_count": 5,
   "metadata": {
    "collapsed": true
   },
   "outputs": [],
   "source": [
    "only_relevant_types_dict.update(other_relevant_types_dict)"
   ]
  },
  {
   "cell_type": "code",
   "execution_count": 6,
   "metadata": {
    "collapsed": true
   },
   "outputs": [],
   "source": [
    "# Manually assigned\n",
    "wikidata_types_to_sylva_classes = {\n",
    "    'Q1114502': ('American comic book', 'Comic'),\n",
    "    'Q1137046': ('Star Trek: The Next Generation episode', 'Episode'),\n",
    "    'Q11424': ('film', 'Film'),\n",
    "    'Q1257934': ('clip show', 'Episode'),\n",
    "    'Q134556': ('single', 'Single'),\n",
    "    'Q15416': ('television program', 'TV_program'),\n",
    "    'Q186117': ('timeline', 'Timeline'),\n",
    "    'Q196600': ('media franchise', 'Series'),\n",
    "    'Q1983062': ('episode', 'Episode'),\n",
    "    'Q24856': ('film series', 'Film_series'),\n",
    "    'Q24862': ('short film', 'Film'),\n",
    "    'Q278379': ('a priori language', 'Language'),\n",
    "    'Q315': ('language', 'Language'),\n",
    "    'Q3252662': ('series finale', 'Episode'),\n",
    "    'Q3297186': ('limited series', 'Comic_series'),\n",
    "    'Q33215': ('constructed language', 'Language'),\n",
    "    'Q3464665': ('television season', 'TV_season'),\n",
    "    'Q35127': ('website', 'Website'),\n",
    "    'Q41298': ('magazine', 'Magazine'),\n",
    "    'Q4176708': ('soundtrack album', 'Soundtrack_album'),\n",
    "    'Q4234303': ('WikiProject', 'Website'),\n",
    "    'Q482994': ('album', 'Album'),\n",
    "    'Q5398426': ('television series', 'TV_series'),\n",
    "    'Q559618': ('fictional universe', 'Fictional_universe'),\n",
    "    'Q571': ('book', 'Book'),\n",
    "    'Q581714': ('animated series', 'Animated_series'),\n",
    "    'Q6256': ('country', 'Country'),\n",
    "    'Q7889': ('video game', 'Video_game'),\n",
    "    'Q838795': ('comic strip', 'Comic'),\n",
    "}"
   ]
  },
  {
   "cell_type": "code",
   "execution_count": 7,
   "metadata": {
    "collapsed": false
   },
   "outputs": [
    {
     "data": {
      "text/plain": [
       "{'Album',\n",
       " 'Animated_series',\n",
       " 'Book',\n",
       " 'Comic',\n",
       " 'Comic_series',\n",
       " 'Country',\n",
       " 'Episode',\n",
       " 'Fictional_universe',\n",
       " 'Film',\n",
       " 'Film_series',\n",
       " 'Language',\n",
       " 'Magazine',\n",
       " 'Series',\n",
       " 'Single',\n",
       " 'Soundtrack_album',\n",
       " 'TV_program',\n",
       " 'TV_season',\n",
       " 'TV_series',\n",
       " 'Timeline',\n",
       " 'Video_game',\n",
       " 'Website'}"
      ]
     },
     "execution_count": 7,
     "metadata": {},
     "output_type": "execute_result"
    }
   ],
   "source": [
    "# Classes on Sylva\n",
    "classes = set()\n",
    "for ide, (t, c) in wikidata_types_to_sylva_classes.items():\n",
    "    classes.add(c)\n",
    "classes"
   ]
  },
  {
   "cell_type": "code",
   "execution_count": 8,
   "metadata": {
    "collapsed": true
   },
   "outputs": [],
   "source": [
    "with open('pickle/star-trek_only_relevant_types_dict.pickle', 'wb') as f:\n",
    "    pickle.dump(only_relevant_types_dict, f)\n",
    "\n",
    "with open('pickle/star-trek_wikidata_types_to_sylva_classes.pickle', 'wb') as f:\n",
    "    pickle.dump(wikidata_types_to_sylva_classes, f)"
   ]
  },
  {
   "cell_type": "code",
   "execution_count": null,
   "metadata": {
    "collapsed": true
   },
   "outputs": [],
   "source": []
  }
 ],
 "metadata": {
  "kernelspec": {
   "display_name": "Python 3",
   "language": "python",
   "name": "python3"
  },
  "language_info": {
   "codemirror_mode": {
    "name": "ipython",
    "version": 3
   },
   "file_extension": ".py",
   "mimetype": "text/x-python",
   "name": "python",
   "nbconvert_exporter": "python",
   "pygments_lexer": "ipython3",
   "version": "3.4.3"
  }
 },
 "nbformat": 4,
 "nbformat_minor": 0
}
