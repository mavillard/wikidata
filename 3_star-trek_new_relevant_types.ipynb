{
 "cells": [
  {
   "cell_type": "code",
   "execution_count": 1,
   "metadata": {
    "collapsed": false
   },
   "outputs": [],
   "source": [
    "import json\n",
    "import pickle"
   ]
  },
  {
   "cell_type": "code",
   "execution_count": 2,
   "metadata": {
    "collapsed": false
   },
   "outputs": [],
   "source": [
    "with open('pickle/star-trek_only_relevant_types_dict.pickle', 'rb') as f:\n",
    "    only_relevant_types_dict = pickle.load(f)\n",
    "    \n",
    "with open('pickle/star-trek_new_types_dict.pickle', 'rb') as f:\n",
    "    new_types_dict = pickle.load(f)"
   ]
  },
  {
   "cell_type": "code",
   "execution_count": 3,
   "metadata": {
    "collapsed": false
   },
   "outputs": [
    {
     "data": {
      "text/plain": [
       "{'Q103495': 'world war',\n",
       " 'Q1093829': 'city of the United States',\n",
       " 'Q112099': 'island nation',\n",
       " 'Q1194240': 'science fiction genre',\n",
       " 'Q12135': 'mental disorder',\n",
       " 'Q1254874': 'television network',\n",
       " 'Q13218382': 'charter city and county',\n",
       " 'Q13218391': 'charter city',\n",
       " 'Q1323642': 'transcontinental country',\n",
       " 'Q13406463': 'Wikimedia list article',\n",
       " 'Q141683': 'broadcast network',\n",
       " 'Q14204246': 'Wikimedia project page',\n",
       " 'Q14623646': 'fictional organization',\n",
       " 'Q1520223': 'constitutional republic',\n",
       " 'Q1549591': 'big city',\n",
       " 'Q15632617': 'fictional human',\n",
       " 'Q15707583': 'fictional taxon',\n",
       " 'Q15961987': 'television genre',\n",
       " 'Q160016': 'member state of the United Nations',\n",
       " 'Q1616075': 'television station',\n",
       " 'Q1620797': 'historic district in the United States',\n",
       " 'Q170434': 'DOS',\n",
       " 'Q171263': 'agglutinative language',\n",
       " 'Q17444909': 'astronomical object type',\n",
       " 'Q177600': 'stick figure',\n",
       " 'Q178885': 'deity',\n",
       " 'Q185441': 'member state of the European Union',\n",
       " 'Q193395': 'data storage device',\n",
       " 'Q201658': 'film genre',\n",
       " 'Q202686': 'Commonwealth realm',\n",
       " 'Q2031291': 'release',\n",
       " 'Q21191134': 'comic strip series',\n",
       " 'Q213369': 'webcomic',\n",
       " 'Q218616': 'proprietary software',\n",
       " 'Q223393': 'literary genre',\n",
       " 'Q2917506': 'series',\n",
       " 'Q33742': 'natural language',\n",
       " 'Q34770': 'language',\n",
       " 'Q3504248': 'inner planets',\n",
       " 'Q354004': 'audio storage device',\n",
       " 'Q35657': 'state of the United States',\n",
       " 'Q3624078': 'sovereign state',\n",
       " 'Q3863': 'asteroid',\n",
       " 'Q386724': 'work',\n",
       " 'Q41614': 'constitutional monarchy',\n",
       " 'Q4167836': 'Wikimedia category',\n",
       " 'Q45713': 'Titan',\n",
       " 'Q473708': 'home computer',\n",
       " 'Q483394': 'genre',\n",
       " 'Q49447': 'world view',\n",
       " 'Q5': 'human',\n",
       " 'Q502895': 'common name',\n",
       " 'Q515': 'city',\n",
       " 'Q5165090': 'content rating',\n",
       " 'Q526877': 'web series',\n",
       " 'Q543654': 'city hall',\n",
       " 'Q559856': 'video hosting service',\n",
       " 'Q590870': 'cinematography',\n",
       " 'Q5961279': 'hypothetical planet',\n",
       " 'Q5962346': 'classification',\n",
       " 'Q6154363': 'Category:Games by genre',\n",
       " 'Q62049': 'county seat',\n",
       " 'Q6256': 'country',\n",
       " 'Q659563': 'video game genre',\n",
       " 'Q6688521': 'permanent member of the United Nations Security Council',\n",
       " 'Q8076': 'video game console',\n",
       " 'Q8473': 'military',\n",
       " 'Q9135': 'operating system',\n",
       " 'Q920890': 'mobile operating system',\n",
       " 'Q941818': 'handheld game console',\n",
       " 'Q95074': 'fictional character',\n",
       " 'Q963099': 'remix album'}"
      ]
     },
     "execution_count": 3,
     "metadata": {},
     "output_type": "execute_result"
    }
   ],
   "source": [
    "new_types_dict"
   ]
  },
  {
   "cell_type": "code",
   "execution_count": 4,
   "metadata": {
    "collapsed": false
   },
   "outputs": [],
   "source": [
    "# Manually selected\n",
    "new_relevant_types_dict = {\n",
    "    'Q103495': 'world war',\n",
    "    'Q1093829': 'city of the United States',\n",
    "    'Q112099': 'island nation',\n",
    "    'Q1194240': 'science fiction genre',\n",
    "    'Q12135': 'mental disorder',\n",
    "    'Q1254874': 'television network',\n",
    "    'Q13218382': 'charter city and county',\n",
    "    'Q13218391': 'charter city',\n",
    "    'Q1323642': 'transcontinental country',\n",
    "    'Q13406463': 'Wikimedia list article',\n",
    "    'Q141683': 'broadcast network',\n",
    "    'Q14204246': 'Wikimedia project page',\n",
    "    'Q14623646': 'fictional organization',\n",
    "    'Q1520223': 'constitutional republic',\n",
    "    'Q1549591': 'big city',\n",
    "    'Q15632617': 'fictional human',\n",
    "    'Q15707583': 'fictional taxon',\n",
    "    'Q15961987': 'television genre',\n",
    "    'Q160016': 'member state of the United Nations',\n",
    "    'Q1616075': 'television station',\n",
    "    'Q1620797': 'historic district in the United States',\n",
    "    'Q170434': 'DOS',\n",
    "    'Q171263': 'agglutinative language',\n",
    "    'Q17444909': 'astronomical object type',\n",
    "    'Q177600': 'stick figure',\n",
    "    'Q178885': 'deity',\n",
    "    'Q185441': 'member state of the European Union',\n",
    "    'Q193395': 'data storage device',\n",
    "    'Q201658': 'film genre',\n",
    "    'Q202686': 'Commonwealth realm',\n",
    "    'Q2031291': 'release',\n",
    "    'Q21191134': 'comic strip series',\n",
    "    'Q213369': 'webcomic',\n",
    "    'Q218616': 'proprietary software',\n",
    "    'Q223393': 'literary genre',\n",
    "    'Q2917506': 'series',\n",
    "    'Q33742': 'natural language',\n",
    "    'Q34770': 'language',\n",
    "    'Q3504248': 'inner planets',\n",
    "    'Q354004': 'audio storage device',\n",
    "    'Q35657': 'state of the United States',\n",
    "    'Q3624078': 'sovereign state',\n",
    "    'Q3863': 'asteroid',\n",
    "    'Q386724': 'work',\n",
    "    'Q41614': 'constitutional monarchy',\n",
    "    'Q4167836': 'Wikimedia category',\n",
    "    'Q45713': 'Titan',\n",
    "    'Q473708': 'home computer',\n",
    "    'Q483394': 'genre',\n",
    "    'Q49447': 'world view',\n",
    "    'Q5': 'human',\n",
    "    'Q502895': 'common name',\n",
    "    'Q515': 'city',\n",
    "    'Q5165090': 'content rating',\n",
    "    'Q526877': 'web series',\n",
    "    'Q543654': 'city hall',\n",
    "    'Q559856': 'video hosting service',\n",
    "    'Q590870': 'cinematography',\n",
    "    'Q5961279': 'hypothetical planet',\n",
    "    'Q5962346': 'classification',\n",
    "    'Q6154363': 'Category:Games by genre',\n",
    "    'Q62049': 'county seat',\n",
    "    'Q6256': 'country',\n",
    "    'Q659563': 'video game genre',\n",
    "    'Q6688521': 'permanent member of the United Nations Security Council',\n",
    "    'Q8076': 'video game console',\n",
    "    'Q8473': 'military',\n",
    "    'Q9135': 'operating system',\n",
    "    'Q920890': 'mobile operating system',\n",
    "    'Q941818': 'handheld game console',\n",
    "    'Q95074': 'fictional character',\n",
    "    'Q963099': 'remix album',\n",
    "}"
   ]
  },
  {
   "cell_type": "code",
   "execution_count": 5,
   "metadata": {
    "collapsed": true
   },
   "outputs": [],
   "source": [
    "with open('pickle/star-trek_only_relevant_types_original_dict.pickle', 'wb') as f:\n",
    "    pickle.dump(only_relevant_types_dict, f)"
   ]
  },
  {
   "cell_type": "code",
   "execution_count": 6,
   "metadata": {
    "collapsed": true
   },
   "outputs": [],
   "source": [
    "only_relevant_types_dict.update(new_relevant_types_dict)"
   ]
  },
  {
   "cell_type": "code",
   "execution_count": 7,
   "metadata": {
    "collapsed": true
   },
   "outputs": [],
   "source": [
    "with open('pickle/star-trek_only_relevant_types_dict.pickle', 'wb') as f:\n",
    "    pickle.dump(only_relevant_types_dict, f)"
   ]
  },
  {
   "cell_type": "code",
   "execution_count": null,
   "metadata": {
    "collapsed": true
   },
   "outputs": [],
   "source": [
    "def handle_new_value(id1, id2):\n",
    "    base_url = 'https://www.wikidata.org/w/api.php'\n",
    "    payload = {'action': 'wbgetentities', 'ids': id1, 'languages': 'en', 'format': 'json'}\n",
    "    r = requests.get(base_url, params=payload)\n",
    "    response = r.json()\n",
    "    d = response['entities'][ide]\n",
    "    ide = d['id']\n",
    "    typ = get_relevant_type(ide)\n",
    "    if typ:\n",
    "        if 'en' in d['labels']:\n",
    "            name = d['labels']['en']['value']\n",
    "        else:\n",
    "            name = ''\n",
    "        if 'enwiki' in d['sitelinks']:\n",
    "            wikilink = d['sitelinks']['enwiki']['title']\n",
    "        else:\n",
    "            wikilink = ''\n",
    "        if 'en' in d['descriptions']:\n",
    "            description = d['descriptions']['en']['value']\n",
    "        else:\n",
    "            description = ''\n",
    "        info = {\n",
    "            'id': ide,\n",
    "            'type': typ,\n",
    "            'name': name,\n",
    "            'wikilink': wikilink,\n",
    "            'description': description,\n",
    "            'relationships': {},\n",
    "            'attributes': {},\n",
    "        }\n",
    "        print('BEFORE:', len(relevant_instances_dict))\n",
    "        relevant_instances_dict[ide] = info\n",
    "        print('ADDED:', ide)\n",
    "        print('AFTER:', len(relevant_instances_dict))\n",
    "                                    if value not in new_instances:\n",
    "                                        new_instances.add(value)"
   ]
  },
  {
   "cell_type": "code",
   "execution_count": null,
   "metadata": {
    "collapsed": true
   },
   "outputs": [],
   "source": [
    "# ide = 'Q3436313'\n",
    "# base_url = 'https://www.wikidata.org/w/api.php'\n",
    "# payload = {'action': 'wbgetentities', 'ids': ide, 'languages': 'en', 'format': 'json'}\n",
    "# r = requests.get(base_url, params=payload)\n",
    "# print(r.url)\n",
    "# response = r.json()\n",
    "# response['entities'][ide]"
   ]
  },
  {
   "cell_type": "code",
   "execution_count": null,
   "metadata": {
    "collapsed": true
   },
   "outputs": [],
   "source": [
    "# def create_new_instance(ide):\n",
    "#     created = False\n",
    "#     base_url = 'https://www.wikidata.org/w/api.php'\n",
    "#     payload = {'action': 'wbgetentities', 'ids': ide, 'languages': 'en', 'format': 'json'}\n",
    "#     r = requests.get(base_url, params=payload)\n",
    "#     response = r.json()\n",
    "#     d = response['entities'][ide]\n",
    "#     # ide = d['id']\n",
    "#     if 'en' in d['labels']:\n",
    "#         name = d['labels']['en']['value']\n",
    "#     else:\n",
    "#         name = ''\n",
    "#     typ = get_relevant_type(ide)\n",
    "#     if typ:\n",
    "#         if 'enwiki' in d['sitelinks']:\n",
    "#             wikilink = d['sitelinks']['enwiki']['title']\n",
    "#         else:\n",
    "#             wikilink = ''\n",
    "#         if 'en' in d['descriptions']:\n",
    "#             description = d['descriptions']['en']['value']\n",
    "#         else:\n",
    "#             description = ''\n",
    "#         info = {\n",
    "#             'id': ide,\n",
    "#             'type': typ,\n",
    "#             'name': name,\n",
    "#             'wikilink': wikilink,\n",
    "#             'description': description,\n",
    "#             'relationships': {},\n",
    "#             'attributes': {},\n",
    "#         }\n",
    "#         relevant_instances_dict[ide] = info\n",
    "#         created = True\n",
    "#     return (created, name)"
   ]
  }
 ],
 "metadata": {
  "kernelspec": {
   "display_name": "Python 3",
   "language": "python",
   "name": "python3"
  },
  "language_info": {
   "codemirror_mode": {
    "name": "ipython",
    "version": 3
   },
   "file_extension": ".py",
   "mimetype": "text/x-python",
   "name": "python",
   "nbconvert_exporter": "python",
   "pygments_lexer": "ipython3",
   "version": "3.4.3"
  }
 },
 "nbformat": 4,
 "nbformat_minor": 0
}
