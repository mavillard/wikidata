{
 "cells": [
  {
   "cell_type": "code",
   "execution_count": 1,
   "metadata": {
    "collapsed": false
   },
   "outputs": [],
   "source": [
    "import json\n",
    "import pickle\n",
    "\n",
    "import networkx as nx\n",
    "import requests"
   ]
  },
  {
   "cell_type": "code",
   "execution_count": 2,
   "metadata": {
    "collapsed": false
   },
   "outputs": [
    {
     "data": {
      "text/plain": [
       "'{\"a\": 1}'"
      ]
     },
     "execution_count": 2,
     "metadata": {},
     "output_type": "execute_result"
    }
   ],
   "source": [
    "json.dumps({'a':1})"
   ]
  },
  {
   "cell_type": "code",
   "execution_count": 3,
   "metadata": {
    "collapsed": false
   },
   "outputs": [
    {
     "data": {
      "text/plain": [
       "'[\"a\", {\"b\": 2}]'"
      ]
     },
     "execution_count": 3,
     "metadata": {},
     "output_type": "execute_result"
    }
   ],
   "source": [
    "json.dumps(('a', {'b':2}))"
   ]
  },
  {
   "cell_type": "code",
   "execution_count": 4,
   "metadata": {
    "collapsed": false
   },
   "outputs": [
    {
     "data": {
      "text/plain": [
       "'{\"qualifiers\": {\"q2\": 2, \"q1\": 1}, \"value\": 0}'"
      ]
     },
     "execution_count": 4,
     "metadata": {},
     "output_type": "execute_result"
    }
   ],
   "source": [
    "json.dumps({\"value\": 0, \"qualifiers\": {\"q1\": 1, \"q2\": 2}})"
   ]
  },
  {
   "cell_type": "code",
   "execution_count": 23,
   "metadata": {
    "collapsed": false
   },
   "outputs": [],
   "source": [
    "with open('pickle/star-trek_only_relevant_properties_dict.pickle', 'rb') as f:\n",
    "    only_relevant_properties_dict = pickle.load(f)\n",
    "\n",
    "with open('pickle/star-trek_wikidata_types_to_sylva_classes.pickle', 'rb') as f:\n",
    "    wikidata_types_to_sylva_classes = pickle.load(f)\n",
    "\n",
    "with open('pickle/star-trek_only_relevant_instances_dict.pickle', 'rb') as f:\n",
    "    only_relevant_instances_dict = pickle.load(f)\n",
    "\n",
    "with open('pickle/star-trek_hierarchy_graph.pickle', 'rb') as f:\n",
    "    hierarchy = pickle.load(f)"
   ]
  },
  {
   "cell_type": "code",
   "execution_count": 6,
   "metadata": {
    "collapsed": true
   },
   "outputs": [],
   "source": [
    "graph = nx.DiGraph() # network"
   ]
  },
  {
   "cell_type": "code",
   "execution_count": 7,
   "metadata": {
    "collapsed": false
   },
   "outputs": [],
   "source": [
    "# for ide in only_relevant_instances_dict:\n",
    "#     assert(only_relevant_instances_dict[ide]['type'] in only_relevant_types_dict)\n",
    "#     for prop in only_relevant_instances_dict[ide]['properties']:\n",
    "#         assert(prop in only_relevant_properties_dict)"
   ]
  },
  {
   "cell_type": "code",
   "execution_count": 26,
   "metadata": {
    "collapsed": true
   },
   "outputs": [],
   "source": [
    "g = nx.DiGraph()\n",
    "g.add_node(1, {'a': 2})\n",
    "g.add_edge(1,2)"
   ]
  },
  {
   "cell_type": "code",
   "execution_count": 27,
   "metadata": {
    "collapsed": true
   },
   "outputs": [],
   "source": [
    "g.add_node(1, {'b': 3})"
   ]
  },
  {
   "cell_type": "code",
   "execution_count": 24,
   "metadata": {
    "collapsed": true
   },
   "outputs": [],
   "source": [
    "g.add_edge(3,4, x=1)\n",
    "g.add_edge(3,4, y=2)"
   ]
  },
  {
   "cell_type": "code",
   "execution_count": 28,
   "metadata": {
    "collapsed": false
   },
   "outputs": [
    {
     "data": {
      "text/plain": [
       "[(1, {'a': 2, 'b': 3}), (2, {})]"
      ]
     },
     "execution_count": 28,
     "metadata": {},
     "output_type": "execute_result"
    }
   ],
   "source": [
    "g.nodes(data=True)"
   ]
  },
  {
   "cell_type": "code",
   "execution_count": 10,
   "metadata": {
    "collapsed": true
   },
   "outputs": [],
   "source": [
    "g.add_node(2,{'d':1})"
   ]
  },
  {
   "cell_type": "code",
   "execution_count": 11,
   "metadata": {
    "collapsed": false
   },
   "outputs": [
    {
     "data": {
      "text/plain": [
       "[(1, {'a': 2}), (2, {'d': 1})]"
      ]
     },
     "execution_count": 11,
     "metadata": {},
     "output_type": "execute_result"
    }
   ],
   "source": [
    "g.nodes(data=True)"
   ]
  },
  {
   "cell_type": "code",
   "execution_count": 25,
   "metadata": {
    "collapsed": false
   },
   "outputs": [
    {
     "data": {
      "text/plain": [
       "[(1, 2, {}), (3, 4, {'x': 1, 'y': 2})]"
      ]
     },
     "execution_count": 25,
     "metadata": {},
     "output_type": "execute_result"
    }
   ],
   "source": [
    "g.edges(data=True)"
   ]
  },
  {
   "cell_type": "code",
   "execution_count": 13,
   "metadata": {
    "collapsed": true
   },
   "outputs": [],
   "source": [
    "g.node[1].update({'b':3})"
   ]
  },
  {
   "cell_type": "code",
   "execution_count": 22,
   "metadata": {
    "collapsed": true
   },
   "outputs": [],
   "source": [
    "def get_direct_superclasses(c):\n",
    "    all_neighbors = hierarchy.neighbors(c)\n",
    "    direct_superclasses = list(filter(lambda x: hierarchy[c][x]['type'] == 'is_subclass_of', all_neighbors))\n",
    "    return direct_superclasses\n",
    "\n",
    "def get_superclasses(c):\n",
    "    direct_superclasses = get_direct_superclasses(c)\n",
    "    if not direct_superclasses:\n",
    "        superclasses = [[c]]\n",
    "    else:\n",
    "        superclasses = [[c] + spclsss for c2 in direct_superclasses for spclsss in get_superclasses(c2)]\n",
    "    return superclasses\n",
    "\n",
    "def is_subclass_of(c1, c2):\n",
    "    return any(map(lambda x: c2 in x, get_superclasses(c1)))\n",
    "\n",
    "def get_closest_class(c, cs):\n",
    "    cs = list(cs.keys())\n",
    "    lengths = []\n",
    "    for c2 in cs:\n",
    "        try:\n",
    "            # WARNING: if there is more than one shortest path, then it returns only one of them\n",
    "            length = nx.shortest_path_length(hierarchy, c, c2)\n",
    "        except nx.exception.NetworkXNoPath as e:\n",
    "            length = 999\n",
    "        lengths.append(length)\n",
    "    min_length = min(lengths)\n",
    "    closest = cs[lengths.index(min_length)]\n",
    "    count_min = lengths.count(min_length)\n",
    "    return closest\n",
    "\n",
    "def get_closest_relevant_class(c):\n",
    "    return get_closest_class(c, only_relevant_types_dict)\n",
    "\n",
    "def is_subclass_of_any_relevant_class(c):\n",
    "    return any(map(lambda x: is_subclass_of(c, x), only_relevant_types_dict))\n",
    "\n",
    "def get_relevant_type(ide):\n",
    "    relevant_type = None\n",
    "    if ide in all_instances_and_types_dict:\n",
    "        types = all_instances_and_types_dict[ide]\n",
    "        if len(types) == 1:\n",
    "            t = types.pop(); types.add(t)\n",
    "            if is_subclass_of_any_relevant_class(t):\n",
    "                relevant_type = get_closest_relevant_class(t)\n",
    "        else:\n",
    "            relevant_candidates = set()\n",
    "            for t in types:\n",
    "                if is_subclass_of_any_relevant_class(t):\n",
    "                    relevant_type = get_closest_relevant_class(t)\n",
    "                    relevant_candidates.add(relevant_type)\n",
    "            if relevant_candidates:\n",
    "                # WARNING: if there is more than one relevant_candidates, then it returns only one of them\n",
    "                relevant_type = relevant_candidates.pop(); relevant_candidates.add(relevant_type)\n",
    "    return relevant_type"
   ]
  },
  {
   "cell_type": "code",
   "execution_count": 14,
   "metadata": {
    "collapsed": true
   },
   "outputs": [],
   "source": [
    "# Properties and qualifiers\n",
    "#\n",
    "# If no qualifiers\n",
    "#\n",
    "# Case 1) value: string\n",
    "# Actions:\n",
    "# Property type: attribute\n",
    "# Property name: property name\n",
    "# Property value: value\n",
    "# Property attributes: none\n",
    "# More than one value: list serialized: '[\"v1\", \"v2\", \"v3\"]'\n",
    "#\n",
    "# Case 2) value: object\n",
    "# Actions:\n",
    "# Property type: relationship\n",
    "# Property name: property name\n",
    "# Property value: value\n",
    "# Property attributes: none\n",
    "# More than one value: for each value, a relationship between the node and the value\n",
    "#\n",
    "# If qualifiers\n",
    "#\n",
    "# Case a) qualifier: string, value: string\n",
    "# Actions:\n",
    "# Property type: attribute\n",
    "# Property name: property name\n",
    "# Property value: '{\"value\": v, \"qualifiers\": {\"q1\": v1, \"q2\": v2}}'\n",
    "# Property attributes: none\n",
    "# More than one value: list of dictionaries serialized\n",
    "#\n",
    "# Case b) qualifier: object, value: string\n",
    "# Actions:\n",
    "# Property type: relationship\n",
    "# Property name: qualifier name\n",
    "# Property value: qualifier value\n",
    "# Property attributes: {property name: value}\n",
    "# More than one value: for each qualifier, a relationship between the node and the qualifier value\n",
    "#\n",
    "# Case c) qualifier: string, value: object\n",
    "# Actions:\n",
    "# Property type: relationship\n",
    "# Property name: property name\n",
    "# Property value: value\n",
    "# Property attributes: {q1: v1, q2: v2}\n",
    "# More than one value: for each value, a relationship between the node and the value\n",
    "#\n",
    "# Case d) qualifier: object, value: object\n",
    "# Actions:\n",
    "# Property type: relationship\n",
    "# Property name: property name\n",
    "# Property value: value\n",
    "# Property attributes: none\n",
    "# More than one value: for each value, a relationship between the node and the value\n",
    "# For each qualifier:\n",
    "# Property type: relationship\n",
    "# Property name: qualifier name\n",
    "# Property value: qualifier value\n",
    "# Property attributes: none\n",
    "# More than one qualifier value: for each value, a relationship between the node and the qualifier value"
   ]
  },
  {
   "cell_type": "code",
   "execution_count": 18,
   "metadata": {
    "collapsed": true
   },
   "outputs": [],
   "source": [
    "def get_info(ide):\n",
    "    base_url = 'https://www.wikidata.org/w/api.php'\n",
    "    payload = {'action': 'wbgetentities', 'ids': ide, 'languages': 'en', 'format': 'json'}\n",
    "    r = requests.get(base_url, params=payload)\n",
    "    response = r.json()\n",
    "    d = response['entities'][ide]\n",
    "    if 'en' in d['labels']:\n",
    "        name = d['labels']['en']['value']\n",
    "    else:\n",
    "        name = ''\n",
    "    if 'enwiki' in d['sitelinks']:\n",
    "        wikilink = d['sitelinks']['enwiki']['title']\n",
    "    else:\n",
    "        wikilink = ''\n",
    "    if 'en' in d['descriptions']:\n",
    "        description = d['descriptions']['en']['value']\n",
    "    else:\n",
    "        description = ''\n",
    "    info = {\n",
    "        'id': ide,\n",
    "        'type': typ,\n",
    "        'name': name,\n",
    "        'wikilink': wikilink,\n",
    "        'description': description,\n",
    "        'properties': {},\n",
    "    }\n",
    "    \n",
    "    \n",
    "    \n",
    "        'id': info['id'],\n",
    "        'type': wikidata_types_to_sylva_classes[info['type']],\n",
    "            \n",
    "            \n",
    "            \n",
    "    if 'en' in d['labels']:\n",
    "        name = d['labels']['en']['value']\n",
    "    else:\n",
    "        name = ide\n",
    "    if 'en' in d['descriptions']:\n",
    "        description = d['descriptions']['en']['value']\n",
    "    else:\n",
    "        description = \n",
    "    if 'en' in d['labels']:\n",
    "        val = d['labels']['en']\n",
    "        d['labels'].clear()\n",
    "        d['labels']['en'] = val\n",
    "    else:\n",
    "        d['labels'].clear()\n",
    "    if 'en' in d['aliases']:\n",
    "        val = d['aliases']['en']\n",
    "        d['aliases'].clear()\n",
    "        d['aliases']['en'] = val\n",
    "    else:\n",
    "        d['aliases'].clear()\n",
    "    if 'enwiki' in d['sitelinks']:\n",
    "        val = d['sitelinks']['enwiki']\n",
    "        d['sitelinks'].clear()\n",
    "        d['sitelinks']['enwiki'] = val\n",
    "    else:\n",
    "        d['sitelinks'].clear()\n",
    "    return name"
   ]
  },
  {
   "cell_type": "code",
   "execution_count": 17,
   "metadata": {
    "collapsed": false
   },
   "outputs": [
    {
     "data": {
      "text/plain": [
       "{'Q25366': {'description': 'Star Trek: The Original Series episode',\n",
       "  'id': 'Q25366',\n",
       "  'name': 'Where No Man Has Gone Before',\n",
       "  'properties': {'P155': [{'qualifiers': {},\n",
       "     'type': 'object',\n",
       "     'value': 'Q20909'},\n",
       "    {'qualifiers': {}, 'type': 'object', 'value': 'Q2659593'}],\n",
       "   'P156': [{'qualifiers': {}, 'type': 'object', 'value': 'Q1187077'},\n",
       "    {'qualifiers': {}, 'type': 'object', 'value': 'Q2984478'}],\n",
       "   'P179': [{'qualifiers': {}, 'type': 'object', 'value': 'Q1077'}],\n",
       "   'P345': [{'qualifiers': {}, 'type': 'string', 'value': 'tt0061027'}],\n",
       "   'P361': [{'qualifiers': {}, 'type': 'object', 'value': 'Q747598'}],\n",
       "   'P364': [{'qualifiers': {}, 'type': 'object', 'value': 'Q1860'}],\n",
       "   'P495': [{'qualifiers': {}, 'type': 'object', 'value': 'Q30'}],\n",
       "   'P577': [{'qualifiers': {'P17': [{'type': 'object', 'value': 'Q30'}]},\n",
       "     'type': 'date',\n",
       "     'value': '1966-09-22'},\n",
       "    {'qualifiers': {'P17': [{'type': 'object', 'value': 'Q183'}]},\n",
       "     'type': 'date',\n",
       "     'value': '1973-10-06'},\n",
       "    {'qualifiers': {'P17': [{'type': 'object', 'value': 'Q142'}]},\n",
       "     'type': 'date',\n",
       "     'value': '1986-05-07'}],\n",
       "   'P646': [{'qualifiers': {}, 'type': 'string', 'value': '/m/023x20'}]},\n",
       "  'type': 'Q1983062',\n",
       "  'wikilink': 'Where No Man Has Gone Before'}}"
      ]
     },
     "execution_count": 17,
     "metadata": {},
     "output_type": "execute_result"
    }
   ],
   "source": [
    "{'Q25366': {'description': 'Star Trek: The Original Series episode',\n",
    "  'id': 'Q25366',\n",
    "  'name': 'Where No Man Has Gone Before',\n",
    "  'properties': {'P155': [{'qualifiers': {},\n",
    "     'type': 'object',\n",
    "     'value': 'Q20909'},\n",
    "    {'qualifiers': {}, 'type': 'object', 'value': 'Q2659593'}],\n",
    "   'P156': [{'qualifiers': {}, 'type': 'object', 'value': 'Q1187077'},\n",
    "    {'qualifiers': {}, 'type': 'object', 'value': 'Q2984478'}],\n",
    "   'P179': [{'qualifiers': {}, 'type': 'object', 'value': 'Q1077'}],\n",
    "   'P345': [{'qualifiers': {}, 'type': 'string', 'value': 'tt0061027'}],\n",
    "   'P361': [{'qualifiers': {}, 'type': 'object', 'value': 'Q747598'}],\n",
    "   'P364': [{'qualifiers': {}, 'type': 'object', 'value': 'Q1860'}],\n",
    "   'P495': [{'qualifiers': {}, 'type': 'object', 'value': 'Q30'}],\n",
    "   'P577': [{'qualifiers': {'P17': [{'type': 'object', 'value': 'Q30'}]},\n",
    "     'type': 'date',\n",
    "     'value': '1966-09-22'},\n",
    "    {'qualifiers': {'P17': [{'type': 'object', 'value': 'Q183'}]},\n",
    "     'type': 'date',\n",
    "     'value': '1973-10-06'},\n",
    "    {'qualifiers': {'P17': [{'type': 'object', 'value': 'Q142'}]},\n",
    "     'type': 'date',\n",
    "     'value': '1986-05-07'}],\n",
    "   'P646': [{'qualifiers': {}, 'type': 'string', 'value': '/m/023x20'}]},\n",
    "  'type': 'Q1983062',\n",
    "  'wikilink': 'Where No Man Has Gone Before'}}"
   ]
  },
  {
   "cell_type": "code",
   "execution_count": null,
   "metadata": {
    "collapsed": true
   },
   "outputs": [],
   "source": [
    "%%time\n",
    "\n",
    "for ide in only_relevant_instances_dict:\n",
    "    info = only_relevant_instances_dict[ide]\n",
    "    base = {\n",
    "        'id': info['id'],\n",
    "        'type': wikidata_types_to_sylva_classes[info['type']],\n",
    "        'name': info['name'],\n",
    "        'wikilink': info['wikilink'],\n",
    "        'description': info['description'],\n",
    "    }\n",
    "    attributes = {}\n",
    "    for prop in info['properties']:\n",
    "        prop_name = get_name(prop)\n",
    "        prop_type_count = {'rel': 0, 'att': 0}\n",
    "        prop_attr_values = []\n",
    "        for prop_inst in info['properties'][prop]: # possible cases: 1, 2, a, b, c, d\n",
    "            prop_value = prop_inst['value']\n",
    "            prop_type = prop_inst['type']\n",
    "            if prop_type == 'string': # possible cases: 1, a, b\n",
    "                prop_qualifiers = prop_inst['qualifiers']\n",
    "                if not prop_qualifiers: # case 1\n",
    "                    prop_attr_values.append(prop_value)\n",
    "                else: # possible cases: a, b\n",
    "                    value_dict = {'value': prop_value, 'qualifiers': {}}\n",
    "                    for q in prop_qualifiers:\n",
    "                        q_name = get_name(q)\n",
    "                        q_value = prop_qualifiers[q]['value']\n",
    "                        q_type = prop_qualifiers[q]['type']\n",
    "                        if q_type == 'string': # case a\n",
    "                            value_dict['qualifiers'][q_name] = q_value\n",
    "                        else: q_type == 'object': # possible cases: a, b\n",
    "                            if q_value in only_relevant_instances_dict: # case b\n",
    "                                graph.add_edge(ide, q_value, {prop_name: prop_value})\n",
    "                            else: # possible cases: a, b\n",
    "                                typ = get_relevant_type(q_value)\n",
    "                                \n",
    "                                \n",
    "                    prop_attr_values.append(value_dict)\n",
    "            \n",
    "            if not prop_inst['qualifiers']:\n",
    "                prop_value = \n",
    "        if attr_values:\n",
    "            if len(attr_values == 1):\n",
    "                attr_value = attr_values[0]\n",
    "            else:\n",
    "                attr_value = json.dumps(attr_values)\n",
    "            attributes[prop.name] = attr_value\n",
    "\n",
    "\n",
    "with open('wikidata-20150907-star_trek-relevant-rels-and-types.json') as f:\n",
    "    for line in f:\n",
    "        try:\n",
    "            total += 1\n",
    "            cleaned = line.strip()[:-1]\n",
    "            d = json.loads(cleaned)\n",
    "            id1 = d['id']\n",
    "            for rel in d['claims']:\n",
    "                for rel_inst in d['claims'][rel]:\n",
    "                    type_rel = rel_inst['mainsnak']['datavalue']['type']\n",
    "                    id2 = None\n",
    "                    if type_rel == 'wikibase-entityid':\n",
    "                        value = rel_inst['mainsnak']['datavalue']['value']['numeric-id']\n",
    "                        id2 = 'Q' + str(value)\n",
    "                    graph[rel].append((id1, id2))\n",
    "                    count += 1\n",
    "        except Exception as e:\n",
    "            error += 1\n",
    "print('Total:', total)\n",
    "print('Count:', count)\n",
    "print('Error:', error)"
   ]
  }
 ],
 "metadata": {
  "kernelspec": {
   "display_name": "Python 3",
   "language": "python",
   "name": "python3"
  },
  "language_info": {
   "codemirror_mode": {
    "name": "ipython",
    "version": 3
   },
   "file_extension": ".py",
   "mimetype": "text/x-python",
   "name": "python",
   "nbconvert_exporter": "python",
   "pygments_lexer": "ipython3",
   "version": "3.4.3"
  }
 },
 "nbformat": 4,
 "nbformat_minor": 0
}
