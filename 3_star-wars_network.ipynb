{
 "cells": [
  {
   "cell_type": "code",
   "execution_count": 1,
   "metadata": {
    "collapsed": false
   },
   "outputs": [],
   "source": [
    "import json\n",
    "import pickle\n",
    "\n",
    "import networkx as nx"
   ]
  },
  {
   "cell_type": "code",
   "execution_count": 2,
   "metadata": {
    "collapsed": false
   },
   "outputs": [],
   "source": [
    "with open('pickle/star-trek_relevant_properties_dict.pickle', 'rb') as f:\n",
    "    relevant_properties_dict = pickle.load(f)\n",
    "\n",
    "with open('pickle/star-trek_relevant_types_dict.pickle', 'rb') as f:\n",
    "    relevant_types_dict = pickle.load(f)\n",
    "\n",
    "with open('pickle/star-trek_relevant_instances_dict.pickle', 'rb') as f:\n",
    "    relevant_instances_dict = pickle.load(f)\n",
    "\n",
    "with open('pickle/star-trek_all_instances_dict.pickle', 'rb') as f:\n",
    "    all_instances_dict = pickle.load(f)"
   ]
  },
  {
   "cell_type": "code",
   "execution_count": 3,
   "metadata": {
    "collapsed": true
   },
   "outputs": [],
   "source": [
    "# Properties and qualifiers\n",
    "#\n",
    "# If no qualifiers\n",
    "#\n",
    "# Case 1) value: string\n",
    "# Actions:\n",
    "# Property type: attribute\n",
    "# Property name: property name\n",
    "# Property value: value\n",
    "# Property attributes: none\n",
    "# More than one value: list serialized: '[\"v1\", \"v2\", \"v3\"]'\n",
    "#\n",
    "# Case 2) value: object\n",
    "# Actions:\n",
    "# Property type: relationship\n",
    "# Property name: property name\n",
    "# Property value: value\n",
    "# Property attributes: none\n",
    "# More than one value: for each value, a relationship between the node and the value\n",
    "#\n",
    "# If qualifiers\n",
    "#\n",
    "# Case a) value: string, qualifier: string\n",
    "# Actions:\n",
    "# Property type: attribute\n",
    "# Property name: property name\n",
    "# Property value: '{\"value\": v, \"qualifiers\": {\"q1\": v1, \"q2\": v2}}'\n",
    "# Property attributes: none\n",
    "# More than one value: list of dictionaries serialized\n",
    "#\n",
    "# Case b) value: string, qualifier: object\n",
    "# Actions:\n",
    "# Property type: relationship\n",
    "# Property name: qualifier name\n",
    "# Property value: qualifier value\n",
    "# Property attributes: {property name: value}\n",
    "# More than one value: for each qualifier, a relationship between the node and the qualifier value\n",
    "#\n",
    "# Case c) value: object, qualifier: string\n",
    "# Actions:\n",
    "# Property type: relationship\n",
    "# Property name: property name\n",
    "# Property value: value\n",
    "# Property attributes: {q1: v1, q2: v2}\n",
    "# More than one value: for each value, a relationship between the node and the value\n",
    "#\n",
    "# Case d) value: object, qualifier: object\n",
    "# Actions:\n",
    "# Property type: relationship\n",
    "# Property name: property name\n",
    "# Property value: value\n",
    "# Property attributes: none\n",
    "# More than one value: for each value, a relationship between the node and the value\n",
    "# For each qualifier:\n",
    "# Property type: relationship\n",
    "# Property name: qualifier name\n",
    "# Property value: qualifier value\n",
    "# Property attributes: none\n",
    "# More than one qualifier value: for each value, a relationship between the node and the qualifier value"
   ]
  },
  {
   "cell_type": "code",
   "execution_count": 4,
   "metadata": {
    "collapsed": true
   },
   "outputs": [],
   "source": [
    "network = nx.DiGraph() # network of instances"
   ]
  },
  {
   "cell_type": "code",
   "execution_count": 5,
   "metadata": {
    "collapsed": true
   },
   "outputs": [],
   "source": [
    "def new_node_info(ide):\n",
    "    info = {\n",
    "        'id': (ide, None),\n",
    "        'type': ('no type', None),\n",
    "        'name': (all_instances_dict[ide]['name'], 'string'),\n",
    "        'wikilink': (all_instances_dict[ide]['wikilink'], 'string'),\n",
    "        'description': (all_instances_dict[ide]['description'], 'string'),\n",
    "    }\n",
    "    return info"
   ]
  },
  {
   "cell_type": "code",
   "execution_count": 6,
   "metadata": {
    "collapsed": false
   },
   "outputs": [
    {
     "name": "stdout",
     "output_type": "stream",
     "text": [
      "CPU times: user 79.3 ms, sys: 0 ns, total: 79.3 ms\n",
      "Wall time: 79.4 ms\n"
     ]
    }
   ],
   "source": [
    "%%time\n",
    "\n",
    "network = nx.DiGraph() # network of instances\n",
    "for ide in relevant_instances_dict:\n",
    "    instance = relevant_instances_dict[ide]\n",
    "    base = {\n",
    "        'id': (ide, None),\n",
    "        'type': (relevant_types_dict[instance['type']]['name'], None),\n",
    "        'name': (instance['name'], 'string'),\n",
    "        'wikilink': (instance['wikilink'], 'string'),\n",
    "        'description': (instance['description'], 'string'),\n",
    "    }\n",
    "    attributes = {}\n",
    "    for prop in instance['properties']:\n",
    "        p_name = relevant_properties_dict[prop]['name']\n",
    "        if p_name.startswith('language'):\n",
    "            print(ide)\n",
    "        p_attr_values = []\n",
    "        for prop_inst in instance['properties'][prop]: # possible cases: 1, 2, a, b, c, d\n",
    "            p_value = prop_inst['value']\n",
    "            p_type = prop_inst['type']\n",
    "            if p_type == 'object': # possible cases: 2, c, d\n",
    "                if p_value not in relevant_instances_dict:\n",
    "                    new_info = new_node_info(p_value)\n",
    "                    network.add_node(p_value, new_info)\n",
    "                network.add_edge(ide, p_value, {'label': (p_name, None)}) # case 2\n",
    "                qualifiers = prop_inst['qualifiers']\n",
    "                if qualifiers: # possible cases: c, d\n",
    "                    for q in qualifiers:\n",
    "                        q_name = relevant_properties_dict[q]['name']\n",
    "                        for q_inst in qualifiers[q]:\n",
    "                            q_value = q_inst['value']\n",
    "                            q_type = q_inst['type']\n",
    "                            if q_type == 'object':\n",
    "                                if q_value not in relevant_instances_dict:\n",
    "                                    new_info = new_node_info(q_value)\n",
    "                                    network.add_node(q_value, new_info)\n",
    "                                network.add_edge(ide, q_value, {'label': (q_name, None)}) # case d\n",
    "                            else:\n",
    "                                # Update existing edge\n",
    "                                network.add_edge(ide, p_value, {'label': (p_name, None), q_name: (q_value, q_type)}) # case c\n",
    "            else: # possible cases: 1, a, b\n",
    "                qualifiers = prop_inst['qualifiers']\n",
    "                if not qualifiers:\n",
    "                    p_attr_values.append((p_value, p_type)) # case 1\n",
    "                else: # possible cases: 1, a, b\n",
    "                    q_dict = {}\n",
    "                    for q in qualifiers:\n",
    "                        q_name = relevant_properties_dict[q]['name']\n",
    "                        q_dict[q_name] = []\n",
    "                        for q_inst in qualifiers[q]:\n",
    "                            q_value = q_inst['value']\n",
    "                            q_type = q_inst['type']\n",
    "                            if q_type == 'object':\n",
    "                                if q_value not in relevant_instances_dict:\n",
    "                                    new_info = new_node_info(q_value)\n",
    "                                    network.add_node(q_value, new_info)\n",
    "                                network.add_edge(ide, q_value, {'label': (q_name, None), p_name: (p_value, p_type)}) # case b\n",
    "                            else:\n",
    "                                q_dict[q_name].append((q_value, q_type))\n",
    "                    if not q_dict:\n",
    "                        p_attr_values.append((p_value, p_type)) # case 1\n",
    "                    else:\n",
    "                        p_attr_values.append(({'value': (p_value, p_type), 'qualifiers': q_dict}, 'string')) # case a\n",
    "        if p_attr_values:\n",
    "            if len(p_attr_values) == 1:\n",
    "                attr_value = p_attr_values[0]\n",
    "            else:\n",
    "                attr_value = (json.dumps(p_attr_values), 'string')\n",
    "            attributes[p_name] = attr_value\n",
    "    info = {}\n",
    "    info.update(base)\n",
    "    info.update(attributes)\n",
    "    network.add_node(ide, info)"
   ]
  },
  {
   "cell_type": "code",
   "execution_count": 7,
   "metadata": {
    "collapsed": false
   },
   "outputs": [
    {
     "data": {
      "text/plain": [
       "1009"
      ]
     },
     "execution_count": 7,
     "metadata": {},
     "output_type": "execute_result"
    }
   ],
   "source": [
    "len(relevant_instances_dict)"
   ]
  },
  {
   "cell_type": "code",
   "execution_count": 8,
   "metadata": {
    "collapsed": false
   },
   "outputs": [
    {
     "data": {
      "text/plain": [
       "1087"
      ]
     },
     "execution_count": 8,
     "metadata": {},
     "output_type": "execute_result"
    }
   ],
   "source": [
    "len(network)"
   ]
  },
  {
   "cell_type": "code",
   "execution_count": 9,
   "metadata": {
    "collapsed": false
   },
   "outputs": [
    {
     "data": {
      "text/plain": [
       "4720"
      ]
     },
     "execution_count": 9,
     "metadata": {},
     "output_type": "execute_result"
    }
   ],
   "source": [
    "len(network.edges(data=True))"
   ]
  },
  {
   "cell_type": "code",
   "execution_count": 10,
   "metadata": {
    "collapsed": false
   },
   "outputs": [
    {
     "data": {
      "text/plain": [
       "[('Q3506645',\n",
       "  {'description': ('episode of Star Trek: The Next Generation', 'string'),\n",
       "   'id': ('Q3506645', None),\n",
       "   'name': ('Peak Performance', 'string'),\n",
       "   'type': ('episode', None),\n",
       "   'wikilink': ('Peak Performance (Star Trek: The Next Generation)',\n",
       "    'string')}),\n",
       " ('Q7769334',\n",
       "  {'description': ('Star Trek: The Animated Series episode', 'string'),\n",
       "   'id': ('Q7769334', None),\n",
       "   'name': ('The Time Trap', 'string'),\n",
       "   'type': ('episode', None),\n",
       "   'wikilink': ('The Time Trap', 'string')})]"
      ]
     },
     "execution_count": 10,
     "metadata": {},
     "output_type": "execute_result"
    }
   ],
   "source": [
    "network.nodes(data=True)[:2]"
   ]
  },
  {
   "cell_type": "code",
   "execution_count": 11,
   "metadata": {
    "collapsed": false
   },
   "outputs": [
    {
     "data": {
      "text/plain": [
       "[('Q3506645', 'Q30', {'label': ('country of origin', None)}),\n",
       " ('Q3506645', 'Q604559', {'label': ('part of', None)})]"
      ]
     },
     "execution_count": 11,
     "metadata": {},
     "output_type": "execute_result"
    }
   ],
   "source": [
    "network.edges(data=True)[:2]"
   ]
  },
  {
   "cell_type": "code",
   "execution_count": 12,
   "metadata": {
    "collapsed": false
   },
   "outputs": [
    {
     "name": "stdout",
     "output_type": "stream",
     "text": [
      "('Q25366', 'Q183', {'publication date': ('1973-10-06', 'date'), 'label': ('country', None)})\n",
      "('Q25366', 'Q30', {'publication date': ('1966-09-22', 'date'), 'label': ('country', None)})\n",
      "('Q25366', 'Q142', {'publication date': ('1986-05-07', 'date'), 'label': ('country', None)})\n",
      "('Q7601031', 'Q48263', {'label': ('platform', None), 'Metacritic ID': ('xbox-360/star-trek-the-video-game', 'string')})\n",
      "('Q7601031', 'Q16338', {'label': ('platform', None), 'Metacritic ID': ('pc/star-trek-the-video-game', 'string')})\n",
      "('Q7601031', 'Q10683', {'label': ('platform', None), 'Metacritic ID': ('playstation-3/star-trek-the-video-game', 'string')})\n"
     ]
    }
   ],
   "source": [
    "for e in network.edges(data=True):\n",
    "    if len(e[2]) > 1:\n",
    "        print(e)"
   ]
  },
  {
   "cell_type": "code",
   "execution_count": 13,
   "metadata": {
    "collapsed": true
   },
   "outputs": [],
   "source": [
    "with open('pickle/star-trek_network_graph.pickle', 'wb') as f:\n",
    "    pickle.dump(network, f)"
   ]
  },
  {
   "cell_type": "code",
   "execution_count": null,
   "metadata": {
    "collapsed": true
   },
   "outputs": [],
   "source": []
  }
 ],
 "metadata": {
  "kernelspec": {
   "display_name": "Python 3",
   "language": "python",
   "name": "python3"
  },
  "language_info": {
   "codemirror_mode": {
    "name": "ipython",
    "version": 3
   },
   "file_extension": ".py",
   "mimetype": "text/x-python",
   "name": "python",
   "nbconvert_exporter": "python",
   "pygments_lexer": "ipython3",
   "version": "3.4.3"
  }
 },
 "nbformat": 4,
 "nbformat_minor": 0
}
