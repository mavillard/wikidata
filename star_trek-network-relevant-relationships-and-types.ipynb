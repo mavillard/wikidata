{
 "cells": [
  {
   "cell_type": "code",
   "execution_count": 21,
   "metadata": {
    "collapsed": false
   },
   "outputs": [],
   "source": [
    "import json\n",
    "from collections import defaultdict"
   ]
  },
  {
   "cell_type": "code",
   "execution_count": 22,
   "metadata": {
    "collapsed": false
   },
   "outputs": [],
   "source": [
    "all_related_types_dict = {\n",
    "    'Q1055307': 'fictional technology',\n",
    "    'Q1114502': 'American comic book',\n",
    "    'Q11266439': 'Wikimedia template',\n",
    "    'Q1137046': 'Star Trek: The Next Generation episode',\n",
    "    'Q11424': 'film',\n",
    "    'Q1226311': 'Emergency Medical Hologram',\n",
    "    'Q1257934': 'clip show',\n",
    "    'Q13406463': 'Wikimedia list article',\n",
    "    'Q134556': 'single',\n",
    "    'Q14623646': 'fictional organization',\n",
    "    'Q14637321': 'fictional spacecraft',\n",
    "    'Q15053464': 'fictional material',\n",
    "    'Q15238535': 'fictional government or government body',\n",
    "    'Q15416': 'television program',\n",
    "    'Q15632617': 'fictional human',\n",
    "    'Q15633582': 'MediaWiki site',\n",
    "    'Q15707583': 'fictional taxon',\n",
    "    'Q15773317': 'television character',\n",
    "    'Q15773347': 'film character',\n",
    "    'Q15831596': 'fictional class',\n",
    "    'Q1659605': 'asteroids in fiction',\n",
    "    'Q1700422': 'extraterrestrial from Star Trek',\n",
    "    'Q17633526': 'Wikinews article',\n",
    "    'Q18039177': 'fictional spacecraft class',\n",
    "    'Q18533645': 'spacecraft in Star Trek',\n",
    "    'Q18572946': 'fictional space station',\n",
    "    'Q186117': 'timeline',\n",
    "    'Q19595246': 'fictional empire',\n",
    "    'Q196600': 'media franchise',\n",
    "    'Q1983062': 'episode',\n",
    "    'Q19887878': 'Wikimedia template infobox',\n",
    "    'Q215380': 'band',\n",
    "    'Q24856': 'film series',\n",
    "    'Q24862': 'short film',\n",
    "    'Q2623733': 'fictional language',\n",
    "    'Q2775969': 'fictional planet',\n",
    "    'Q278379': 'a priori language',\n",
    "    'Q299191': 'chess variant',\n",
    "    'Q3252662': 'series finale',\n",
    "    'Q3297186': 'limited series',\n",
    "    'Q33215': 'constructed language',\n",
    "    'Q3464665': 'television season',\n",
    "    'Q35127': 'website',\n",
    "    'Q3863': 'asteroid',\n",
    "    'Q386724': 'work',\n",
    "    'Q41298': 'magazine',\n",
    "    'Q4167410': 'Wikimedia disambiguation page',\n",
    "    'Q4167836': 'Wikimedia category',\n",
    "    'Q4176708': 'soundtrack album',\n",
    "    'Q4234303': 'WikiProject',\n",
    "    'Q43229': 'organization',\n",
    "    'Q4663903': 'Wikimedia portal',\n",
    "    'Q482994': 'album',\n",
    "    'Q5': 'human',\n",
    "    'Q5398426': 'television series',\n",
    "    'Q559618': 'fictional universe',\n",
    "    'Q571': 'book',\n",
    "    'Q581714': 'animated series',\n",
    "    'Q618779': 'award',\n",
    "    'Q653928': 'pinball',\n",
    "    'Q6619679': 'fictional humanoid',\n",
    "    'Q6623809': 'fictional humanoid extraterrestrial',\n",
    "    'Q727596': 'Galactic quadrant',\n",
    "    'Q7889': 'video game',\n",
    "    'Q838795': 'comic strip',\n",
    "    'Q95074': 'fictional character',\n",
    "    'Q989888': 'Starship Enterprise'\n",
    "}"
   ]
  },
  {
   "cell_type": "code",
   "execution_count": 23,
   "metadata": {
    "collapsed": false
   },
   "outputs": [],
   "source": [
    "only_relevant_types_dict = {\n",
    "    'Q1114502': 'American comic book',\n",
    "    'Q1137046': 'Star Trek: The Next Generation episode',\n",
    "    'Q11424': 'film',\n",
    "    'Q1257934': 'clip show',\n",
    "    'Q134556': 'single',\n",
    "    'Q15416': 'television program',\n",
    "    'Q186117': 'timeline',\n",
    "    'Q196600': 'media franchise',\n",
    "    'Q1983062': 'episode',\n",
    "    'Q24856': 'film series',\n",
    "    'Q24862': 'short film',\n",
    "    'Q278379': 'a priori language',\n",
    "    'Q3252662': 'series finale',\n",
    "    'Q3297186': 'limited series',\n",
    "    'Q33215': 'constructed language',\n",
    "    'Q3464665': 'television season',\n",
    "    'Q35127': 'website',\n",
    "    'Q386724': 'work',\n",
    "    'Q41298': 'magazine',\n",
    "    'Q4176708': 'soundtrack album',\n",
    "    'Q4234303': 'WikiProject',\n",
    "    'Q482994': 'album',\n",
    "    'Q5398426': 'television series',\n",
    "    'Q559618': 'fictional universe',\n",
    "    'Q571': 'book',\n",
    "    'Q581714': 'animated series',\n",
    "    'Q7889': 'video game',\n",
    "    'Q838795': 'comic strip',\n",
    "}"
   ]
  },
  {
   "cell_type": "code",
   "execution_count": 24,
   "metadata": {
    "collapsed": false
   },
   "outputs": [
    {
     "name": "stdout",
     "output_type": "stream",
     "text": [
      "Total: 1429\n",
      "Count: 1427\n",
      "Error: 2\n"
     ]
    }
   ],
   "source": [
    "# Articles and types\n",
    "total = 0\n",
    "count = 0\n",
    "error = 0\n",
    "articles_and_types = defaultdict(list)\n",
    "with open('wikidata-20150907-star_trek-relevant-rels.json') as f:\n",
    "    for line in f:\n",
    "        try:\n",
    "            total += 1\n",
    "            cleaned = line.strip()[:-1]\n",
    "            d = json.loads(cleaned)\n",
    "            ide = d['id']\n",
    "            if 'P31' in d['claims']:\n",
    "                types = d['claims']['P31']\n",
    "                for t in types:\n",
    "                    type_id = 'Q' + str(t['mainsnak']['datavalue']['value']['numeric-id'])\n",
    "                    if type_id in only_relevant_types_dict:\n",
    "                        articles_and_types[ide].append(type_id)\n",
    "            count += 1\n",
    "        except Exception as e:\n",
    "            error += 1\n",
    "print('Total:', total)\n",
    "print('Count:', count)\n",
    "print('Error:', error)"
   ]
  },
  {
   "cell_type": "code",
   "execution_count": 25,
   "metadata": {
    "collapsed": false
   },
   "outputs": [
    {
     "data": {
      "text/plain": [
       "916"
      ]
     },
     "execution_count": 25,
     "metadata": {},
     "output_type": "execute_result"
    }
   ],
   "source": [
    "len(articles_and_types)"
   ]
  },
  {
   "cell_type": "code",
   "execution_count": 26,
   "metadata": {
    "collapsed": false
   },
   "outputs": [
    {
     "name": "stdout",
     "output_type": "stream",
     "text": [
      "Total: 1429\n",
      "Count: 916\n",
      "Error: 2\n"
     ]
    }
   ],
   "source": [
    "# %%time\n",
    "total = 0\n",
    "count = 0\n",
    "error = 0\n",
    "content = ''\n",
    "with open('wikidata-20150907-star_trek-relevant-rels.json') as f:\n",
    "    content += '[\\n'\n",
    "    for line in f:\n",
    "        try:\n",
    "            total += 1\n",
    "            cleaned = line.strip()[:-1]\n",
    "            d = json.loads(cleaned)\n",
    "            if d['id'] in articles_and_types:\n",
    "                content += line\n",
    "                count += 1\n",
    "        except Exception as e:\n",
    "            error += 1\n",
    "    content += ']'\n",
    "with open('wikidata-20150907-star_trek-relevant-rels-and-types.json', 'w') as f:\n",
    "    f.write(content)\n",
    "print('Total:', total)\n",
    "print('Count:', count)\n",
    "print('Error:', error)"
   ]
  },
  {
   "cell_type": "code",
   "execution_count": 27,
   "metadata": {
    "collapsed": false
   },
   "outputs": [
    {
     "name": "stdout",
     "output_type": "stream",
     "text": [
      "Total: 918\n",
      "Count: 916\n",
      "Error: 2\n"
     ]
    }
   ],
   "source": [
    "# Double check\n",
    "total = 0\n",
    "count = 0\n",
    "error = 0\n",
    "with open('wikidata-20150907-star_trek-relevant-rels-and-types.json') as f:\n",
    "    for line in f:\n",
    "        try:\n",
    "            total += 1\n",
    "            cleaned = line.strip()[:-1]\n",
    "            d = json.loads(cleaned)\n",
    "            count += 1\n",
    "        except Exception as e:\n",
    "            error += 1\n",
    "print('Total:', total)\n",
    "print('Count:', count)\n",
    "print('Error:', error)"
   ]
  },
  {
   "cell_type": "code",
   "execution_count": 28,
   "metadata": {
    "collapsed": true
   },
   "outputs": [],
   "source": [
    "only_relevant_rels_dict = {\n",
    "    'P103': 'native language',\n",
    "    'P1074': 'fictional analog of',\n",
    "    'P1080': 'from fictional universe',\n",
    "    'P1235': 'ISFDB series ID',\n",
    "    'P1237': 'Box Office Mojo film ID',\n",
    "    'P1258': 'Rotten Tomatoes identifier',\n",
    "    'P1265': 'AlloCiné movie ID',\n",
    "    'P135': 'movement',\n",
    "    'P136': 'genre',\n",
    "    'P138': 'named after',\n",
    "    'P1407': 'MusicBrainz series ID',\n",
    "    'P1412': 'languages spoken or published',\n",
    "    'P1434': 'describes the fictional universe',\n",
    "    'P144': 'based on',\n",
    "    'P1441': 'present in work',\n",
    "    'P1445': 'fictional universe described in',\n",
    "    'P1476': 'title',\n",
    "    'P155': 'follows',\n",
    "    'P156': 'followed by',\n",
    "    'P1562': 'AllMovie movie ID',\n",
    "    'P1651': 'YouTube video identifier',\n",
    "    'P17': 'country',\n",
    "    'P1712': 'Metacritic ID',\n",
    "    'P179': 'series',\n",
    "    'P180': 'depicts',\n",
    "    'P1804': 'Danish National Filmography ID',\n",
    "    'P1811': 'list of episodes',\n",
    "    'P1813': 'short name',\n",
    "    'P1970': 'MovieMeter movie ID',\n",
    "    'P2002': 'Twitter username',\n",
    "    'P2003': 'Instagram username',\n",
    "    'P2013': 'Facebook ID',\n",
    "    'P212': 'ISBN-13',\n",
    "    'P243': 'OCLC control number',\n",
    "    'P244': 'LCAuth identifier',\n",
    "    'P268': 'BnF identifier',\n",
    "    'P275': 'license',\n",
    "    'P279': 'subclass of',\n",
    "    'P301': \"category's main topic\",\n",
    "    'P31': 'instance of',\n",
    "    'P345': 'IMDb identifier',\n",
    "    'P348': 'software version',\n",
    "    'P357': '(OBSOLETE) title (use P1476, \"title\")',\n",
    "    'P360': 'is a list of',\n",
    "    'P361': 'part of',\n",
    "    'P364': 'original language of work',\n",
    "    'P37': 'official language',\n",
    "    'P373': 'Commons category',\n",
    "    'P400': 'platform',\n",
    "    'P407': 'language of work (or name)',\n",
    "    'P409': 'NLA (Australia) identifier',\n",
    "    'P433': 'issue',\n",
    "    'P435': 'MusicBrainz work ID',\n",
    "    'P437': 'distribution',\n",
    "    'P449': 'original network',\n",
    "    'P480': 'FilmAffinity identifier',\n",
    "    'P495': 'country of origin',\n",
    "    'P508': 'PIJAS',\n",
    "    'P527': 'has part',\n",
    "    'P553': 'website account on',\n",
    "    'P577': 'publication date',\n",
    "    'P580': 'start time',\n",
    "    'P582': 'end time',\n",
    "    'P625': 'coordinate location',\n",
    "    'P646': 'Freebase identifier',\n",
    "    'P691': 'NKC identifier',\n",
    "    'P800': 'notable work',\n",
    "    'P852': 'ESRB rating',\n",
    "    'P854': 'reference URL',\n",
    "    'P856': 'official website',\n",
    "    'P905': 'PORT film ID',\n",
    "    'P908': 'PEGI rating',\n",
    "    'P910': \"topic's main category\",\n",
    "    'P914': 'USK rating',\n",
    "    'P915': 'filming location',\n",
    "    'P921': 'main subject',\n",
    "    'P941': 'inspired by',\n",
    "    'P950': 'BNE identifier',\n",
    "    'P957': 'ISBN-10'\n",
    "}"
   ]
  },
  {
   "cell_type": "code",
   "execution_count": 29,
   "metadata": {
    "collapsed": true
   },
   "outputs": [],
   "source": [
    "only_relevant_types_dict = {\n",
    "    'Q1114502': 'American comic book',\n",
    "    'Q1137046': 'Star Trek: The Next Generation episode',\n",
    "    'Q11424': 'film',\n",
    "    'Q1257934': 'clip show',\n",
    "    'Q134556': 'single',\n",
    "    'Q15416': 'television program',\n",
    "    'Q186117': 'timeline',\n",
    "    'Q196600': 'media franchise',\n",
    "    'Q1983062': 'episode',\n",
    "    'Q24856': 'film series',\n",
    "    'Q24862': 'short film',\n",
    "    'Q278379': 'a priori language',\n",
    "    'Q3252662': 'series finale',\n",
    "    'Q3297186': 'limited series',\n",
    "    'Q33215': 'constructed language',\n",
    "    'Q3464665': 'television season',\n",
    "    'Q35127': 'website',\n",
    "    'Q386724': 'work',\n",
    "    'Q41298': 'magazine',\n",
    "    'Q4176708': 'soundtrack album',\n",
    "    'Q4234303': 'WikiProject',\n",
    "    'Q482994': 'album',\n",
    "    'Q5398426': 'television series',\n",
    "    'Q559618': 'fictional universe',\n",
    "    'Q571': 'book',\n",
    "    'Q581714': 'animated series',\n",
    "    'Q7889': 'video game',\n",
    "    'Q838795': 'comic strip',\n",
    "}"
   ]
  },
  {
   "cell_type": "code",
   "execution_count": 30,
   "metadata": {
    "collapsed": true
   },
   "outputs": [],
   "source": [
    "relationship_list = [] # final relationships\n",
    "type_list = [] # final types of instances"
   ]
  },
  {
   "cell_type": "code",
   "execution_count": 31,
   "metadata": {
    "collapsed": false
   },
   "outputs": [
    {
     "name": "stdout",
     "output_type": "stream",
     "text": [
      "Total: 918\n",
      "Count: 916\n",
      "Error: 2\n"
     ]
    }
   ],
   "source": [
    "total = 0\n",
    "count = 0\n",
    "error = 0\n",
    "with open('wikidata-20150907-star_trek-relevant-rels-and-types.json') as f:\n",
    "    for line in f:\n",
    "        try:\n",
    "            total += 1\n",
    "            cleaned = line.strip()[:-1]\n",
    "            d = json.loads(cleaned)\n",
    "            for rel in d['claims']:\n",
    "                if rel in only_relevant_rels_dict:\n",
    "                    relationship_list.append(rel)\n",
    "                if rel == 'P31':\n",
    "                    types = d['claims']['P31']\n",
    "                    for t in types:\n",
    "                        typ = 'Q' + str(t['mainsnak']['datavalue']['value']['numeric-id'])\n",
    "                        if typ in only_relevant_types_dict:\n",
    "                            type_list.append(typ)\n",
    "            count += 1\n",
    "        except Exception as e:\n",
    "            error += 1\n",
    "print('Total:', total)\n",
    "print('Count:', count)\n",
    "print('Error:', error)"
   ]
  },
  {
   "cell_type": "code",
   "execution_count": 32,
   "metadata": {
    "collapsed": true
   },
   "outputs": [],
   "source": [
    "final_relationship_dict = {}\n",
    "for r in relationship_list:\n",
    "    final_relationship_dict[r] = only_relevant_rels_dict[r]"
   ]
  },
  {
   "cell_type": "code",
   "execution_count": 33,
   "metadata": {
    "collapsed": false
   },
   "outputs": [],
   "source": [
    "final_type_dict = {}\n",
    "for t in type_list:\n",
    "    final_type_dict[t] = only_relevant_types_dict[t]"
   ]
  },
  {
   "cell_type": "code",
   "execution_count": 38,
   "metadata": {
    "collapsed": false
   },
   "outputs": [
    {
     "data": {
      "text/plain": [
       "79"
      ]
     },
     "execution_count": 38,
     "metadata": {},
     "output_type": "execute_result"
    }
   ],
   "source": [
    "len(only_relevant_rels_dict)"
   ]
  },
  {
   "cell_type": "code",
   "execution_count": 39,
   "metadata": {
    "collapsed": false
   },
   "outputs": [
    {
     "data": {
      "text/plain": [
       "28"
      ]
     },
     "execution_count": 39,
     "metadata": {},
     "output_type": "execute_result"
    }
   ],
   "source": [
    "len(only_relevant_types_dict)"
   ]
  },
  {
   "cell_type": "code",
   "execution_count": 34,
   "metadata": {
    "collapsed": false
   },
   "outputs": [
    {
     "data": {
      "text/plain": [
       "60"
      ]
     },
     "execution_count": 34,
     "metadata": {},
     "output_type": "execute_result"
    }
   ],
   "source": [
    "len(final_relationship_dict)"
   ]
  },
  {
   "cell_type": "code",
   "execution_count": 35,
   "metadata": {
    "collapsed": false
   },
   "outputs": [
    {
     "data": {
      "text/plain": [
       "28"
      ]
     },
     "execution_count": 35,
     "metadata": {},
     "output_type": "execute_result"
    }
   ],
   "source": [
    "len(final_type_dict)"
   ]
  },
  {
   "cell_type": "code",
   "execution_count": 36,
   "metadata": {
    "collapsed": false
   },
   "outputs": [
    {
     "data": {
      "text/plain": [
       "{'P1080': 'from fictional universe',\n",
       " 'P1235': 'ISFDB series ID',\n",
       " 'P1237': 'Box Office Mojo film ID',\n",
       " 'P1258': 'Rotten Tomatoes identifier',\n",
       " 'P1265': 'AlloCiné movie ID',\n",
       " 'P136': 'genre',\n",
       " 'P1407': 'MusicBrainz series ID',\n",
       " 'P1434': 'describes the fictional universe',\n",
       " 'P144': 'based on',\n",
       " 'P1445': 'fictional universe described in',\n",
       " 'P1476': 'title',\n",
       " 'P155': 'follows',\n",
       " 'P156': 'followed by',\n",
       " 'P1562': 'AllMovie movie ID',\n",
       " 'P1651': 'YouTube video identifier',\n",
       " 'P17': 'country',\n",
       " 'P1712': 'Metacritic ID',\n",
       " 'P179': 'series',\n",
       " 'P180': 'depicts',\n",
       " 'P1804': 'Danish National Filmography ID',\n",
       " 'P1811': 'list of episodes',\n",
       " 'P1970': 'MovieMeter movie ID',\n",
       " 'P2002': 'Twitter username',\n",
       " 'P2003': 'Instagram username',\n",
       " 'P2013': 'Facebook ID',\n",
       " 'P212': 'ISBN-13',\n",
       " 'P243': 'OCLC control number',\n",
       " 'P244': 'LCAuth identifier',\n",
       " 'P275': 'license',\n",
       " 'P279': 'subclass of',\n",
       " 'P31': 'instance of',\n",
       " 'P345': 'IMDb identifier',\n",
       " 'P348': 'software version',\n",
       " 'P357': '(OBSOLETE) title (use P1476, \"title\")',\n",
       " 'P361': 'part of',\n",
       " 'P364': 'original language of work',\n",
       " 'P373': 'Commons category',\n",
       " 'P400': 'platform',\n",
       " 'P433': 'issue',\n",
       " 'P437': 'distribution',\n",
       " 'P449': 'original network',\n",
       " 'P480': 'FilmAffinity identifier',\n",
       " 'P495': 'country of origin',\n",
       " 'P508': 'PIJAS',\n",
       " 'P553': 'website account on',\n",
       " 'P577': 'publication date',\n",
       " 'P580': 'start time',\n",
       " 'P582': 'end time',\n",
       " 'P646': 'Freebase identifier',\n",
       " 'P852': 'ESRB rating',\n",
       " 'P854': 'reference URL',\n",
       " 'P856': 'official website',\n",
       " 'P905': 'PORT film ID',\n",
       " 'P908': 'PEGI rating',\n",
       " 'P910': \"topic's main category\",\n",
       " 'P914': 'USK rating',\n",
       " 'P915': 'filming location',\n",
       " 'P921': 'main subject',\n",
       " 'P941': 'inspired by',\n",
       " 'P957': 'ISBN-10'}"
      ]
     },
     "execution_count": 36,
     "metadata": {},
     "output_type": "execute_result"
    }
   ],
   "source": [
    "final_relationship_dict"
   ]
  },
  {
   "cell_type": "code",
   "execution_count": 37,
   "metadata": {
    "collapsed": false
   },
   "outputs": [
    {
     "data": {
      "text/plain": [
       "{'Q1114502': 'American comic book',\n",
       " 'Q1137046': 'Star Trek: The Next Generation episode',\n",
       " 'Q11424': 'film',\n",
       " 'Q1257934': 'clip show',\n",
       " 'Q134556': 'single',\n",
       " 'Q15416': 'television program',\n",
       " 'Q186117': 'timeline',\n",
       " 'Q196600': 'media franchise',\n",
       " 'Q1983062': 'episode',\n",
       " 'Q24856': 'film series',\n",
       " 'Q24862': 'short film',\n",
       " 'Q278379': 'a priori language',\n",
       " 'Q3252662': 'series finale',\n",
       " 'Q3297186': 'limited series',\n",
       " 'Q33215': 'constructed language',\n",
       " 'Q3464665': 'television season',\n",
       " 'Q35127': 'website',\n",
       " 'Q386724': 'work',\n",
       " 'Q41298': 'magazine',\n",
       " 'Q4176708': 'soundtrack album',\n",
       " 'Q4234303': 'WikiProject',\n",
       " 'Q482994': 'album',\n",
       " 'Q5398426': 'television series',\n",
       " 'Q559618': 'fictional universe',\n",
       " 'Q571': 'book',\n",
       " 'Q581714': 'animated series',\n",
       " 'Q7889': 'video game',\n",
       " 'Q838795': 'comic strip'}"
      ]
     },
     "execution_count": 37,
     "metadata": {},
     "output_type": "execute_result"
    }
   ],
   "source": [
    "final_type_dict"
   ]
  },
  {
   "cell_type": "code",
   "execution_count": null,
   "metadata": {
    "collapsed": true
   },
   "outputs": [],
   "source": []
  }
 ],
 "metadata": {
  "kernelspec": {
   "display_name": "Python 3",
   "language": "python",
   "name": "python3"
  },
  "language_info": {
   "codemirror_mode": {
    "name": "ipython",
    "version": 3
   },
   "file_extension": ".py",
   "mimetype": "text/x-python",
   "name": "python",
   "nbconvert_exporter": "python",
   "pygments_lexer": "ipython3",
   "version": "3.4.3"
  }
 },
 "nbformat": 4,
 "nbformat_minor": 0
}
