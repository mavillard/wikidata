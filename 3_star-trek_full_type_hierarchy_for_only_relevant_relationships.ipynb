{
 "cells": [
  {
   "cell_type": "code",
   "execution_count": 1,
   "metadata": {
    "collapsed": false
   },
   "outputs": [],
   "source": [
    "import json\n",
    "import pickle\n",
    "\n",
    "import networkx as nx\n",
    "import requests"
   ]
  },
  {
   "cell_type": "code",
   "execution_count": 2,
   "metadata": {
    "collapsed": false
   },
   "outputs": [],
   "source": [
    "with open('pickle/star-trek_only_relevant_relationships_dict.pickle', 'rb') as f:\n",
    "    only_relevant_relationships_dict = pickle.load(f)"
   ]
  },
  {
   "cell_type": "code",
   "execution_count": 3,
   "metadata": {
    "collapsed": false
   },
   "outputs": [
    {
     "data": {
      "text/plain": [
       "{'P103': 'native language',\n",
       " 'P1074': 'fictional analog of',\n",
       " 'P1080': 'from fictional universe',\n",
       " 'P1235': 'ISFDB series ID',\n",
       " 'P1237': 'Box Office Mojo film ID',\n",
       " 'P1258': 'Rotten Tomatoes identifier',\n",
       " 'P1265': 'AlloCiné movie ID',\n",
       " 'P135': 'movement',\n",
       " 'P136': 'genre',\n",
       " 'P138': 'named after',\n",
       " 'P1407': 'MusicBrainz series ID',\n",
       " 'P1412': 'languages spoken or published',\n",
       " 'P1434': 'describes the fictional universe',\n",
       " 'P144': 'based on',\n",
       " 'P1441': 'present in work',\n",
       " 'P1445': 'fictional universe described in',\n",
       " 'P1476': 'title',\n",
       " 'P155': 'follows',\n",
       " 'P156': 'followed by',\n",
       " 'P1562': 'AllMovie movie ID',\n",
       " 'P1651': 'YouTube video identifier',\n",
       " 'P17': 'country',\n",
       " 'P1712': 'Metacritic ID',\n",
       " 'P179': 'series',\n",
       " 'P180': 'depicts',\n",
       " 'P1804': 'Danish National Filmography ID',\n",
       " 'P1811': 'list of episodes',\n",
       " 'P1813': 'short name',\n",
       " 'P1970': 'MovieMeter movie ID',\n",
       " 'P2002': 'Twitter username',\n",
       " 'P2003': 'Instagram username',\n",
       " 'P2013': 'Facebook ID',\n",
       " 'P212': 'ISBN-13',\n",
       " 'P243': 'OCLC control number',\n",
       " 'P244': 'LCAuth identifier',\n",
       " 'P268': 'BnF identifier',\n",
       " 'P275': 'license',\n",
       " 'P279': 'subclass of',\n",
       " 'P301': \"category's main topic\",\n",
       " 'P31': 'instance of',\n",
       " 'P345': 'IMDb identifier',\n",
       " 'P348': 'software version',\n",
       " 'P357': '(OBSOLETE) title (use P1476, \"title\")',\n",
       " 'P360': 'is a list of',\n",
       " 'P361': 'part of',\n",
       " 'P364': 'original language of work',\n",
       " 'P37': 'official language',\n",
       " 'P373': 'Commons category',\n",
       " 'P400': 'platform',\n",
       " 'P407': 'language of work (or name)',\n",
       " 'P409': 'NLA (Australia) identifier',\n",
       " 'P433': 'issue',\n",
       " 'P435': 'MusicBrainz work ID',\n",
       " 'P437': 'distribution',\n",
       " 'P449': 'original network',\n",
       " 'P480': 'FilmAffinity identifier',\n",
       " 'P495': 'country of origin',\n",
       " 'P508': 'PIJAS',\n",
       " 'P527': 'has part',\n",
       " 'P553': 'website account on',\n",
       " 'P577': 'publication date',\n",
       " 'P580': 'start time',\n",
       " 'P582': 'end time',\n",
       " 'P625': 'coordinate location',\n",
       " 'P646': 'Freebase identifier',\n",
       " 'P691': 'NKC identifier',\n",
       " 'P800': 'notable work',\n",
       " 'P852': 'ESRB rating',\n",
       " 'P854': 'reference URL',\n",
       " 'P856': 'official website',\n",
       " 'P905': 'PORT film ID',\n",
       " 'P908': 'PEGI rating',\n",
       " 'P910': \"topic's main category\",\n",
       " 'P914': 'USK rating',\n",
       " 'P915': 'filming location',\n",
       " 'P921': 'main subject',\n",
       " 'P941': 'inspired by',\n",
       " 'P950': 'BNE identifier',\n",
       " 'P957': 'ISBN-10'}"
      ]
     },
     "execution_count": 3,
     "metadata": {},
     "output_type": "execute_result"
    }
   ],
   "source": [
    "only_relevant_relationships_dict"
   ]
  },
  {
   "cell_type": "code",
   "execution_count": 4,
   "metadata": {
    "collapsed": true
   },
   "outputs": [],
   "source": [
    "hierarchy = nx.DiGraph()\n",
    "processed = set()"
   ]
  },
  {
   "cell_type": "code",
   "execution_count": 5,
   "metadata": {
    "collapsed": true
   },
   "outputs": [],
   "source": [
    "def add_to_hierarchy(c):\n",
    "    if c not in processed:\n",
    "        hierarchy.add_node(c)\n",
    "        base_url = 'https://www.wikidata.org/w/api.php'\n",
    "        payload = {'action': 'wbgetentities', 'ids': c, 'languages': 'en', 'format': 'json'}\n",
    "        r = requests.get(base_url, params=payload)\n",
    "        response = r.json()\n",
    "        d = response['entities'][c]\n",
    "        if 'claims' in d and 'P279' in d['claims']:\n",
    "            for rel_inst in d['claims']['P279']:\n",
    "                if 'datavalue' in rel_inst['mainsnak']:\n",
    "                    super_c = 'Q' + str(rel_inst['mainsnak']['datavalue']['value']['numeric-id'])\n",
    "                    hierarchy.add_node(super_c)\n",
    "                    hierarchy.add_edge(c, super_c, {'type': 'subclass'})\n",
    "                    hierarchy.add_edge(super_c, c, {'type': 'superclass'})\n",
    "                    add_to_hierarchy(super_c)\n",
    "        processed.add(c)"
   ]
  },
  {
   "cell_type": "code",
   "execution_count": 6,
   "metadata": {
    "collapsed": false
   },
   "outputs": [
    {
     "name": "stdout",
     "output_type": "stream",
     "text": [
      "Expecting value: line 1 column 1 (char 0)\n",
      "Expecting value: line 1 column 1 (char 0)\n",
      "Total: 1630\n",
      "Count: 1628\n",
      "Error: 2\n",
      "CPU times: user 30.6 s, sys: 799 ms, total: 31.4 s\n",
      "Wall time: 5min 46s\n"
     ]
    }
   ],
   "source": [
    "%%time\n",
    "total = 0\n",
    "count = 0\n",
    "error = 0\n",
    "with open('data/wikidata-20150907-star_trek.json') as f:\n",
    "    for line in f:\n",
    "        try:\n",
    "            total += 1\n",
    "            cleaned = line.strip()[:-1]\n",
    "            d = json.loads(cleaned)\n",
    "            for rel in d['claims']:\n",
    "                if rel in only_relevant_relationships_dict:\n",
    "                    for rel_inst in d['claims'][rel]:\n",
    "                        type_rel = rel_inst['mainsnak']['datavalue']['type']\n",
    "                        if type_rel == 'wikibase-entityid':\n",
    "                            typ = 'Q' + str(rel_inst['mainsnak']['datavalue']['value']['numeric-id'])\n",
    "                            add_to_hierarchy(typ)\n",
    "            count += 1\n",
    "        except Exception as e:\n",
    "            print(e)\n",
    "            error += 1\n",
    "print('Total:', total)\n",
    "print('Count:', count)\n",
    "print('Error:', error)"
   ]
  },
  {
   "cell_type": "code",
   "execution_count": 7,
   "metadata": {
    "collapsed": true
   },
   "outputs": [],
   "source": [
    "with open('pickle/star-trek_hierarchy_graph.pickle', 'wb') as f:\n",
    "    pickle.dump(hierarchy, f)"
   ]
  },
  {
   "cell_type": "code",
   "execution_count": null,
   "metadata": {
    "collapsed": true
   },
   "outputs": [],
   "source": []
  }
 ],
 "metadata": {
  "kernelspec": {
   "display_name": "Python 3",
   "language": "python",
   "name": "python3"
  },
  "language_info": {
   "codemirror_mode": {
    "name": "ipython",
    "version": 3
   },
   "file_extension": ".py",
   "mimetype": "text/x-python",
   "name": "python",
   "nbconvert_exporter": "python",
   "pygments_lexer": "ipython3",
   "version": "3.4.3"
  }
 },
 "nbformat": 4,
 "nbformat_minor": 0
}
