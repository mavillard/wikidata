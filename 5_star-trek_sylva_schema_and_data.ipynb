{
 "cells": [
  {
   "cell_type": "code",
   "execution_count": 2,
   "metadata": {
    "collapsed": false
   },
   "outputs": [],
   "source": [
    "import pickle\n",
    "\n",
    "import networkx as nx\n",
    "import requests"
   ]
  },
  {
   "cell_type": "code",
   "execution_count": 7,
   "metadata": {
    "collapsed": false
   },
   "outputs": [],
   "source": [
    "with open('pickle/star-trek_only_relevant_properties_dict.pickle', 'rb') as f:\n",
    "    only_relevant_properties_dict = pickle.load(f)\n",
    "\n",
    "with open('pickle/star-trek_wikidata_types_to_sylva_classes.pickle', 'rb') as f:\n",
    "    wikidata_types_to_sylva_classes = pickle.load(f)\n",
    "\n",
    "with open('pickle/star-trek_only_relevant_instances_dict.pickle', 'rb') as f:\n",
    "    only_relevant_instances_dict = pickle.load(f)"
   ]
  },
  {
   "cell_type": "code",
   "execution_count": 8,
   "metadata": {
    "collapsed": true
   },
   "outputs": [],
   "source": [
    "graph = nx.DiGraph() # network"
   ]
  },
  {
   "cell_type": "code",
   "execution_count": 9,
   "metadata": {
    "collapsed": false
   },
   "outputs": [],
   "source": [
    "# for ide in only_relevant_instances_dict:\n",
    "#     assert(only_relevant_instances_dict[ide]['type'] in only_relevant_types_dict)\n",
    "#     for prop in only_relevant_instances_dict[ide]['properties']:\n",
    "#         assert(prop in only_relevant_properties_dict)"
   ]
  },
  {
   "cell_type": "code",
   "execution_count": 18,
   "metadata": {
    "collapsed": true
   },
   "outputs": [],
   "source": [
    "g = nx.DiGraph()\n",
    "g.add_node(1)\n",
    "g.add_edge(1,2)"
   ]
  },
  {
   "cell_type": "code",
   "execution_count": 19,
   "metadata": {
    "collapsed": false
   },
   "outputs": [
    {
     "data": {
      "text/plain": [
       "[(1, {}), (2, {})]"
      ]
     },
     "execution_count": 19,
     "metadata": {},
     "output_type": "execute_result"
    }
   ],
   "source": [
    "g.nodes(data=True)"
   ]
  },
  {
   "cell_type": "code",
   "execution_count": 20,
   "metadata": {
    "collapsed": true
   },
   "outputs": [],
   "source": [
    "g.add_node(2,{'d':1})"
   ]
  },
  {
   "cell_type": "code",
   "execution_count": 21,
   "metadata": {
    "collapsed": false
   },
   "outputs": [
    {
     "data": {
      "text/plain": [
       "[(1, {}), (2, {'d': 1})]"
      ]
     },
     "execution_count": 21,
     "metadata": {},
     "output_type": "execute_result"
    }
   ],
   "source": [
    "g.nodes(data=True)"
   ]
  },
  {
   "cell_type": "code",
   "execution_count": 22,
   "metadata": {
    "collapsed": false
   },
   "outputs": [
    {
     "data": {
      "text/plain": [
       "[(1, 2, {})]"
      ]
     },
     "execution_count": 22,
     "metadata": {},
     "output_type": "execute_result"
    }
   ],
   "source": [
    "g.edges(data=True)"
   ]
  },
  {
   "cell_type": "code",
   "execution_count": null,
   "metadata": {
    "collapsed": true
   },
   "outputs": [],
   "source": []
  },
  {
   "cell_type": "code",
   "execution_count": 13,
   "metadata": {
    "collapsed": false
   },
   "outputs": [
    {
     "data": {
      "text/plain": [
       "{'Q25366': {'description': 'Star Trek: The Original Series episode',\n",
       "  'id': 'Q25366',\n",
       "  'name': 'Where No Man Has Gone Before',\n",
       "  'properties': {'P155': [{'qualifiers': {}, 'value': 'Q20909'},\n",
       "    {'qualifiers': {}, 'value': 'Q2659593'}],\n",
       "   'P156': [{'qualifiers': {}, 'value': 'Q1187077'},\n",
       "    {'qualifiers': {}, 'value': 'Q2984478'}],\n",
       "   'P179': [{'qualifiers': {}, 'value': 'Q1077'}],\n",
       "   'P345': [{'qualifiers': {}, 'value': 'tt0061027'}],\n",
       "   'P361': [{'qualifiers': {}, 'value': 'Q747598'}],\n",
       "   'P364': [{'qualifiers': {}, 'value': 'Q1860'}],\n",
       "   'P495': [{'qualifiers': {}, 'value': 'Q30'}],\n",
       "   'P577': [{'qualifiers': {'P17': ['Q30']}, 'value': '1966-09-22'},\n",
       "    {'qualifiers': {'P17': ['Q183']}, 'value': '1973-10-06'},\n",
       "    {'qualifiers': {'P17': ['Q142']}, 'value': '1986-05-07'}],\n",
       "   'P646': [{'qualifiers': {}, 'value': '/m/023x20'}]},\n",
       "  'type': 'Q1983062',\n",
       "  'wikilink': 'Where No Man Has Gone Before'}}"
      ]
     },
     "execution_count": 13,
     "metadata": {},
     "output_type": "execute_result"
    }
   ],
   "source": [
    "{'Q25366': {'description': 'Star Trek: The Original Series episode',\n",
    "  'id': 'Q25366',\n",
    "  'name': 'Where No Man Has Gone Before',\n",
    "  'properties': {'P155': [{'qualifiers': {}, 'value': 'Q20909'},\n",
    "    {'qualifiers': {}, 'value': 'Q2659593'}],\n",
    "   'P156': [{'qualifiers': {}, 'value': 'Q1187077'},\n",
    "    {'qualifiers': {}, 'value': 'Q2984478'}],\n",
    "   'P179': [{'qualifiers': {}, 'value': 'Q1077'}],\n",
    "   'P345': [{'qualifiers': {}, 'value': 'tt0061027'}],\n",
    "   'P361': [{'qualifiers': {}, 'value': 'Q747598'}],\n",
    "   'P364': [{'qualifiers': {}, 'value': 'Q1860'}],\n",
    "   'P495': [{'qualifiers': {}, 'value': 'Q30'}],\n",
    "   'P577': [{'qualifiers': {'P17': ['Q30']}, 'value': '1966-09-22'},\n",
    "    {'qualifiers': {'P17': ['Q183']}, 'value': '1973-10-06'},\n",
    "    {'qualifiers': {'P17': ['Q142']}, 'value': '1986-05-07'}],\n",
    "   'P646': [{'qualifiers': {}, 'value': '/m/023x20'}]},\n",
    "  'type': 'Q1983062',\n",
    "  'wikilink': 'Where No Man Has Gone Before'}}"
   ]
  },
  {
   "cell_type": "code",
   "execution_count": null,
   "metadata": {
    "collapsed": true
   },
   "outputs": [],
   "source": [
    "# Properties and qualifiers\n",
    "#\n",
    "# If no qualifiers\n",
    "#\n",
    "# Option 1) value: string\n",
    "# Actions:\n",
    "# Property type: attribute\n",
    "# Property name: property name\n",
    "# Property value: value\n",
    "# Property attributes: none\n",
    "# More than one qualifier: -\n",
    "# More than one value: list separated by ||\n",
    "#\n",
    "# Option 2) value: object\n",
    "# Actions:\n",
    "# Property type: relationship\n",
    "# Property name: property name\n",
    "# Property value: value\n",
    "# Property attributes: none\n",
    "# More than one qualifier: -\n",
    "# More than one value: a new relationship in the node for each value\n",
    "#\n",
    "# If qualifiers\n",
    "#\n",
    "# Option a) qualifier: string, value: string\n",
    "# Actions:\n",
    "# Property type: attribute\n",
    "# Property name: property name + qualifier value\n",
    "# Property value: value\n",
    "# Property attributes: none\n",
    "# More than one qualifier: ?????????\n",
    "# More than one value: a new attribute in the class for each value\n",
    "#\n",
    "# Option b) qualifier: string, value: object\n",
    "# Actions:\n",
    "# Property type: relationship\n",
    "# Property name: property name\n",
    "# Property value: value\n",
    "# Property attributes: {qualifier name: qualifier value}\n",
    "# More than one qualifier: ?????????\n",
    "# More than one value: a new relationship in the node for each value\n",
    "#\n",
    "# Option c) qualifier: object, value: string\n",
    "# Actions:\n",
    "# Property type: relationship\n",
    "# Property name: qualifier name\n",
    "# Property value: qualifier value\n",
    "# Property attributes: {property name: value}\n",
    "# More than one qualifier: ?????????\n",
    "# More than one value: a new relationship in the node for each value\n",
    "#\n",
    "# Option d) qualifier: object, value: object\n",
    "# Actions:\n",
    "# Property type: relationship\n",
    "# Property name: qualifier name\n",
    "# Property value: qualifier value\n",
    "# Property attributes: {property name: value (ide)}\n",
    "# More than one qualifier: ?????????\n",
    "# More than one value: a new relationship in the node for each value"
   ]
  },
  {
   "cell_type": "code",
   "execution_count": null,
   "metadata": {
    "collapsed": true
   },
   "outputs": [],
   "source": [
    "%%time\n",
    "\n",
    "for ide in only_relevant_instances_dict:\n",
    "    info = only_relevant_instances_dict[ide]\n",
    "    base = {\n",
    "        'id': info['id'],\n",
    "        'type': wikidata_types_to_sylva_classes[info['type']],\n",
    "        'name': info['name'],\n",
    "        'wikilink': info['wikilink'],\n",
    "        'description': info['description'],\n",
    "    }\n",
    "    for prop in info['properties']:\n",
    "        \n",
    "\n",
    "\n",
    "with open('wikidata-20150907-star_trek-relevant-rels-and-types.json') as f:\n",
    "    for line in f:\n",
    "        try:\n",
    "            total += 1\n",
    "            cleaned = line.strip()[:-1]\n",
    "            d = json.loads(cleaned)\n",
    "            id1 = d['id']\n",
    "            for rel in d['claims']:\n",
    "                for rel_inst in d['claims'][rel]:\n",
    "                    type_rel = rel_inst['mainsnak']['datavalue']['type']\n",
    "                    id2 = None\n",
    "                    if type_rel == 'wikibase-entityid':\n",
    "                        value = rel_inst['mainsnak']['datavalue']['value']['numeric-id']\n",
    "                        id2 = 'Q' + str(value)\n",
    "                    graph[rel].append((id1, id2))\n",
    "                    count += 1\n",
    "        except Exception as e:\n",
    "            error += 1\n",
    "print('Total:', total)\n",
    "print('Count:', count)\n",
    "print('Error:', error)"
   ]
  }
 ],
 "metadata": {
  "kernelspec": {
   "display_name": "Python 3",
   "language": "python",
   "name": "python3"
  },
  "language_info": {
   "codemirror_mode": {
    "name": "ipython",
    "version": 3
   },
   "file_extension": ".py",
   "mimetype": "text/x-python",
   "name": "python",
   "nbconvert_exporter": "python",
   "pygments_lexer": "ipython3",
   "version": "3.4.3"
  }
 },
 "nbformat": 4,
 "nbformat_minor": 0
}
