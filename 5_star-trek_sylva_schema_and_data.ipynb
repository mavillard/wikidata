{
 "cells": [
  {
   "cell_type": "code",
   "execution_count": 4,
   "metadata": {
    "collapsed": false
   },
   "outputs": [],
   "source": [
    "import pickle\n",
    "\n",
    "import networkx as nx\n",
    "import requests"
   ]
  },
  {
   "cell_type": "code",
   "execution_count": 5,
   "metadata": {
    "collapsed": false
   },
   "outputs": [],
   "source": [
    "with open('pickle/star-trek_only_relevant_properties_dict.pickle', 'rb') as f:\n",
    "    only_relevant_properties_dict = pickle.load(f)\n",
    "\n",
    "with open('pickle/star-trek_wikidata_types_to_sylva_classes.pickle', 'rb') as f:\n",
    "    wikidata_types_to_sylva_classes = pickle.load(f)\n",
    "\n",
    "with open('pickle/star-trek_only_relevant_instances_dict.pickle', 'rb') as f:\n",
    "    only_relevant_instances_dict = pickle.load(f)"
   ]
  },
  {
   "cell_type": "code",
   "execution_count": null,
   "metadata": {
    "collapsed": true
   },
   "outputs": [],
   "source": [
    "graph = nx.DiGraph() # network"
   ]
  },
  {
   "cell_type": "code",
   "execution_count": null,
   "metadata": {
    "collapsed": true
   },
   "outputs": [],
   "source": [
    "for ide in only_relevant_instances_dict:\n",
    "    assert(only_relevant_instances_dict[ide]['type'] in only_relevant_types_dict)\n",
    "    for prop in only_relevant_instances_dict[ide]['properties']:\n",
    "        assert(prop in only_relevant_properties_dict)"
   ]
  },
  {
   "cell_type": "code",
   "execution_count": null,
   "metadata": {
    "collapsed": true
   },
   "outputs": [],
   "source": [
    "%%time\n",
    "\n",
    "for ide in only_relevant_instances_dict:\n",
    "\n",
    "\n",
    "\n",
    "with open('wikidata-20150907-star_trek-relevant-rels-and-types.json') as f:\n",
    "    for line in f:\n",
    "        try:\n",
    "            total += 1\n",
    "            cleaned = line.strip()[:-1]\n",
    "            d = json.loads(cleaned)\n",
    "            id1 = d['id']\n",
    "            for rel in d['claims']:\n",
    "                for rel_inst in d['claims'][rel]:\n",
    "                    type_rel = rel_inst['mainsnak']['datavalue']['type']\n",
    "                    id2 = None\n",
    "                    if type_rel == 'wikibase-entityid':\n",
    "                        value = rel_inst['mainsnak']['datavalue']['value']['numeric-id']\n",
    "                        id2 = 'Q' + str(value)\n",
    "                    graph[rel].append((id1, id2))\n",
    "                    count += 1\n",
    "        except Exception as e:\n",
    "            error += 1\n",
    "print('Total:', total)\n",
    "print('Count:', count)\n",
    "print('Error:', error)"
   ]
  }
 ],
 "metadata": {
  "kernelspec": {
   "display_name": "Python 3",
   "language": "python",
   "name": "python3"
  },
  "language_info": {
   "codemirror_mode": {
    "name": "ipython",
    "version": 3
   },
   "file_extension": ".py",
   "mimetype": "text/x-python",
   "name": "python",
   "nbconvert_exporter": "python",
   "pygments_lexer": "ipython3",
   "version": "3.4.3"
  }
 },
 "nbformat": 4,
 "nbformat_minor": 0
}
