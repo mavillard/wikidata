{
 "cells": [
  {
   "cell_type": "code",
   "execution_count": 1,
   "metadata": {
    "collapsed": false
   },
   "outputs": [],
   "source": [
    "import json\n",
    "import pickle\n",
    "\n",
    "import requests"
   ]
  },
  {
   "cell_type": "code",
   "execution_count": 2,
   "metadata": {
    "collapsed": true
   },
   "outputs": [],
   "source": [
    "def get_value_and_type(prop_inst):\n",
    "    if 'mainsnak' in prop_inst: # for properties themselves\n",
    "        main_info = prop_inst['mainsnak']\n",
    "    else: # for qualifiers\n",
    "        main_info = prop_inst\n",
    "    if 'datavalue' in main_info:\n",
    "        prop_type = main_info['datavalue']['type']\n",
    "        if prop_type == 'wikibase-entityid':\n",
    "            value = 'Q{}'.format(main_info['datavalue']['value']['numeric-id'])\n",
    "            typ = 'object'\n",
    "        elif prop_type == 'string':\n",
    "            value = str(main_info['datavalue']['value'])\n",
    "            typ = 'string'\n",
    "        elif prop_type == 'time':\n",
    "            value = str(main_info['datavalue']['value']['time'][1:11])\n",
    "            typ = 'date'\n",
    "        elif prop_type == 'monolingualtext':\n",
    "            value = str(main_info['datavalue']['value']['text'])\n",
    "            typ = 'string'\n",
    "        elif prop_type == 'quantity':\n",
    "            value = str(main_info['datavalue']['value']['amount'])\n",
    "            typ = 'number'\n",
    "        elif prop_type == 'globecoordinate':\n",
    "            latitude = main_info['datavalue']['value']['latitude']\n",
    "            longitude = main_info['datavalue']['value']['longitude']\n",
    "            value = '({}, {})'.format(latitude, longitude)\n",
    "            typ = 'string'\n",
    "        else:\n",
    "            raise Exception('Unknown property type')\n",
    "    else:\n",
    "        value, typ = None, None\n",
    "    return (value, typ)"
   ]
  },
  {
   "cell_type": "code",
   "execution_count": 3,
   "metadata": {
    "collapsed": true
   },
   "outputs": [],
   "source": [
    "def get_property_info(d):\n",
    "    if 'labels' in d and 'en' in d['labels']:\n",
    "        name = d['labels']['en']['value']\n",
    "    else:\n",
    "        name = ''\n",
    "    if 'descriptions' in d and 'en' in d['descriptions']:\n",
    "        description = d['descriptions']['en']['value']\n",
    "    else:\n",
    "        description = ''\n",
    "    info = {\n",
    "        'name': name,\n",
    "        'description': description,\n",
    "    }\n",
    "    return info\n",
    "\n",
    "def get_superclasses(d):\n",
    "    superclasses = set()\n",
    "    if 'claims' in d and 'P279' in d['claims']:\n",
    "        for prop_inst in d['claims']['P279']:\n",
    "            value = get_value_and_type(prop_inst)[0]\n",
    "            superclasses.add(value)\n",
    "    return superclasses\n",
    "\n",
    "def get_types(d):\n",
    "    types = set()\n",
    "    if 'claims' in d and 'P31' in d['claims']:\n",
    "        for prop_inst in d['claims']['P31']:\n",
    "            value = get_value_and_type(prop_inst)[0]\n",
    "            types.add(value)\n",
    "    return types\n",
    "\n",
    "def get_instance_info(d):\n",
    "    if 'labels' in d and 'en' in d['labels']:\n",
    "        name = d['labels']['en']['value']\n",
    "    else:\n",
    "        name = ''\n",
    "    if 'sitelinks' in d and 'enwiki' in d['sitelinks']:\n",
    "        wikilink = d['sitelinks']['enwiki']['title']\n",
    "    else:\n",
    "        wikilink = ''\n",
    "    if 'descriptions' in d and 'en' in d['descriptions']:\n",
    "        description = d['descriptions']['en']['value']\n",
    "    else:\n",
    "        description = ''\n",
    "    info = {\n",
    "        'name': name,\n",
    "        'wikilink': wikilink,\n",
    "        'description': description,\n",
    "    }\n",
    "    return info"
   ]
  },
  {
   "cell_type": "code",
   "execution_count": 4,
   "metadata": {
    "collapsed": false
   },
   "outputs": [],
   "source": [
    "all_properties_set = set() # all properties (relationships and attributes)\n",
    "first_types_set = set() # types of source instances\n",
    "all_instances_set = set() # all instances"
   ]
  },
  {
   "cell_type": "code",
   "execution_count": 5,
   "metadata": {
    "collapsed": false
   },
   "outputs": [],
   "source": [
    "first_instances_dict = {} # source instances, info, and types"
   ]
  },
  {
   "cell_type": "code",
   "execution_count": 6,
   "metadata": {
    "collapsed": false
   },
   "outputs": [
    {
     "name": "stdout",
     "output_type": "stream",
     "text": [
      "Total: 1630\n",
      "Count: 1628\n",
      "Error: 2\n",
      "CPU times: user 258 ms, sys: 3.27 ms, total: 262 ms\n",
      "Wall time: 261 ms\n"
     ]
    }
   ],
   "source": [
    "%%time\n",
    "\n",
    "total = 0\n",
    "count = 0\n",
    "error = 0\n",
    "with open('data/wikidata-20150907-star_trek.json') as f:\n",
    "    for line in f:\n",
    "        try:\n",
    "            total += 1\n",
    "            cleaned = line.strip()[:-1]\n",
    "            d = json.loads(cleaned)\n",
    "            ide = d['id']\n",
    "            info = get_instance_info(d)\n",
    "            first_instances_dict[ide] = info\n",
    "            first_instances_dict[ide]['types'] = set()\n",
    "            all_instances_set.add(ide)\n",
    "            for prop in d['claims']:\n",
    "                all_properties_set.add(prop)\n",
    "                for prop_inst in d['claims'][prop]:\n",
    "                    value, typ = get_value_and_type(prop_inst)\n",
    "                    if typ == 'object':\n",
    "                        all_instances_set.add(value)\n",
    "                        if prop == 'P31':\n",
    "                            first_types_set.add(value)\n",
    "                            first_instances_dict[ide]['types'].add(value)\n",
    "                    if 'qualifiers' in prop_inst:\n",
    "                        for q in prop_inst['qualifiers']:\n",
    "                            all_properties_set.add(q)\n",
    "                            for q_inst in prop_inst['qualifiers'][q]:\n",
    "                                q_value, q_type = get_value_and_type(q_inst)\n",
    "                                if q_type == 'object':\n",
    "                                    all_instances_set.add(q_value)\n",
    "            count += 1\n",
    "        except Exception as e:\n",
    "            error += 1\n",
    "print('Total:', total)\n",
    "print('Count:', count)\n",
    "print('Error:', error)"
   ]
  },
  {
   "cell_type": "code",
   "execution_count": 7,
   "metadata": {
    "collapsed": false
   },
   "outputs": [
    {
     "data": {
      "text/plain": [
       "182"
      ]
     },
     "execution_count": 7,
     "metadata": {},
     "output_type": "execute_result"
    }
   ],
   "source": [
    "len(all_properties_set)"
   ]
  },
  {
   "cell_type": "code",
   "execution_count": 8,
   "metadata": {
    "collapsed": false
   },
   "outputs": [
    {
     "data": {
      "text/plain": [
       "67"
      ]
     },
     "execution_count": 8,
     "metadata": {},
     "output_type": "execute_result"
    }
   ],
   "source": [
    "len(first_types_set)"
   ]
  },
  {
   "cell_type": "code",
   "execution_count": 9,
   "metadata": {
    "collapsed": false
   },
   "outputs": [
    {
     "data": {
      "text/plain": [
       "2602"
      ]
     },
     "execution_count": 9,
     "metadata": {},
     "output_type": "execute_result"
    }
   ],
   "source": [
    "len(all_instances_set)"
   ]
  },
  {
   "cell_type": "code",
   "execution_count": 10,
   "metadata": {
    "collapsed": false
   },
   "outputs": [
    {
     "data": {
      "text/plain": [
       "1628"
      ]
     },
     "execution_count": 10,
     "metadata": {},
     "output_type": "execute_result"
    }
   ],
   "source": [
    "len(first_instances_dict)"
   ]
  },
  {
   "cell_type": "code",
   "execution_count": 11,
   "metadata": {
    "collapsed": false
   },
   "outputs": [],
   "source": [
    "rest_instances_set = all_instances_set.difference(first_instances_dict)"
   ]
  },
  {
   "cell_type": "code",
   "execution_count": 12,
   "metadata": {
    "collapsed": false
   },
   "outputs": [
    {
     "data": {
      "text/plain": [
       "974"
      ]
     },
     "execution_count": 12,
     "metadata": {},
     "output_type": "execute_result"
    }
   ],
   "source": [
    "len(rest_instances_set)"
   ]
  },
  {
   "cell_type": "code",
   "execution_count": 13,
   "metadata": {
    "collapsed": true
   },
   "outputs": [],
   "source": [
    "all_properties_list = list(all_properties_set)\n",
    "rest_instances_list = list(rest_instances_set)"
   ]
  },
  {
   "cell_type": "code",
   "execution_count": 14,
   "metadata": {
    "collapsed": true
   },
   "outputs": [],
   "source": [
    "all_properties_dict = {}\n",
    "rest_instances_dict = {}"
   ]
  },
  {
   "cell_type": "code",
   "execution_count": 15,
   "metadata": {
    "collapsed": false
   },
   "outputs": [
    {
     "name": "stdout",
     "output_type": "stream",
     "text": [
      "CPU times: user 1.43 s, sys: 83.7 ms, total: 1.52 s\n",
      "Wall time: 21.3 s\n"
     ]
    }
   ],
   "source": [
    "%%time\n",
    "\n",
    "base_url = 'https://www.wikidata.org/w/api.php'\n",
    "limit = 50\n",
    "\n",
    "chunks = [all_properties_list[x:x+limit] for x in range(0, len(all_properties_list), limit)]\n",
    "for chunk in chunks:\n",
    "    property_ids = '|'.join(chunk)\n",
    "    payload = {'action': 'wbgetentities', 'ids': property_ids, 'languages': 'en', 'format': 'json'}\n",
    "    r = requests.get(base_url, params=payload)\n",
    "    response = r.json()\n",
    "    entities = response['entities']\n",
    "    for ide in entities:\n",
    "        all_properties_dict[ide] = get_property_info(entities[ide])\n",
    "\n",
    "chunks = [rest_instances_list[x:x+limit] for x in range(0, len(rest_instances_list), limit)]\n",
    "for chunk in chunks:\n",
    "    instance_ids = '|'.join(chunk)\n",
    "    payload = {'action': 'wbgetentities', 'ids': instance_ids, 'languages': 'en', 'format': 'json'}\n",
    "    r = requests.get(base_url, params=payload)\n",
    "    response = r.json()\n",
    "    entities = response['entities']\n",
    "    for ide in entities:\n",
    "        rest_instances_dict[ide] = get_instance_info(entities[ide])\n",
    "        rest_instances_dict[ide]['types'] = get_types(entities[ide])"
   ]
  },
  {
   "cell_type": "code",
   "execution_count": 16,
   "metadata": {
    "collapsed": false
   },
   "outputs": [
    {
     "data": {
      "text/plain": [
       "182"
      ]
     },
     "execution_count": 16,
     "metadata": {},
     "output_type": "execute_result"
    }
   ],
   "source": [
    "len(all_properties_dict)"
   ]
  },
  {
   "cell_type": "code",
   "execution_count": 17,
   "metadata": {
    "collapsed": false
   },
   "outputs": [
    {
     "data": {
      "text/plain": [
       "974"
      ]
     },
     "execution_count": 17,
     "metadata": {},
     "output_type": "execute_result"
    }
   ],
   "source": [
    "len(rest_instances_dict)"
   ]
  },
  {
   "cell_type": "code",
   "execution_count": 18,
   "metadata": {
    "collapsed": true
   },
   "outputs": [],
   "source": [
    "rest_types_set = set()\n",
    "for ide in rest_instances_dict:\n",
    "    rest_types_set = rest_types_set.union(rest_instances_dict[ide]['types'])"
   ]
  },
  {
   "cell_type": "code",
   "execution_count": 19,
   "metadata": {
    "collapsed": false
   },
   "outputs": [
    {
     "data": {
      "text/plain": [
       "168"
      ]
     },
     "execution_count": 19,
     "metadata": {},
     "output_type": "execute_result"
    }
   ],
   "source": [
    "len(rest_types_set)"
   ]
  },
  {
   "cell_type": "code",
   "execution_count": 20,
   "metadata": {
    "collapsed": true
   },
   "outputs": [],
   "source": [
    "all_types_set = first_types_set.union(rest_types_set)"
   ]
  },
  {
   "cell_type": "code",
   "execution_count": 21,
   "metadata": {
    "collapsed": true
   },
   "outputs": [],
   "source": [
    "all_types_list = list(all_types_set)"
   ]
  },
  {
   "cell_type": "code",
   "execution_count": 22,
   "metadata": {
    "collapsed": true
   },
   "outputs": [],
   "source": [
    "all_types_dict = {}"
   ]
  },
  {
   "cell_type": "code",
   "execution_count": 23,
   "metadata": {
    "collapsed": false
   },
   "outputs": [
    {
     "name": "stdout",
     "output_type": "stream",
     "text": [
      "CPU times: user 233 ms, sys: 16.1 ms, total: 249 ms\n",
      "Wall time: 3.06 s\n"
     ]
    }
   ],
   "source": [
    "%%time\n",
    "\n",
    "base_url = 'https://www.wikidata.org/w/api.php'\n",
    "limit = 50\n",
    "\n",
    "chunks = [all_types_list[x:x+limit] for x in range(0, len(all_types_list), limit)]\n",
    "for chunk in chunks:\n",
    "    type_ids = '|'.join(chunk)\n",
    "    payload = {'action': 'wbgetentities', 'ids': type_ids, 'languages': 'en', 'format': 'json'}\n",
    "    r = requests.get(base_url, params=payload)\n",
    "    response = r.json()\n",
    "    entities = response['entities']\n",
    "    for ide in entities:\n",
    "        all_types_dict[ide] = get_instance_info(entities[ide])\n",
    "        all_types_dict[ide]['superclasses'] = get_superclasses(entities[ide])    "
   ]
  },
  {
   "cell_type": "code",
   "execution_count": 24,
   "metadata": {
    "collapsed": false
   },
   "outputs": [
    {
     "data": {
      "text/plain": [
       "215"
      ]
     },
     "execution_count": 24,
     "metadata": {},
     "output_type": "execute_result"
    }
   ],
   "source": [
    "len(all_types_dict)"
   ]
  },
  {
   "cell_type": "code",
   "execution_count": 25,
   "metadata": {
    "collapsed": true
   },
   "outputs": [],
   "source": [
    "all_instances_dict = dict(first_instances_dict)\n",
    "all_instances_dict.update(rest_instances_dict)"
   ]
  },
  {
   "cell_type": "code",
   "execution_count": 26,
   "metadata": {
    "collapsed": false
   },
   "outputs": [
    {
     "data": {
      "text/plain": [
       "2602"
      ]
     },
     "execution_count": 26,
     "metadata": {},
     "output_type": "execute_result"
    }
   ],
   "source": [
    "len(all_instances_dict)"
   ]
  },
  {
   "cell_type": "code",
   "execution_count": 27,
   "metadata": {
    "collapsed": false
   },
   "outputs": [
    {
     "name": "stdout",
     "output_type": "stream",
     "text": [
      "Properties: 182\n",
      "Types: 215\n",
      "Instances: 2602\n"
     ]
    }
   ],
   "source": [
    "# Summary\n",
    "print('Properties:', len(all_properties_dict))\n",
    "print('Types:', len(all_types_dict))\n",
    "print('Instances:', len(all_instances_dict))"
   ]
  },
  {
   "cell_type": "code",
   "execution_count": 28,
   "metadata": {
    "collapsed": true
   },
   "outputs": [],
   "source": [
    "with open('pickle/star-trek_all_properties_dict.pickle', 'wb') as f:\n",
    "    pickle.dump(all_properties_dict, f)\n",
    "\n",
    "with open('pickle/star-trek_all_types_dict.pickle', 'wb') as f:\n",
    "    pickle.dump(all_types_dict, f)\n",
    "\n",
    "with open('pickle/star-trek_all_instances_dict.pickle', 'wb') as f:\n",
    "    pickle.dump(all_instances_dict, f)"
   ]
  },
  {
   "cell_type": "code",
   "execution_count": null,
   "metadata": {
    "collapsed": true
   },
   "outputs": [],
   "source": []
  }
 ],
 "metadata": {
  "kernelspec": {
   "display_name": "Python 3",
   "language": "python",
   "name": "python3"
  },
  "language_info": {
   "codemirror_mode": {
    "name": "ipython",
    "version": 3
   },
   "file_extension": ".py",
   "mimetype": "text/x-python",
   "name": "python",
   "nbconvert_exporter": "python",
   "pygments_lexer": "ipython3",
   "version": "3.4.3"
  }
 },
 "nbformat": 4,
 "nbformat_minor": 0
}
